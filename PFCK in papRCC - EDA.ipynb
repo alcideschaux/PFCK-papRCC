{
 "cells": [
  {
   "cell_type": "code",
   "execution_count": 1,
   "metadata": {},
   "outputs": [],
   "source": [
    "# Libraries\n",
    "suppressPackageStartupMessages(library(tidyverse))\n",
    "\n",
    "# Global options\n",
    "options(warn = -1)\n",
    "\n",
    "# Loading the data\n",
    "load(\"DF.Rdata\")"
   ]
  },
  {
   "cell_type": "markdown",
   "metadata": {},
   "source": [
    "# Clinicopathologic and outcome features"
   ]
  },
  {
   "cell_type": "code",
   "execution_count": 2,
   "metadata": {},
   "outputs": [
    {
     "name": "stdout",
     "output_type": "stream",
     "text": [
      "Observations: 78\n",
      "Variables: 14\n",
      "$ sp          <fct> S04-01139, S04-02221, S04-05892, S04-12937, S04-13242, S0…\n",
      "$ sex         <fct> Male, Male, Female, Male, Male, Male, Male, Male, Male, M…\n",
      "$ age         <dbl> 56.00, 80.00, 56.00, 39.00, 55.00, 51.00, 52.00, 39.00, 6…\n",
      "$ race        <fct> White, Asian, Black, Other, White, White, White, White, B…\n",
      "$ other_tumor <fct> No, No, No, No, No, No, No, Prostate, No, No, Prostate, N…\n",
      "$ size        <dbl> 1.5, 3.5, 13.5, 3.0, 2.0, 3.5, 3.0, 3.6, 4.0, 6.7, 4.0, 8…\n",
      "$ fuhrman     <fct> Grade 3, Grade 2, Grade 3, Grade 2, Grade 2, Grade 2, Gra…\n",
      "$ focality    <fct> Focal tumor, Focal tumor, Focal tumor, Focal tumor, Focal…\n",
      "$ pt_stage    <fct> pT1a, pT1a, pT3a, pT1a, pT1a, pT3a, pT1a, pT1a, pT1b, pT2…\n",
      "$ margins     <fct> Negative margins, Negative margins, Negative margins, NA,…\n",
      "$ follow_up   <dbl> NA, 75.33333, 106.13333, 99.13333, 96.53333, 92.83333, 71…\n",
      "$ progression <fct> No tumor progression, No tumor progression, No tumor prog…\n",
      "$ death       <fct> AND + AWD, DOC + DOD, AND + AWD, AND + AWD, AND + AWD, AN…\n",
      "$ dod         <fct> AND + AWD + DOC, AND + AWD + DOC, AND + AWD + DOC, AND + …\n"
     ]
    }
   ],
   "source": [
    "# Glimpse of the clinicopathologic dataset\n",
    "glimpse(DF.Clinical)"
   ]
  },
  {
   "cell_type": "code",
   "execution_count": 3,
   "metadata": {},
   "outputs": [],
   "source": [
    "# Functions for describing clinicopathologic features\n",
    "# Argument 'x' refers to the variable under evaluation\n",
    "\n",
    "# Summary for a numeric variable\n",
    "summary_num_x <- function(data, x) {\n",
    "\n",
    "    x <- enquo(x)\n",
    "    \n",
    "    num_x <- data %>%\n",
    "        summarize(\n",
    "            N = n(),\n",
    "            Mean = mean(!! x, na.rm = TRUE),\n",
    "            SD = sd(!! x, na.rm = TRUE),\n",
    "            Median = median(!! x, na.rm = TRUE),\n",
    "            IQR = IQR(!! x, na.rm = TRUE),\n",
    "            Min = min(!! x, na.rm = TRUE),\n",
    "            Max = max(!! x, na.rm = TRUE),\n",
    "            Missing = sum(is.na(!! x))\n",
    "        )\n",
    "    \n",
    "    print(num_x)\n",
    "}\n",
    "\n",
    "# Summary for a factor (categorical) variable\n",
    "summary_fct_x <- function(data, x) {\n",
    "    \n",
    "    x <- enquo(x)\n",
    "    \n",
    "    fct_x <- data %>%\n",
    "        count(!! x) %>%\n",
    "        mutate(freq = n / sum(n) * 100) %>%\n",
    "        rename(Levels = !! x) %>%\n",
    "        mutate(freq = round(freq,  digits = 1))\n",
    "\n",
    "    print(fct_x)\n",
    "\n",
    "}"
   ]
  },
  {
   "cell_type": "markdown",
   "metadata": {
    "lines_to_next_cell": 0
   },
   "source": [
    "## Clinical features\n",
    "### Age, in years"
   ]
  },
  {
   "cell_type": "code",
   "execution_count": 4,
   "metadata": {},
   "outputs": [
    {
     "name": "stdout",
     "output_type": "stream",
     "text": [
      "# A tibble: 1 x 8\n",
      "      N  Mean    SD Median   IQR   Min   Max Missing\n",
      "  <int> <dbl> <dbl>  <dbl> <dbl> <dbl> <dbl>   <int>\n",
      "1    78  61.5  12.8     63  16.7    29  85.4       0\n"
     ]
    }
   ],
   "source": [
    "DF.Clinical %>% summary_num_x(age)"
   ]
  },
  {
   "cell_type": "markdown",
   "metadata": {
    "lines_to_next_cell": 0
   },
   "source": [
    "### Sex"
   ]
  },
  {
   "cell_type": "code",
   "execution_count": 5,
   "metadata": {},
   "outputs": [
    {
     "name": "stdout",
     "output_type": "stream",
     "text": [
      "# A tibble: 2 x 3\n",
      "  Levels     n  freq\n",
      "  <fct>  <int> <dbl>\n",
      "1 Male      63  80.8\n",
      "2 Female    15  19.2\n"
     ]
    }
   ],
   "source": [
    "DF.Clinical %>% summary_fct_x(sex)"
   ]
  },
  {
   "cell_type": "markdown",
   "metadata": {
    "lines_to_next_cell": 0
   },
   "source": [
    "### Race"
   ]
  },
  {
   "cell_type": "code",
   "execution_count": 6,
   "metadata": {},
   "outputs": [
    {
     "name": "stdout",
     "output_type": "stream",
     "text": [
      "# A tibble: 5 x 3\n",
      "  Levels     n  freq\n",
      "  <fct>  <int> <dbl>\n",
      "1 White     46  59  \n",
      "2 Asian      2   2.6\n",
      "3 Black     24  30.8\n",
      "4 Other      1   1.3\n",
      "5 <NA>       5   6.4\n"
     ]
    }
   ],
   "source": [
    "DF.Clinical %>% summary_fct_x(race)"
   ]
  },
  {
   "cell_type": "markdown",
   "metadata": {
    "lines_to_next_cell": 0
   },
   "source": [
    "## Pathologic features\n",
    "### Fuhrman grade"
   ]
  },
  {
   "cell_type": "code",
   "execution_count": 7,
   "metadata": {},
   "outputs": [
    {
     "name": "stdout",
     "output_type": "stream",
     "text": [
      "# A tibble: 5 x 3\n",
      "  Levels      n  freq\n",
      "  <fct>   <int> <dbl>\n",
      "1 Grade 1     2   2.6\n",
      "2 Grade 2    34  43.6\n",
      "3 Grade 3    29  37.2\n",
      "4 Grade 4    10  12.8\n",
      "5 <NA>        3   3.8\n"
     ]
    }
   ],
   "source": [
    "DF.Clinical %>% summary_fct_x(fuhrman)"
   ]
  },
  {
   "cell_type": "markdown",
   "metadata": {
    "lines_to_next_cell": 0
   },
   "source": [
    "### pT stage"
   ]
  },
  {
   "cell_type": "code",
   "execution_count": 8,
   "metadata": {
    "lines_to_next_cell": 2
   },
   "outputs": [
    {
     "name": "stdout",
     "output_type": "stream",
     "text": [
      "# A tibble: 9 x 3\n",
      "  Levels     n  freq\n",
      "  <fct>  <int> <dbl>\n",
      "1 pTx        1   1.3\n",
      "2 pT1a      29  37.2\n",
      "3 pT1b       9  11.5\n",
      "4 pT2a       5   6.4\n",
      "5 pT2b       6   7.7\n",
      "6 pT3a      23  29.5\n",
      "7 pT3b       2   2.6\n",
      "8 pT4        1   1.3\n",
      "9 <NA>       2   2.6\n"
     ]
    }
   ],
   "source": [
    "DF.Clinical %>% summary_fct_x(pt_stage)"
   ]
  },
  {
   "cell_type": "markdown",
   "metadata": {
    "lines_to_next_cell": 0
   },
   "source": [
    "### Tumor size, in cm"
   ]
  },
  {
   "cell_type": "code",
   "execution_count": 9,
   "metadata": {},
   "outputs": [
    {
     "name": "stdout",
     "output_type": "stream",
     "text": [
      "# A tibble: 1 x 8\n",
      "      N  Mean    SD Median   IQR   Min   Max Missing\n",
      "  <int> <dbl> <dbl>  <dbl> <dbl> <dbl> <dbl>   <int>\n",
      "1    78  5.85  3.85    4.1   5.5   0.6    15       3\n"
     ]
    }
   ],
   "source": [
    "DF.Clinical %>% summary_num_x(size)"
   ]
  },
  {
   "cell_type": "markdown",
   "metadata": {
    "lines_to_next_cell": 0
   },
   "source": [
    "### Tumor focality"
   ]
  },
  {
   "cell_type": "code",
   "execution_count": 10,
   "metadata": {},
   "outputs": [
    {
     "name": "stdout",
     "output_type": "stream",
     "text": [
      "# A tibble: 3 x 3\n",
      "  Levels               n  freq\n",
      "  <fct>            <int> <dbl>\n",
      "1 Focal tumor         60  76.9\n",
      "2 Multifocal tumor    16  20.5\n",
      "3 <NA>                 2   2.6\n"
     ]
    }
   ],
   "source": [
    "DF.Clinical %>% summary_fct_x(focality)"
   ]
  },
  {
   "cell_type": "markdown",
   "metadata": {
    "lines_to_next_cell": 0
   },
   "source": [
    "## Outcome features\n",
    "### Follow-up, in months"
   ]
  },
  {
   "cell_type": "code",
   "execution_count": 11,
   "metadata": {},
   "outputs": [
    {
     "name": "stdout",
     "output_type": "stream",
     "text": [
      "# A tibble: 1 x 8\n",
      "      N  Mean    SD Median   IQR   Min   Max Missing\n",
      "  <int> <dbl> <dbl>  <dbl> <dbl> <dbl> <dbl>   <int>\n",
      "1    78  58.8  31.5   67.4  52.5   0.2  106.      10\n"
     ]
    }
   ],
   "source": [
    "DF.Clinical %>% summary_num_x(follow_up)"
   ]
  },
  {
   "cell_type": "markdown",
   "metadata": {
    "lines_to_next_cell": 0
   },
   "source": [
    "### Tumor progression"
   ]
  },
  {
   "cell_type": "code",
   "execution_count": 12,
   "metadata": {},
   "outputs": [
    {
     "name": "stdout",
     "output_type": "stream",
     "text": [
      "# A tibble: 3 x 3\n",
      "  Levels                   n  freq\n",
      "  <fct>                <int> <dbl>\n",
      "1 No tumor progression    60  76.9\n",
      "2 Tumor progression       16  20.5\n",
      "3 <NA>                     2   2.6\n"
     ]
    }
   ],
   "source": [
    "DF.Clinical %>% summary_fct_x(progression)"
   ]
  },
  {
   "cell_type": "markdown",
   "metadata": {
    "lines_to_next_cell": 0
   },
   "source": [
    "### Overall mortality"
   ]
  },
  {
   "cell_type": "code",
   "execution_count": 13,
   "metadata": {},
   "outputs": [
    {
     "name": "stdout",
     "output_type": "stream",
     "text": [
      "# A tibble: 2 x 3\n",
      "  Levels        n  freq\n",
      "  <fct>     <int> <dbl>\n",
      "1 AND + AWD    49  62.8\n",
      "2 DOC + DOD    29  37.2\n"
     ]
    }
   ],
   "source": [
    "DF.Clinical %>% summary_fct_x(death)"
   ]
  },
  {
   "cell_type": "markdown",
   "metadata": {
    "lines_to_next_cell": 0
   },
   "source": [
    "### Cancer-related mortality"
   ]
  },
  {
   "cell_type": "code",
   "execution_count": 14,
   "metadata": {},
   "outputs": [
    {
     "name": "stdout",
     "output_type": "stream",
     "text": [
      "# A tibble: 3 x 3\n",
      "  Levels              n  freq\n",
      "  <fct>           <int> <dbl>\n",
      "1 AND + AWD + DOC    48  61.5\n",
      "2 DOD                11  14.1\n",
      "3 <NA>               19  24.4\n"
     ]
    }
   ],
   "source": [
    "DF.Clinical %>% summary_fct_x(dod)"
   ]
  },
  {
   "cell_type": "markdown",
   "metadata": {
    "lines_to_next_cell": 0
   },
   "source": [
    "# Expression by tissue type"
   ]
  },
  {
   "cell_type": "code",
   "execution_count": 15,
   "metadata": {},
   "outputs": [
    {
     "name": "stdout",
     "output_type": "stream",
     "text": [
      "Observations: 285\n",
      "Variables: 75\n",
      "$ sp                               <fct> S05-00916, S05-00916, S05-00916, S05…\n",
      "$ tma                              <fct> 606/607, 606/607, 606/607, 606/607, …\n",
      "$ pt_stage                         <ord> pT2a, pT2a, pT2a, pT2a, pT1b, pT1b, …\n",
      "$ fuhrman                          <ord> NA, NA, NA, NA, Grade 2, Grade 2, Gr…\n",
      "$ focality                         <fct> Focal tumor, Focal tumor, Focal tumo…\n",
      "$ margins                          <fct> Negative margins, Negative margins, …\n",
      "$ size                             <dbl> 7.5, 7.5, 7.5, 7.5, 7.0, 7.0, 7.0, 7…\n",
      "$ age                              <dbl> 53, 53, 53, 53, 62, 62, 62, 62, 54, …\n",
      "$ sex                              <fct> Male, Male, Male, Male, Male, Male, …\n",
      "$ race                             <fct> Black, Black, Black, Black, White, W…\n",
      "$ other_tumor                      <fct> No, No, No, No, No, No, No, No, No, …\n",
      "$ death                            <fct> DOC + DOD, DOC + DOD, DOC + DOD, DOC…\n",
      "$ dod                              <fct> AND + AWD + DOC, AND + AWD + DOC, AN…\n",
      "$ progression                      <fct> No tumor progression, No tumor progr…\n",
      "$ follow_up                        <dbl> 21.33333, 21.33333, 21.33333, 21.333…\n",
      "$ pdl1_normal                      <dbl> 0, 0, 0, 0, 0, 0, 0, 0, 0, 0, 0, 0, …\n",
      "$ pdl1_normal_location             <fct> No staining, No staining, No stainin…\n",
      "$ pdl1_normal_h                    <dbl> 0, 0, 0, 0, 0, 0, 0, 0, 0, 0, 0, 0, …\n",
      "$ pdl1_normal_stroma               <dbl> 0, 0, 0, 0, 0, 0, 0, 0, 0, 0, 0, 0, …\n",
      "$ normal_host_response             <dbl> 0, 0, 0, 0, 0, 0, 0, 0, 0, 0, 0, 0, …\n",
      "$ foxp3_normal_lymph               <dbl> 0, 0, 0, 0, 0, 0, 0, 0, 0, 0, 0, 0, …\n",
      "$ foxp3_normal_lymph_stroma        <dbl> 0, 2, 0, 0, 0, 0, 0, 0, 0, 0, 0, 0, …\n",
      "$ foxp3_normal_lymph_intensity     <fct> No staining, No staining, No stainin…\n",
      "$ foxp3_normal_intensity           <fct> No staining, No staining, No stainin…\n",
      "$ foxp3_normal                     <dbl> 0, 0, 0, 0, 0, 0, 0, 0, 0, 0, 0, 0, …\n",
      "$ cd8_normal                       <dbl> 2, 2, 1, 3, 0, 0, 0, 0, 0, 0, 0, 0, …\n",
      "$ cd8ki67_normal                   <dbl> 0, 0, 0, 0, 0, 0, 0, 0, 0, 0, 0, 0, …\n",
      "$ cd8_normal_stroma                <dbl> 12, 8, 9, 14, 0, 1, 0, 0, 0, 0, 1, 0…\n",
      "$ cd8ki67_normal_stroma            <dbl> 0, 0, 0, 0, 0, 0, 0, 0, 0, 0, 0, 0, …\n",
      "$ ki67_normal                      <dbl> 0, 0, 0, 0, 0, 0, 0, 0, 0, 0, 0, 0, …\n",
      "$ pdl1_tumor                       <dbl> 0.00, 0.00, 0.00, 0.00, 0.00, 0.00, …\n",
      "$ pdl1_tumor_location              <fct> No staining, No staining, No stainin…\n",
      "$ pdl1_tumor_h                     <dbl> 0.00, 0.00, 0.00, 0.00, 0.00, 0.00, …\n",
      "$ pdl1_tumor_stroma                <dbl> 10, 10, 40, 0, 0, NA, 10, NA, 0, 0, …\n",
      "$ tumor_host_response              <dbl> 2, 2, 2, 2, 1, 0, 2, NA, 1, 1, 1, 1,…\n",
      "$ foxp3_tumor_lymph                <dbl> 1, 1, 3, 1, 3, 0, 3, 0, 0, 0, 0, 1, …\n",
      "$ foxp3_tumor_lymph_stroma         <dbl> 1, 2, 5, 8, 0, 0, 8, 2, 1, 0, 0, 3, …\n",
      "$ foxp3_tumor_lymph_intensity      <fct> Moderate staining, Strong staining, …\n",
      "$ foxp3_tumor_intensity            <fct> No staining, No staining, No stainin…\n",
      "$ foxp3_tumor                      <dbl> 0, 0, 0, 0, 0, 0, 0, 0, 0, 0, 0, 0, …\n",
      "$ cd8_tumor                        <dbl> 17, 13, 8, 12, 2, 3, 25, NA, 1, 0, 1…\n",
      "$ cd8ki67_tumor                    <dbl> 0, 0, 0, 0, 0, 0, 0, NA, 0, 0, 0, 0,…\n",
      "$ cd8_tumor_stroma                 <dbl> 3, 18, 47, 20, 11, 3, 85, 46, 18, 0,…\n",
      "$ cd8ki67_tumor_stroma             <dbl> 0, 0, 0, 0, 0, 0, 1, 0, 0, 0, 0, 0, …\n",
      "$ ki67_tumor                       <dbl> 0, 0, 0, 0, 100, 10, 100, NA, 0, 100…\n",
      "$ tumor_type                       <chr> NA, NA, NA, NA, NA, NA, NA, NA, NA, …\n",
      "$ pdl1_metastatic                  <dbl> NA, NA, NA, NA, NA, NA, NA, NA, NA, …\n",
      "$ pdl1_metastatic_location         <fct> NA, NA, NA, NA, NA, NA, NA, NA, NA, …\n",
      "$ pdl1_metastatic_h                <dbl> NA, NA, NA, NA, NA, NA, NA, NA, NA, …\n",
      "$ pdl1_metastatic_stroma           <dbl> NA, NA, NA, NA, NA, NA, NA, NA, NA, …\n",
      "$ metastatic_host_response         <dbl> NA, NA, NA, NA, NA, NA, NA, NA, NA, …\n",
      "$ foxp3_metastatic_lymph           <dbl> NA, NA, NA, NA, NA, NA, NA, NA, NA, …\n",
      "$ foxp3_metastatic_lymph_stroma    <dbl> NA, NA, NA, NA, NA, NA, NA, NA, NA, …\n",
      "$ foxp3_metastatic_lymph_intensity <fct> NA, NA, NA, NA, NA, NA, NA, NA, NA, …\n",
      "$ foxp3_metastatic_intensity       <fct> NA, NA, NA, NA, NA, NA, NA, NA, NA, …\n",
      "$ foxp3_metastatic                 <dbl> NA, NA, NA, NA, NA, NA, NA, NA, NA, …\n",
      "$ cd8_metastatic                   <dbl> NA, NA, NA, NA, NA, NA, NA, NA, NA, …\n",
      "$ cd8ki67_metastatic               <dbl> NA, NA, NA, NA, NA, NA, NA, NA, NA, …\n",
      "$ cd8_metastatic_stroma            <dbl> NA, NA, NA, NA, NA, NA, NA, NA, NA, …\n",
      "$ cd8ki67_metastatic_stroma        <dbl> NA, NA, NA, NA, NA, NA, NA, NA, NA, …\n",
      "$ ki67_metastatic                  <dbl> NA, NA, NA, NA, NA, NA, NA, NA, NA, …\n",
      "$ age_group                        <fct> Younger age group, Younger age group…\n",
      "$ size_group                       <fct> Larger tumor, Larger tumor, Larger t…\n",
      "$ cd8foxp3_tumor                   <fct> CD8 > FOXP3, CD8 > FOXP3, CD8 > FOXP…\n",
      "$ cd8foxp3_stroma                  <fct> CD8 > FOXP3, CD8 > FOXP3, CD8 > FOXP…\n",
      "$ pdl1_tumor_p50                   <fct> Low PD-L1, Low PD-L1, Low PD-L1, Low…\n",
      "$ pdl1_tumor_h_p50                 <fct> Low PD-L1, Low PD-L1, Low PD-L1, Low…\n",
      "$ pdl1_tumor_stroma_p50            <fct> High PD-L1, High PD-L1, High PD-L1, …\n",
      "$ foxp3_tumor_p50                  <fct> Low FOXP3, Low FOXP3, Low FOXP3, Low…\n",
      "$ foxp3_tumor_lymph_p50            <fct> Low FOXP3, Low FOXP3, High FOXP3, Lo…\n",
      "$ foxp3_tumor_lymph_stroma_p50     <fct> High FOXP3, High FOXP3, High FOXP3, …\n",
      "$ cd8_tumor_p50                    <fct> High CD8, High CD8, High CD8, High C…\n",
      "$ cd8_tumor_stroma_p50             <fct> High CD8, High CD8, High CD8, High C…\n",
      "$ cd8ki67_tumor_p50                <fct> Low CD8/Ki67, Low CD8/Ki67, Low CD8/…\n",
      "$ ki67_tumor_p50                   <fct> Low Ki67, Low Ki67, Low Ki67, Low Ki…\n"
     ]
    }
   ],
   "source": [
    "glimpse(DF)"
   ]
  },
  {
   "cell_type": "code",
   "execution_count": 16,
   "metadata": {},
   "outputs": [],
   "source": [
    "# A function to summarize biomarkers expression by tissue type and test the associations\n",
    "# 'x' refers to the expression in nontumor tissues\n",
    "# 'y' refers to the expression in primary tumors\n",
    "# 'z' refers to the expression in metastatic tumors\n",
    "\n",
    "summary_by <- function(data, x, y, z) {\n",
    "    \n",
    "    x <- enquo(x)\n",
    "    y <- enquo(y)\n",
    "    z <- enquo(z)\n",
    "    \n",
    "    # Tidying the data\n",
    "    df <- data %>%\n",
    "        select(!! x, !! y, !! z) %>%\n",
    "        gather(tissue_type, biomarker_expression) %>%\n",
    "        mutate(\n",
    "            tissue_type = str_replace_all(\n",
    "                tissue_type, c(\n",
    "                    \".*_normal.*\" = \"Non-tumor epithelium\",\n",
    "                    \".*_tumor.*\" = \"Primary tumor\",\n",
    "                    \".*_metastatic.*\" = \"Metastatic tumor\"\n",
    "                )\n",
    "            ),\n",
    "            tissue_type = fct_relevel(\n",
    "                tissue_type,\n",
    "                \"Metastatic tumor\", after = Inf\n",
    "            )\n",
    "        )\n",
    "    \n",
    "    # Creating summary table\n",
    "    summary_biomarker <- df %>%\n",
    "        group_by(tissue_type) %>%\n",
    "        summarize(\n",
    "            N = n(),\n",
    "            Mean = mean(biomarker_expression, na.rm = TRUE),\n",
    "            SD = sd(biomarker_expression, na.rm = TRUE),\n",
    "            Median = median(biomarker_expression, na.rm = TRUE),\n",
    "            IQR = IQR(biomarker_expression, na.rm = TRUE),\n",
    "            Min = min(biomarker_expression, na.rm = TRUE),\n",
    "            Max = max(biomarker_expression, na.rm = TRUE),\n",
    "            Missing = sum(is.na(biomarker_expression))\n",
    "        ) %>%\n",
    "        rename(\n",
    "            \"Tissue type\" = tissue_type\n",
    "        )\n",
    "\n",
    "    # Testing for overall associations\n",
    "    kw_biomarker <- kruskal.test(\n",
    "        formula = biomarker_expression ~ tissue_type,\n",
    "        data = df\n",
    "    )\n",
    "    \n",
    "    # Testing for pairwise associations\n",
    "    pairwise_biomarker <- with(\n",
    "        df,\n",
    "        pairwise.wilcox.test(\n",
    "            x = biomarker_expression,\n",
    "            g = tissue_type,\n",
    "            p.adjust.method = \"bonferroni\"\n",
    "        )\n",
    "    )\n",
    "    \n",
    "    # Printing the results\n",
    "    print(summary_biomarker)\n",
    "    print(kw_biomarker)\n",
    "    print(pairwise_biomarker)\n",
    "    \n",
    "}"
   ]
  },
  {
   "cell_type": "markdown",
   "metadata": {
    "lines_to_next_cell": 0
   },
   "source": [
    "## PD-L1\n",
    "### Epithelial cells"
   ]
  },
  {
   "cell_type": "code",
   "execution_count": 17,
   "metadata": {},
   "outputs": [
    {
     "name": "stdout",
     "output_type": "stream",
     "text": [
      "# A tibble: 3 x 9\n",
      "  `Tissue type`            N  Mean    SD Median   IQR   Min   Max Missing\n",
      "  <fct>                <int> <dbl> <dbl>  <dbl> <dbl> <dbl> <dbl>   <int>\n",
      "1 Non-tumor epithelium   285  0      0        0     0     0     0      34\n",
      "2 Primary tumor          285  5.43  19.7      0     0     0   100      15\n",
      "3 Metastatic tumor       285  8.73  24.0      0     0     0    95     228\n",
      "\n",
      "\tKruskal-Wallis rank sum test\n",
      "\n",
      "data:  biomarker_expression by tissue_type\n",
      "Kruskal-Wallis chi-squared = 56.117, df = 2, p-value = 6.521e-13\n",
      "\n",
      "\n",
      "\tPairwise comparisons using Wilcoxon rank sum test \n",
      "\n",
      "data:  biomarker_expression and tissue_type \n",
      "\n",
      "                 Non-tumor epithelium Primary tumor\n",
      "Primary tumor    4.6e-12              -            \n",
      "Metastatic tumor 3.2e-15              0.69         \n",
      "\n",
      "P value adjustment method: bonferroni \n"
     ]
    }
   ],
   "source": [
    "DF %>% summary_by(pdl1_normal, pdl1_tumor, pdl1_metastatic)"
   ]
  },
  {
   "cell_type": "markdown",
   "metadata": {
    "lines_to_next_cell": 0
   },
   "source": [
    "### Peritumoral lymphocytes"
   ]
  },
  {
   "cell_type": "code",
   "execution_count": 18,
   "metadata": {},
   "outputs": [
    {
     "name": "stdout",
     "output_type": "stream",
     "text": [
      "# A tibble: 3 x 9\n",
      "  `Tissue type`            N  Mean    SD Median   IQR   Min   Max Missing\n",
      "  <fct>                <int> <dbl> <dbl>  <dbl> <dbl> <dbl> <dbl>   <int>\n",
      "1 Non-tumor epithelium   285  0      0        0     0     0     0       0\n",
      "2 Primary tumor          285  2.74  12.0      0     0     0   100     102\n",
      "3 Metastatic tumor       285  0      0        0     0     0     0     225\n",
      "\n",
      "\tKruskal-Wallis rank sum test\n",
      "\n",
      "data:  biomarker_expression by tissue_type\n",
      "Kruskal-Wallis chi-squared = 51.416, df = 2, p-value = 6.842e-12\n",
      "\n",
      "\n",
      "\tPairwise comparisons using Wilcoxon rank sum test \n",
      "\n",
      "data:  biomarker_expression and tissue_type \n",
      "\n",
      "                 Non-tumor epithelium Primary tumor\n",
      "Primary tumor    1.3e-10              -            \n",
      "Metastatic tumor -                    0.0042       \n",
      "\n",
      "P value adjustment method: bonferroni \n"
     ]
    }
   ],
   "source": [
    "DF %>% summary_by(pdl1_normal_stroma, pdl1_tumor_stroma, pdl1_metastatic_stroma)"
   ]
  },
  {
   "cell_type": "markdown",
   "metadata": {
    "lines_to_next_cell": 0
   },
   "source": [
    "## FOXP3\n",
    "### Intratumoral lymphocytes"
   ]
  },
  {
   "cell_type": "code",
   "execution_count": 19,
   "metadata": {},
   "outputs": [
    {
     "name": "stdout",
     "output_type": "stream",
     "text": [
      "# A tibble: 3 x 9\n",
      "  `Tissue type`            N  Mean    SD Median   IQR   Min   Max Missing\n",
      "  <fct>                <int> <dbl> <dbl>  <dbl> <dbl> <dbl> <dbl>   <int>\n",
      "1 Non-tumor epithelium   285 0.225 0.711      0  0        0     6      36\n",
      "2 Primary tumor          285 1.88  3.83       1  2        0    30       8\n",
      "3 Metastatic tumor       285 3.20  5.36       1  3.25     0    23     229\n",
      "\n",
      "\tKruskal-Wallis rank sum test\n",
      "\n",
      "data:  biomarker_expression by tissue_type\n",
      "Kruskal-Wallis chi-squared = 97.421, df = 2, p-value < 2.2e-16\n",
      "\n",
      "\n",
      "\tPairwise comparisons using Wilcoxon rank sum test \n",
      "\n",
      "data:  biomarker_expression and tissue_type \n",
      "\n",
      "                 Non-tumor epithelium Primary tumor\n",
      "Primary tumor    < 2e-16              -            \n",
      "Metastatic tumor 1.6e-12              0.48         \n",
      "\n",
      "P value adjustment method: bonferroni \n"
     ]
    }
   ],
   "source": [
    "DF %>% summary_by(foxp3_normal_lymph, foxp3_tumor_lymph, foxp3_metastatic_lymph)"
   ]
  },
  {
   "cell_type": "markdown",
   "metadata": {
    "lines_to_next_cell": 0
   },
   "source": [
    "### Peritumoral lymphocytes"
   ]
  },
  {
   "cell_type": "code",
   "execution_count": 20,
   "metadata": {},
   "outputs": [
    {
     "name": "stdout",
     "output_type": "stream",
     "text": [
      "# A tibble: 3 x 9\n",
      "  `Tissue type`            N  Mean    SD Median   IQR   Min   Max Missing\n",
      "  <fct>                <int> <dbl> <dbl>  <dbl> <dbl> <dbl> <dbl>   <int>\n",
      "1 Non-tumor epithelium   285 1.08   5.49      0     0     0    55      47\n",
      "2 Primary tumor          285 0.526  1.74      0     0     0    15      38\n",
      "3 Metastatic tumor       285 3.12   6.30      0     3     0    30     226\n",
      "\n",
      "\tKruskal-Wallis rank sum test\n",
      "\n",
      "data:  biomarker_expression by tissue_type\n",
      "Kruskal-Wallis chi-squared = 25.299, df = 2, p-value = 3.21e-06\n",
      "\n",
      "\n",
      "\tPairwise comparisons using Wilcoxon rank sum test \n",
      "\n",
      "data:  biomarker_expression and tissue_type \n",
      "\n",
      "                 Non-tumor epithelium Primary tumor\n",
      "Primary tumor    1                    -            \n",
      "Metastatic tumor 3.6e-05              7.7e-06      \n",
      "\n",
      "P value adjustment method: bonferroni \n"
     ]
    }
   ],
   "source": [
    "DF %>% summary_by(foxp3_normal_lymph_stroma, foxp3_tumor_lymph_stroma, foxp3_metastatic_lymph_stroma)"
   ]
  },
  {
   "cell_type": "markdown",
   "metadata": {
    "lines_to_next_cell": 0
   },
   "source": [
    "### Tumor cells"
   ]
  },
  {
   "cell_type": "code",
   "execution_count": 21,
   "metadata": {},
   "outputs": [
    {
     "name": "stdout",
     "output_type": "stream",
     "text": [
      "# A tibble: 3 x 9\n",
      "  `Tissue type`            N    Mean     SD Median   IQR   Min   Max Missing\n",
      "  <fct>                <int>   <dbl>  <dbl>  <dbl> <dbl> <dbl> <dbl>   <int>\n",
      "1 Non-tumor epithelium   285 0.00398 0.0631      0     0     0     1      34\n",
      "2 Primary tumor          285 0.175   1.46        0     0     0    15       0\n",
      "3 Metastatic tumor       285 0       0           0     0     0     0     216\n",
      "\n",
      "\tKruskal-Wallis rank sum test\n",
      "\n",
      "data:  biomarker_expression by tissue_type\n",
      "Kruskal-Wallis chi-squared = 4.3338, df = 2, p-value = 0.1145\n",
      "\n",
      "\n",
      "\tPairwise comparisons using Wilcoxon rank sum test \n",
      "\n",
      "data:  biomarker_expression and tissue_type \n",
      "\n",
      "                 Non-tumor epithelium Primary tumor\n",
      "Primary tumor    0.24                 -            \n",
      "Metastatic tumor 1.00                 0.68         \n",
      "\n",
      "P value adjustment method: bonferroni \n"
     ]
    }
   ],
   "source": [
    "DF %>% summary_by(foxp3_normal, foxp3_tumor, foxp3_metastatic)"
   ]
  },
  {
   "cell_type": "markdown",
   "metadata": {
    "lines_to_next_cell": 0
   },
   "source": [
    "## CD8\n",
    "### Intratumoral lymphocytes"
   ]
  },
  {
   "cell_type": "code",
   "execution_count": 22,
   "metadata": {
    "lines_to_next_cell": 2
   },
   "outputs": [
    {
     "name": "stdout",
     "output_type": "stream",
     "text": [
      "# A tibble: 3 x 9\n",
      "  `Tissue type`            N   Mean    SD Median   IQR   Min   Max Missing\n",
      "  <fct>                <int>  <dbl> <dbl>  <dbl> <dbl> <dbl> <dbl>   <int>\n",
      "1 Non-tumor epithelium   285  0.715  1.46      0     1     0    12      57\n",
      "2 Primary tumor          285 12.7   22.7       6    13     0   210      13\n",
      "3 Metastatic tumor       285  9.17  14.1       3     5     0    60     231\n",
      "\n",
      "\tKruskal-Wallis rank sum test\n",
      "\n",
      "data:  biomarker_expression by tissue_type\n",
      "Kruskal-Wallis chi-squared = 238.42, df = 2, p-value < 2.2e-16\n",
      "\n",
      "\n",
      "\tPairwise comparisons using Wilcoxon rank sum test \n",
      "\n",
      "data:  biomarker_expression and tissue_type \n",
      "\n",
      "                 Non-tumor epithelium Primary tumor\n",
      "Primary tumor    <2e-16               -            \n",
      "Metastatic tumor <2e-16               0.17         \n",
      "\n",
      "P value adjustment method: bonferroni \n"
     ]
    }
   ],
   "source": [
    "DF %>% summary_by(cd8_normal, cd8_tumor, cd8_metastatic)"
   ]
  },
  {
   "cell_type": "markdown",
   "metadata": {
    "lines_to_next_cell": 0
   },
   "source": [
    "### Peritumoral lymphocytes"
   ]
  },
  {
   "cell_type": "code",
   "execution_count": 23,
   "metadata": {},
   "outputs": [
    {
     "name": "stdout",
     "output_type": "stream",
     "text": [
      "# A tibble: 3 x 9\n",
      "  `Tissue type`            N  Mean    SD Median   IQR   Min   Max Missing\n",
      "  <fct>                <int> <dbl> <dbl>  <dbl> <dbl> <dbl> <dbl>   <int>\n",
      "1 Non-tumor epithelium   285  7.94  17.1      3     7     0   150      43\n",
      "2 Primary tumor          285  6.40  13.9      2     7     0   120      87\n",
      "3 Metastatic tumor       285  5.59  17.4      0     3     0   125     226\n",
      "\n",
      "\tKruskal-Wallis rank sum test\n",
      "\n",
      "data:  biomarker_expression by tissue_type\n",
      "Kruskal-Wallis chi-squared = 25.713, df = 2, p-value = 2.609e-06\n",
      "\n",
      "\n",
      "\tPairwise comparisons using Wilcoxon rank sum test \n",
      "\n",
      "data:  biomarker_expression and tissue_type \n",
      "\n",
      "                 Non-tumor epithelium Primary tumor\n",
      "Primary tumor    0.0086               -            \n",
      "Metastatic tumor 4.4e-06              0.0193       \n",
      "\n",
      "P value adjustment method: bonferroni \n"
     ]
    }
   ],
   "source": [
    "DF %>% summary_by(cd8_normal_stroma, cd8_tumor_stroma, cd8_metastatic_stroma)"
   ]
  },
  {
   "cell_type": "markdown",
   "metadata": {
    "lines_to_next_cell": 0
   },
   "source": [
    "## CD8/Ki67\n",
    "### Intratumoral lymphocytes"
   ]
  },
  {
   "cell_type": "code",
   "execution_count": 24,
   "metadata": {},
   "outputs": [
    {
     "name": "stdout",
     "output_type": "stream",
     "text": [
      "# A tibble: 3 x 9\n",
      "  `Tissue type`            N  Mean    SD Median   IQR   Min   Max Missing\n",
      "  <fct>                <int> <dbl> <dbl>  <dbl> <dbl> <dbl> <dbl>   <int>\n",
      "1 Non-tumor epithelium   285 0      0         0     0     0     0      94\n",
      "2 Primary tumor          285 0.351  1.10      0     0     0     8      23\n",
      "3 Metastatic tumor       285 1.15   1.96      0     2     0     8     237\n",
      "\n",
      "\tKruskal-Wallis rank sum test\n",
      "\n",
      "data:  biomarker_expression by tissue_type\n",
      "Kruskal-Wallis chi-squared = 65.253, df = 2, p-value = 6.769e-15\n",
      "\n",
      "\n",
      "\tPairwise comparisons using Wilcoxon rank sum test \n",
      "\n",
      "data:  biomarker_expression and tissue_type \n",
      "\n",
      "                 Non-tumor epithelium Primary tumor\n",
      "Primary tumor    1.3e-08              -            \n",
      "Metastatic tumor < 2e-16              0.00024      \n",
      "\n",
      "P value adjustment method: bonferroni \n"
     ]
    }
   ],
   "source": [
    "DF %>% summary_by(cd8ki67_normal, cd8ki67_tumor, cd8ki67_metastatic)"
   ]
  },
  {
   "cell_type": "markdown",
   "metadata": {
    "lines_to_next_cell": 0
   },
   "source": [
    "### Peritumoral lymphocytes"
   ]
  },
  {
   "cell_type": "code",
   "execution_count": 25,
   "metadata": {},
   "outputs": [
    {
     "name": "stdout",
     "output_type": "stream",
     "text": [
      "# A tibble: 3 x 9\n",
      "  `Tissue type`            N   Mean    SD Median   IQR   Min   Max Missing\n",
      "  <fct>                <int>  <dbl> <dbl>  <dbl> <dbl> <dbl> <dbl>   <int>\n",
      "1 Non-tumor epithelium   285 0.0649 0.476      0     0     0     6      54\n",
      "2 Primary tumor          285 0.0955 0.491      0     0     0     5     128\n",
      "3 Metastatic tumor       285 0.263  0.562      0     0     0     2     266\n",
      "\n",
      "\tKruskal-Wallis rank sum test\n",
      "\n",
      "data:  biomarker_expression by tissue_type\n",
      "Kruskal-Wallis chi-squared = 12.311, df = 2, p-value = 0.002122\n",
      "\n",
      "\n",
      "\tPairwise comparisons using Wilcoxon rank sum test \n",
      "\n",
      "data:  biomarker_expression and tissue_type \n",
      "\n",
      "                 Non-tumor epithelium Primary tumor\n",
      "Primary tumor    0.58234              -            \n",
      "Metastatic tumor 0.00083              0.05240      \n",
      "\n",
      "P value adjustment method: bonferroni \n"
     ]
    }
   ],
   "source": [
    "DF %>% summary_by(cd8ki67_normal_stroma, cd8ki67_tumor_stroma, cd8ki67_metastatic_stroma)"
   ]
  },
  {
   "cell_type": "markdown",
   "metadata": {
    "lines_to_next_cell": 0
   },
   "source": [
    "## Ki67\n",
    "### Intratumoral lymphocytes"
   ]
  },
  {
   "cell_type": "code",
   "execution_count": 26,
   "metadata": {},
   "outputs": [
    {
     "name": "stdout",
     "output_type": "stream",
     "text": [
      "# A tibble: 3 x 9\n",
      "  `Tissue type`            N  Mean    SD Median   IQR   Min   Max Missing\n",
      "  <fct>                <int> <dbl> <dbl>  <dbl> <dbl> <dbl> <dbl>   <int>\n",
      "1 Non-tumor epithelium   285   0     0        0     0     0     0       0\n",
      "2 Primary tumor          285  26.2  39.4      5    29     0   100      13\n",
      "3 Metastatic tumor       285  12.6  11.6      7    15     1    45     234\n",
      "\n",
      "\tKruskal-Wallis rank sum test\n",
      "\n",
      "data:  biomarker_expression by tissue_type\n",
      "Kruskal-Wallis chi-squared = 449.03, df = 2, p-value < 2.2e-16\n",
      "\n",
      "\n",
      "\tPairwise comparisons using Wilcoxon rank sum test \n",
      "\n",
      "data:  biomarker_expression and tissue_type \n",
      "\n",
      "                 Non-tumor epithelium Primary tumor\n",
      "Primary tumor    <2e-16               -            \n",
      "Metastatic tumor <2e-16               0.12         \n",
      "\n",
      "P value adjustment method: bonferroni \n"
     ]
    }
   ],
   "source": [
    "DF %>% summary_by(ki67_normal, ki67_tumor, ki67_metastatic)"
   ]
  },
  {
   "cell_type": "markdown",
   "metadata": {
    "lines_to_next_cell": 0
   },
   "source": [
    "# Expression by clinicopathologic features"
   ]
  },
  {
   "cell_type": "code",
   "execution_count": 27,
   "metadata": {},
   "outputs": [
    {
     "name": "stdout",
     "output_type": "stream",
     "text": [
      "Observations: 78\n",
      "Variables: 20\n",
      "$ sp                   <fct> S04-01139, S04-02221, S04-05892, S04-12937, S04-…\n",
      "$ age_group            <fct> Younger age group, Older age group, Younger age …\n",
      "$ sex                  <fct> Male, Male, Female, Male, Male, Male, Male, Male…\n",
      "$ race                 <fct> White, Asian, Black, Other, White, White, White,…\n",
      "$ fuhrman              <ord> Grade 3, Grade 2, Grade 3, Grade 2, Grade 2, Gra…\n",
      "$ pt_stage             <ord> pT1a, pT1a, pT3a, pT1a, pT1a, pT3a, pT1a, pT1a, …\n",
      "$ size_group           <fct> Smaller tumor, Smaller tumor, Larger tumor, Smal…\n",
      "$ focality             <fct> Focal tumor, Focal tumor, Focal tumor, Focal tum…\n",
      "$ progression          <fct> No tumor progression, No tumor progression, No t…\n",
      "$ death                <fct> AND + AWD, DOC + DOD, AND + AWD, AND + AWD, AND …\n",
      "$ dod                  <fct> AND + AWD + DOC, AND + AWD + DOC, AND + AWD + DO…\n",
      "$ pdl1_tumor           <dbl> 0.000, 0.830, 0.000, 0.125, 4.600, 34.000, 0.000…\n",
      "$ pdl1_intratumoral    <dbl> 0, 5, NA, 0, 100, 0, 0, 0, 1, 5, 0, 0, 0, 40, 10…\n",
      "$ foxp3_intratumoral   <dbl> 7, 16, 3, 4, 3, 0, 3, 0, 1, 6, 0, 6, 2, 3, 3, 0,…\n",
      "$ foxp3_peritumoral    <dbl> 0, 0, NA, 0, 0, 0, 1, 0, 0, 0, 0, 4, 0, 8, 8, 1,…\n",
      "$ cd8_intratumoral     <dbl> 20, 22, 22, 38, 25, 5, 3, 7, 11, 5, 7, 130, 13, …\n",
      "$ cd8_peritumoral      <dbl> NA, 1, NA, 6, 8, NA, 7, 1, 14, 8, 13, 34, 4, 47,…\n",
      "$ cd8ki67_intratumoral <dbl> 0, 0, 0, 1, 1, 0, 0, 1, 0, 0, 0, 2, 3, 0, 0, 0, …\n",
      "$ cd8ki67_peritumoral  <dbl> NA, 0, NA, 0, 0, NA, 0, 0, 0, 0, 0, 1, 1, 0, 1, …\n",
      "$ ki67_intratumoral    <dbl> 2, 100, 100, 100, 3, 100, 100, 5, 100, 5, 100, 4…\n"
     ]
    }
   ],
   "source": [
    "# A function to define the summarizing statistic for biomarkers\n",
    "summarize_biomarker <- function(x) { quantile(x, probs = 1, na.rm = TRUE) }\n",
    "\n",
    "# Summaries by maximum tumor expression\n",
    "DF_ASSOCIATION <- DF %>%\n",
    "    group_by(sp) %>%\n",
    "    summarize(\n",
    "        age_group = unique(age_group),\n",
    "        sex = unique(sex),\n",
    "        race = unique(race),\n",
    "        fuhrman = unique(fuhrman),\n",
    "        pt_stage = unique(pt_stage),\n",
    "        size_group = unique(size_group),\n",
    "        focality = unique(focality),\n",
    "        progression = unique(progression),\n",
    "        death = unique(death),\n",
    "        dod = unique(dod),\n",
    "        pdl1_tumor = summarize_biomarker(pdl1_tumor),\n",
    "        pdl1_intratumoral = summarize_biomarker(pdl1_tumor_stroma),\n",
    "        foxp3_intratumoral = summarize_biomarker(foxp3_tumor_lymph),\n",
    "        foxp3_peritumoral = summarize_biomarker(foxp3_tumor_lymph_stroma),\n",
    "        cd8_intratumoral = summarize_biomarker(cd8_tumor),\n",
    "        cd8_peritumoral = summarize_biomarker(cd8_tumor_stroma),\n",
    "        cd8ki67_intratumoral = summarize_biomarker(cd8ki67_tumor),\n",
    "        cd8ki67_peritumoral = summarize_biomarker(cd8ki67_tumor_stroma),\n",
    "        ki67_intratumoral = summarize_biomarker(ki67_tumor)\n",
    "    )\n",
    "\n",
    "glimpse(DF_ASSOCIATION)"
   ]
  },
  {
   "cell_type": "code",
   "execution_count": 28,
   "metadata": {},
   "outputs": [],
   "source": [
    "# A function to evaluate the association between biomarkers expression and clinicopathologic features\n",
    "summary_association <- function(data, biomarker, feature)  {\n",
    "    \n",
    "    biomarker <- enquo(biomarker)\n",
    "    feature <- enquo(feature)\n",
    "    df <- data %>%\n",
    "        mutate(\n",
    "            biomarker = !! biomarker,\n",
    "            feature = !! feature\n",
    "        )\n",
    "    \n",
    "    # Creating summary table\n",
    "    tbl <- df %>%\n",
    "        group_by(feature) %>%\n",
    "        summarize(\n",
    "            N = n(),\n",
    "            Mean = mean(biomarker, na.rm = TRUE),\n",
    "            SD = sd(biomarker, na.rm = TRUE),\n",
    "            Median = median(biomarker, na.rm = TRUE),\n",
    "            IQR = IQR(biomarker, na.rm = TRUE),\n",
    "            Min = min(biomarker, na.rm = TRUE),\n",
    "            Max = max(biomarker, na.rm = TRUE),\n",
    "            Missing = sum(is.na(biomarker))\n",
    "        )\n",
    "    \n",
    "    # Testing for association\n",
    "    if (nrow(tbl) == 2) {\n",
    "        test <- wilcox.test(biomarker ~ feature, df)\n",
    "    }\n",
    "    if (nrow(tbl) > 2) {\n",
    "        test <- kruskal.test(biomarker ~ feature, df)\n",
    "    }\n",
    "    \n",
    "    # Testing for pairwise associations\n",
    "    if (nrow(tbl) > 2) {\n",
    "        test_pairwise <- with(df, pairwise.wilcox.test(biomarker, feature, p.adjust.method = \"bonferroni\"))\n",
    "    }\n",
    "    \n",
    "    # Printing the results\n",
    "    print(tbl)\n",
    "    print(test)\n",
    "    if (nrow(tbl) > 2) { print(test_pairwise) }\n",
    "    \n",
    "}"
   ]
  },
  {
   "cell_type": "markdown",
   "metadata": {
    "lines_to_next_cell": 0
   },
   "source": [
    "## PD-L1\n",
    "### Tumor cells"
   ]
  },
  {
   "cell_type": "code",
   "execution_count": 29,
   "metadata": {},
   "outputs": [],
   "source": [
    "DF_ASSOCIATION <- DF_ASSOCIATION %>% \n",
    "  mutate(marker = pdl1_tumor)"
   ]
  },
  {
   "cell_type": "markdown",
   "metadata": {
    "lines_to_next_cell": 0
   },
   "source": [
    "#### Age group, median"
   ]
  },
  {
   "cell_type": "code",
   "execution_count": 30,
   "metadata": {},
   "outputs": [
    {
     "name": "stdout",
     "output_type": "stream",
     "text": [
      "# A tibble: 2 x 9\n",
      "  feature               N  Mean    SD Median   IQR   Min   Max Missing\n",
      "  <fct>             <int> <dbl> <dbl>  <dbl> <dbl> <dbl> <dbl>   <int>\n",
      "1 Younger age group    38  8.90  23.6      0  4.6      0   100       1\n",
      "2 Older age group      40  7.98  20.5      0  1.12     0    90       0\n",
      "\n",
      "\tWilcoxon rank sum test with continuity correction\n",
      "\n",
      "data:  biomarker by feature\n",
      "W = 790.5, p-value = 0.545\n",
      "alternative hypothesis: true location shift is not equal to 0\n",
      "\n"
     ]
    }
   ],
   "source": [
    "DF_ASSOCIATION %>% summary_association(marker, age_group)"
   ]
  },
  {
   "cell_type": "markdown",
   "metadata": {
    "lines_to_next_cell": 0
   },
   "source": [
    "#### Sex"
   ]
  },
  {
   "cell_type": "code",
   "execution_count": 31,
   "metadata": {},
   "outputs": [
    {
     "name": "stdout",
     "output_type": "stream",
     "text": [
      "# A tibble: 2 x 9\n",
      "  feature     N  Mean    SD Median   IQR   Min   Max Missing\n",
      "  <fct>   <int> <dbl> <dbl>  <dbl> <dbl> <dbl> <dbl>   <int>\n",
      "1 Female     15 17.4   32.2      0 20.8      0   100       0\n",
      "2 Male       63  6.25  18.3      0  1.71     0   100       1\n",
      "\n",
      "\tWilcoxon rank sum test with continuity correction\n",
      "\n",
      "data:  biomarker by feature\n",
      "W = 497, p-value = 0.6305\n",
      "alternative hypothesis: true location shift is not equal to 0\n",
      "\n"
     ]
    }
   ],
   "source": [
    "DF_ASSOCIATION %>% summary_association(marker, sex)"
   ]
  },
  {
   "cell_type": "markdown",
   "metadata": {
    "lines_to_next_cell": 0
   },
   "source": [
    "#### Race"
   ]
  },
  {
   "cell_type": "code",
   "execution_count": 32,
   "metadata": {},
   "outputs": [
    {
     "name": "stdout",
     "output_type": "stream",
     "text": [
      "# A tibble: 4 x 9\n",
      "  feature     N   Mean     SD Median   IQR   Min     Max Missing\n",
      "  <fct>   <int>  <dbl>  <dbl>  <dbl> <dbl> <dbl>   <dbl>   <int>\n",
      "1 Asian       2  0.415  0.587  0.415 0.415 0       0.83        0\n",
      "2 Black      24 12.1   27.6    0     3.5   0     100           0\n",
      "3 Other       1  0.125 NA      0.125 0     0.125   0.125       0\n",
      "4 White      46  5.54  16.9    0     0.44  0     100           1\n",
      "\n",
      "\tKruskal-Wallis rank sum test\n",
      "\n",
      "data:  biomarker by feature\n",
      "Kruskal-Wallis chi-squared = 0.99819, df = 3, p-value = 0.8017\n",
      "\n",
      "\n",
      "\tPairwise comparisons using Wilcoxon rank sum test \n",
      "\n",
      "data:  biomarker and feature \n",
      "\n",
      "      Asian Black Other\n",
      "Black 1     -     -    \n",
      "Other 1     1     -    \n",
      "White 1     1     1    \n",
      "\n",
      "P value adjustment method: bonferroni \n"
     ]
    }
   ],
   "source": [
    "DF_ASSOCIATION %>% filter(!is.na(race)) %>% summary_association(marker, race)"
   ]
  },
  {
   "cell_type": "markdown",
   "metadata": {
    "lines_to_next_cell": 0
   },
   "source": [
    "#### Fuhrman grade"
   ]
  },
  {
   "cell_type": "code",
   "execution_count": 33,
   "metadata": {},
   "outputs": [
    {
     "name": "stdout",
     "output_type": "stream",
     "text": [
      "# A tibble: 4 x 9\n",
      "  feature     N  Mean     SD Median    IQR   Min    Max Missing\n",
      "  <ord>   <int> <dbl>  <dbl>  <dbl>  <dbl> <dbl>  <dbl>   <int>\n",
      "1 Grade 1     2  0.22  0.311   0.22  0.22      0   0.44       0\n",
      "2 Grade 2    34  6.48 19.3     0     0.672     0 100          0\n",
      "3 Grade 3    29  9.01 24.7     0     2.5       0 100          0\n",
      "4 Grade 4    10 18.5  26.7    10    20         0  80          1\n",
      "\n",
      "\tKruskal-Wallis rank sum test\n",
      "\n",
      "data:  biomarker by feature\n",
      "Kruskal-Wallis chi-squared = 3.2137, df = 3, p-value = 0.3598\n",
      "\n",
      "\n",
      "\tPairwise comparisons using Wilcoxon rank sum test \n",
      "\n",
      "data:  biomarker and feature \n",
      "\n",
      "        Grade 1 Grade 2 Grade 3\n",
      "Grade 2 1.00    -       -      \n",
      "Grade 3 1.00    1.00    -      \n",
      "Grade 4 1.00    0.57    0.70   \n",
      "\n",
      "P value adjustment method: bonferroni \n"
     ]
    }
   ],
   "source": [
    "DF_ASSOCIATION %>% filter(!is.na(fuhrman)) %>% summary_association(marker, fuhrman)"
   ]
  },
  {
   "cell_type": "markdown",
   "metadata": {
    "lines_to_next_cell": 0
   },
   "source": [
    "#### pT stage"
   ]
  },
  {
   "cell_type": "code",
   "execution_count": 34,
   "metadata": {},
   "outputs": [
    {
     "name": "stdout",
     "output_type": "stream",
     "text": [
      "# A tibble: 8 x 9\n",
      "  feature     N   Mean     SD Median   IQR   Min    Max Missing\n",
      "  <ord>   <int>  <dbl>  <dbl>  <dbl> <dbl> <dbl>  <dbl>   <int>\n",
      "1 pTx         1  0     NA          0  0        0   0          0\n",
      "2 pT1a       29  7.43  20.3        0  2.25     0 100          0\n",
      "3 pT1b        9  5.24  13.0        0  0        0  39.1        0\n",
      "4 pT2a        5  0.142  0.318      0  0        0   0.71       0\n",
      "5 pT2b        6  2      4          0  1.5      0  10          0\n",
      "6 pT3a       23 16.0   31.8        0 13.1      0 100          1\n",
      "7 pT3b        2  5      7.07       5  5        0  10          0\n",
      "8 pT4         1 10     NA         10  0       10  10          0\n",
      "\n",
      "\tKruskal-Wallis rank sum test\n",
      "\n",
      "data:  biomarker by feature\n",
      "Kruskal-Wallis chi-squared = 3.9763, df = 7, p-value = 0.7825\n",
      "\n",
      "\n",
      "\tPairwise comparisons using Wilcoxon rank sum test \n",
      "\n",
      "data:  biomarker and feature \n",
      "\n",
      "     pTx pT1a pT1b pT2a pT2b pT3a pT3b\n",
      "pT1a 1   -    -    -    -    -    -   \n",
      "pT1b 1   1    -    -    -    -    -   \n",
      "pT2a 1   1    1    -    -    -    -   \n",
      "pT2b 1   1    1    1    -    -    -   \n",
      "pT3a 1   1    1    1    1    -    -   \n",
      "pT3b 1   1    1    1    1    1    -   \n",
      "pT4  1   1    1    1    1    1    1   \n",
      "\n",
      "P value adjustment method: bonferroni \n"
     ]
    }
   ],
   "source": [
    "DF_ASSOCIATION %>% filter(!is.na(pt_stage)) %>% summary_association(marker, pt_stage)"
   ]
  },
  {
   "cell_type": "markdown",
   "metadata": {
    "lines_to_next_cell": 0
   },
   "source": [
    "#### Tumor size, median"
   ]
  },
  {
   "cell_type": "code",
   "execution_count": 35,
   "metadata": {},
   "outputs": [
    {
     "name": "stdout",
     "output_type": "stream",
     "text": [
      "# A tibble: 2 x 9\n",
      "  feature           N  Mean    SD Median   IQR   Min   Max Missing\n",
      "  <fct>         <int> <dbl> <dbl>  <dbl> <dbl> <dbl> <dbl>   <int>\n",
      "1 Smaller tumor    37  8.64  23.1      0  0.83     0   100       0\n",
      "2 Larger tumor     38  8.89  21.7      0  8        0   100       1\n",
      "\n",
      "\tWilcoxon rank sum test with continuity correction\n",
      "\n",
      "data:  biomarker by feature\n",
      "W = 670, p-value = 0.8591\n",
      "alternative hypothesis: true location shift is not equal to 0\n",
      "\n"
     ]
    }
   ],
   "source": [
    "DF_ASSOCIATION %>% filter(!is.na(size_group)) %>% summary_association(marker, size_group)"
   ]
  },
  {
   "cell_type": "markdown",
   "metadata": {
    "lines_to_next_cell": 0
   },
   "source": [
    "#### Tumor focality"
   ]
  },
  {
   "cell_type": "code",
   "execution_count": 36,
   "metadata": {},
   "outputs": [
    {
     "name": "stdout",
     "output_type": "stream",
     "text": [
      "# A tibble: 2 x 9\n",
      "  feature              N  Mean    SD Median   IQR   Min   Max Missing\n",
      "  <fct>            <int> <dbl> <dbl>  <dbl> <dbl> <dbl> <dbl>   <int>\n",
      "1 Focal tumor         60  7.77  22.3      0  1.42     0   100       1\n",
      "2 Multifocal tumor    16 11.9   22.0      0 12.5      0    80       0\n",
      "\n",
      "\tWilcoxon rank sum test with continuity correction\n",
      "\n",
      "data:  biomarker by feature\n",
      "W = 403, p-value = 0.2968\n",
      "alternative hypothesis: true location shift is not equal to 0\n",
      "\n"
     ]
    }
   ],
   "source": [
    "DF_ASSOCIATION %>% filter(!is.na(focality)) %>% summary_association(marker, focality)"
   ]
  },
  {
   "cell_type": "markdown",
   "metadata": {
    "lines_to_next_cell": 0
   },
   "source": [
    "#### Tumor progression"
   ]
  },
  {
   "cell_type": "code",
   "execution_count": 37,
   "metadata": {},
   "outputs": [
    {
     "name": "stdout",
     "output_type": "stream",
     "text": [
      "# A tibble: 2 x 9\n",
      "  feature                  N  Mean    SD Median   IQR   Min   Max Missing\n",
      "  <fct>                <int> <dbl> <dbl>  <dbl> <dbl> <dbl> <dbl>   <int>\n",
      "1 No tumor progression    60  7.49  21.4      0  1.12     0   100       0\n",
      "2 Tumor progression       16 13.3   25.2      0 10        0    90       1\n",
      "\n",
      "\tWilcoxon rank sum test with continuity correction\n",
      "\n",
      "data:  biomarker by feature\n",
      "W = 393.5, p-value = 0.3824\n",
      "alternative hypothesis: true location shift is not equal to 0\n",
      "\n"
     ]
    }
   ],
   "source": [
    "DF_ASSOCIATION %>% filter(!is.na(progression)) %>% summary_association(marker, progression)"
   ]
  },
  {
   "cell_type": "markdown",
   "metadata": {
    "lines_to_next_cell": 0
   },
   "source": [
    "#### Overall mortality"
   ]
  },
  {
   "cell_type": "code",
   "execution_count": 38,
   "metadata": {},
   "outputs": [
    {
     "name": "stdout",
     "output_type": "stream",
     "text": [
      "# A tibble: 2 x 9\n",
      "  feature       N  Mean    SD Median   IQR   Min   Max Missing\n",
      "  <fct>     <int> <dbl> <dbl>  <dbl> <dbl> <dbl> <dbl>   <int>\n",
      "1 AND + AWD    49 10.2   26.1      0  2        0   100       0\n",
      "2 DOC + DOD    29  5.25  11.1      0  3.88     0    40       1\n",
      "\n",
      "\tWilcoxon rank sum test with continuity correction\n",
      "\n",
      "data:  biomarker by feature\n",
      "W = 698, p-value = 0.885\n",
      "alternative hypothesis: true location shift is not equal to 0\n",
      "\n"
     ]
    }
   ],
   "source": [
    "DF_ASSOCIATION %>% filter(!is.na(death)) %>% summary_association(marker, death)"
   ]
  },
  {
   "cell_type": "markdown",
   "metadata": {
    "lines_to_next_cell": 0
   },
   "source": [
    "#### Cancer-related mortality"
   ]
  },
  {
   "cell_type": "code",
   "execution_count": 39,
   "metadata": {},
   "outputs": [
    {
     "name": "stdout",
     "output_type": "stream",
     "text": [
      "# A tibble: 2 x 9\n",
      "  feature             N  Mean    SD Median   IQR   Min   Max Missing\n",
      "  <fct>           <int> <dbl> <dbl>  <dbl> <dbl> <dbl> <dbl>   <int>\n",
      "1 AND + AWD + DOC    48  6.86 21.4       0 0.508     0   100       0\n",
      "2 DOD                11  2.95  6.40      0 1.25      0    20       0\n",
      "\n",
      "\tWilcoxon rank sum test with continuity correction\n",
      "\n",
      "data:  biomarker by feature\n",
      "W = 270, p-value = 0.8955\n",
      "alternative hypothesis: true location shift is not equal to 0\n",
      "\n"
     ]
    }
   ],
   "source": [
    "DF_ASSOCIATION %>% filter(!is.na(dod)) %>% summary_association(marker, dod)"
   ]
  },
  {
   "cell_type": "markdown",
   "metadata": {
    "lines_to_next_cell": 0
   },
   "source": [
    "### Intratumoral lymphocytes"
   ]
  },
  {
   "cell_type": "code",
   "execution_count": 40,
   "metadata": {},
   "outputs": [],
   "source": [
    "DF_ASSOCIATION <- DF_ASSOCIATION %>% \n",
    "  mutate(marker = pdl1_intratumoral)"
   ]
  },
  {
   "cell_type": "markdown",
   "metadata": {
    "lines_to_next_cell": 0
   },
   "source": [
    "#### Age group, median"
   ]
  },
  {
   "cell_type": "code",
   "execution_count": 41,
   "metadata": {},
   "outputs": [
    {
     "name": "stdout",
     "output_type": "stream",
     "text": [
      "# A tibble: 2 x 9\n",
      "  feature               N  Mean    SD Median   IQR   Min   Max Missing\n",
      "  <fct>             <int> <dbl> <dbl>  <dbl> <dbl> <dbl> <dbl>   <int>\n",
      "1 Younger age group    38  6.94  20.7      0     0     0   100       7\n",
      "2 Older age group      40  4.82  13.4      0     1     0    50       6\n",
      "\n",
      "\tWilcoxon rank sum test with continuity correction\n",
      "\n",
      "data:  biomarker by feature\n",
      "W = 477, p-value = 0.3999\n",
      "alternative hypothesis: true location shift is not equal to 0\n",
      "\n"
     ]
    }
   ],
   "source": [
    "DF_ASSOCIATION %>% summary_association(marker, age_group)"
   ]
  },
  {
   "cell_type": "markdown",
   "metadata": {
    "lines_to_next_cell": 0
   },
   "source": [
    "#### Sex"
   ]
  },
  {
   "cell_type": "code",
   "execution_count": 42,
   "metadata": {},
   "outputs": [
    {
     "name": "stdout",
     "output_type": "stream",
     "text": [
      "# A tibble: 2 x 9\n",
      "  feature     N  Mean    SD Median   IQR   Min   Max Missing\n",
      "  <fct>   <int> <dbl> <dbl>  <dbl> <dbl> <dbl> <dbl>   <int>\n",
      "1 Female     15  3.33  11.5      0     0     0    40       3\n",
      "2 Male       63  6.40  18.2      0     1     0   100      10\n",
      "\n",
      "\tWilcoxon rank sum test with continuity correction\n",
      "\n",
      "data:  biomarker by feature\n",
      "W = 252, p-value = 0.1516\n",
      "alternative hypothesis: true location shift is not equal to 0\n",
      "\n"
     ]
    }
   ],
   "source": [
    "DF_ASSOCIATION %>% summary_association(marker, sex)"
   ]
  },
  {
   "cell_type": "markdown",
   "metadata": {
    "lines_to_next_cell": 0
   },
   "source": [
    "#### Race"
   ]
  },
  {
   "cell_type": "code",
   "execution_count": 43,
   "metadata": {},
   "outputs": [
    {
     "name": "stdout",
     "output_type": "stream",
     "text": [
      "# A tibble: 4 x 9\n",
      "  feature     N  Mean    SD Median   IQR   Min   Max Missing\n",
      "  <fct>   <int> <dbl> <dbl>  <dbl> <dbl> <dbl> <dbl>   <int>\n",
      "1 Asian       2  2.5   3.54    2.5   2.5     0     5       0\n",
      "2 Black      24  3.56  9.48    0     1       0    40       6\n",
      "3 Other       1  0    NA       0     0       0     0       0\n",
      "4 White      46  7.95 21.0     0     0       0   100       7\n",
      "\n",
      "\tKruskal-Wallis rank sum test\n",
      "\n",
      "data:  biomarker by feature\n",
      "Kruskal-Wallis chi-squared = 2.3537, df = 3, p-value = 0.5023\n",
      "\n",
      "\n",
      "\tPairwise comparisons using Wilcoxon rank sum test \n",
      "\n",
      "data:  biomarker and feature \n",
      "\n",
      "      Asian Black Other\n",
      "Black 1     -     -    \n",
      "Other 1     1     -    \n",
      "White 1     1     1    \n",
      "\n",
      "P value adjustment method: bonferroni \n"
     ]
    }
   ],
   "source": [
    "DF_ASSOCIATION %>% filter(!is.na(race)) %>% summary_association(marker, race)"
   ]
  },
  {
   "cell_type": "markdown",
   "metadata": {
    "lines_to_next_cell": 0
   },
   "source": [
    "#### Fuhrman grade"
   ]
  },
  {
   "cell_type": "code",
   "execution_count": 44,
   "metadata": {},
   "outputs": [
    {
     "name": "stdout",
     "output_type": "stream",
     "text": [
      "# A tibble: 4 x 9\n",
      "  feature     N  Mean    SD Median   IQR   Min   Max Missing\n",
      "  <ord>   <int> <dbl> <dbl>  <dbl> <dbl> <dbl> <dbl>   <int>\n",
      "1 Grade 1     2  0     NA        0     0     0     0       1\n",
      "2 Grade 2    34  6.88  21.4      0     1     0   100       8\n",
      "3 Grade 3    29  3.85  12.3      0     0     0    50       3\n",
      "4 Grade 4    10  6.67  16.6      0     0     0    50       1\n",
      "\n",
      "\tKruskal-Wallis rank sum test\n",
      "\n",
      "data:  biomarker by feature\n",
      "Kruskal-Wallis chi-squared = 3.1197, df = 3, p-value = 0.3735\n",
      "\n",
      "\n",
      "\tPairwise comparisons using Wilcoxon rank sum test \n",
      "\n",
      "data:  biomarker and feature \n",
      "\n",
      "        Grade 1 Grade 2 Grade 3\n",
      "Grade 2 1.0     -       -      \n",
      "Grade 3 1.0     0.6     -      \n",
      "Grade 4 1.0     1.0     1.0    \n",
      "\n",
      "P value adjustment method: bonferroni \n"
     ]
    }
   ],
   "source": [
    "DF_ASSOCIATION %>% filter(!is.na(fuhrman)) %>% summary_association(marker, fuhrman)"
   ]
  },
  {
   "cell_type": "markdown",
   "metadata": {
    "lines_to_next_cell": 0
   },
   "source": [
    "#### pT stage"
   ]
  },
  {
   "cell_type": "code",
   "execution_count": 45,
   "metadata": {},
   "outputs": [
    {
     "name": "stdout",
     "output_type": "stream",
     "text": [
      "# A tibble: 8 x 9\n",
      "  feature     N  Mean    SD Median   IQR   Min   Max Missing\n",
      "  <ord>   <int> <dbl> <dbl>  <dbl> <dbl> <dbl> <dbl>   <int>\n",
      "1 pTx         1  0    NA       0       0     0     0       0\n",
      "2 pT1a       29 10.3  24.7     0       5     0   100       7\n",
      "3 pT1b        9  2.29  3.86    0       3     0    10       2\n",
      "4 pT2a        5 10    20       0      10     0    40       1\n",
      "5 pT2b        6  1.17  1.94    0.5     1     0     5       0\n",
      "6 pT3a       23  2     8.94    0       0     0    40       3\n",
      "7 pT3b        2 25    35.4    25      25     0    50       0\n",
      "8 pT4         1  0    NA       0       0     0     0       0\n",
      "\n",
      "\tKruskal-Wallis rank sum test\n",
      "\n",
      "data:  biomarker by feature\n",
      "Kruskal-Wallis chi-squared = 8.5995, df = 7, p-value = 0.2827\n",
      "\n",
      "\n",
      "\tPairwise comparisons using Wilcoxon rank sum test \n",
      "\n",
      "data:  biomarker and feature \n",
      "\n",
      "     pTx  pT1a pT1b pT2a pT2b pT3a pT3b\n",
      "pT1a 1.00 -    -    -    -    -    -   \n",
      "pT1b 1.00 1.00 -    -    -    -    -   \n",
      "pT2a 1.00 1.00 1.00 -    -    -    -   \n",
      "pT2b 1.00 1.00 1.00 1.00 -    -    -   \n",
      "pT3a 1.00 0.48 0.76 1.00 0.42 -    -   \n",
      "pT3b 1.00 1.00 1.00 1.00 1.00 1.00 -   \n",
      "pT4  -    1.00 1.00 1.00 1.00 1.00 1.00\n",
      "\n",
      "P value adjustment method: bonferroni \n"
     ]
    }
   ],
   "source": [
    "DF_ASSOCIATION %>% filter(!is.na(pt_stage)) %>% summary_association(marker, pt_stage)"
   ]
  },
  {
   "cell_type": "markdown",
   "metadata": {
    "lines_to_next_cell": 0
   },
   "source": [
    "#### Tumor size, median"
   ]
  },
  {
   "cell_type": "code",
   "execution_count": 46,
   "metadata": {},
   "outputs": [
    {
     "name": "stdout",
     "output_type": "stream",
     "text": [
      "# A tibble: 2 x 9\n",
      "  feature           N  Mean    SD Median   IQR   Min   Max Missing\n",
      "  <fct>         <int> <dbl> <dbl>  <dbl> <dbl> <dbl> <dbl>   <int>\n",
      "1 Smaller tumor    37 10.1  23.6       0     1     0   100       7\n",
      "2 Larger tumor     38  2.25  7.38      0     0     0    40       6\n",
      "\n",
      "\tWilcoxon rank sum test with continuity correction\n",
      "\n",
      "data:  biomarker by feature\n",
      "W = 530, p-value = 0.3644\n",
      "alternative hypothesis: true location shift is not equal to 0\n",
      "\n"
     ]
    }
   ],
   "source": [
    "DF_ASSOCIATION %>% filter(!is.na(size_group)) %>% summary_association(marker, size_group)"
   ]
  },
  {
   "cell_type": "markdown",
   "metadata": {
    "lines_to_next_cell": 0
   },
   "source": [
    "#### Tumor focality"
   ]
  },
  {
   "cell_type": "code",
   "execution_count": 47,
   "metadata": {},
   "outputs": [
    {
     "name": "stdout",
     "output_type": "stream",
     "text": [
      "# A tibble: 2 x 9\n",
      "  feature              N  Mean    SD Median   IQR   Min   Max Missing\n",
      "  <fct>            <int> <dbl> <dbl>  <dbl> <dbl> <dbl> <dbl>   <int>\n",
      "1 Focal tumor         60  5.16  17.2      0     0     0   100      10\n",
      "2 Multifocal tumor    16  8.54  18.6      0     1     0    50       3\n",
      "\n",
      "\tWilcoxon rank sum test with continuity correction\n",
      "\n",
      "data:  biomarker by feature\n",
      "W = 291.5, p-value = 0.4528\n",
      "alternative hypothesis: true location shift is not equal to 0\n",
      "\n"
     ]
    }
   ],
   "source": [
    "DF_ASSOCIATION %>% filter(!is.na(focality)) %>% summary_association(marker, focality)"
   ]
  },
  {
   "cell_type": "markdown",
   "metadata": {
    "lines_to_next_cell": 0
   },
   "source": [
    "#### Tumor progression"
   ]
  },
  {
   "cell_type": "code",
   "execution_count": 48,
   "metadata": {},
   "outputs": [
    {
     "name": "stdout",
     "output_type": "stream",
     "text": [
      "# A tibble: 2 x 9\n",
      "  feature                  N  Mean    SD Median   IQR   Min   Max Missing\n",
      "  <fct>                <int> <dbl> <dbl>  <dbl> <dbl> <dbl> <dbl>   <int>\n",
      "1 No tumor progression    60  5.56  17.2      0     1     0   100      10\n",
      "2 Tumor progression       16  7.69  18.8      0     0     0    50       3\n",
      "\n",
      "\tWilcoxon rank sum test with continuity correction\n",
      "\n",
      "data:  biomarker by feature\n",
      "W = 355, p-value = 0.5121\n",
      "alternative hypothesis: true location shift is not equal to 0\n",
      "\n"
     ]
    }
   ],
   "source": [
    "DF_ASSOCIATION %>% filter(!is.na(progression)) %>% summary_association(marker, progression)"
   ]
  },
  {
   "cell_type": "markdown",
   "metadata": {
    "lines_to_next_cell": 0
   },
   "source": [
    "#### Overall mortality"
   ]
  },
  {
   "cell_type": "code",
   "execution_count": 49,
   "metadata": {},
   "outputs": [
    {
     "name": "stdout",
     "output_type": "stream",
     "text": [
      "# A tibble: 2 x 9\n",
      "  feature       N  Mean    SD Median   IQR   Min   Max Missing\n",
      "  <fct>     <int> <dbl> <dbl>  <dbl> <dbl> <dbl> <dbl>   <int>\n",
      "1 AND + AWD    49  5.55  18.4      0  0.75     0   100       7\n",
      "2 DOC + DOD    29  6.35  14.9      0  0.5      0    50       6\n",
      "\n",
      "\tWilcoxon rank sum test with continuity correction\n",
      "\n",
      "data:  biomarker by feature\n",
      "W = 477.5, p-value = 0.9292\n",
      "alternative hypothesis: true location shift is not equal to 0\n",
      "\n"
     ]
    }
   ],
   "source": [
    "DF_ASSOCIATION %>% filter(!is.na(death)) %>% summary_association(marker, death)"
   ]
  },
  {
   "cell_type": "markdown",
   "metadata": {
    "lines_to_next_cell": 0
   },
   "source": [
    "#### Cancer-related mortality"
   ]
  },
  {
   "cell_type": "code",
   "execution_count": 50,
   "metadata": {},
   "outputs": [
    {
     "name": "stdout",
     "output_type": "stream",
     "text": [
      "# A tibble: 2 x 9\n",
      "  feature             N  Mean    SD Median   IQR   Min   Max Missing\n",
      "  <fct>           <int> <dbl> <dbl>  <dbl> <dbl> <dbl> <dbl>   <int>\n",
      "1 AND + AWD + DOC    48  8.18 20.4       0     5     0   100       9\n",
      "2 DOD                11  1.25  3.54      0     0     0    10       3\n",
      "\n",
      "\tWilcoxon rank sum test with continuity correction\n",
      "\n",
      "data:  biomarker by feature\n",
      "W = 194.5, p-value = 0.2022\n",
      "alternative hypothesis: true location shift is not equal to 0\n",
      "\n"
     ]
    }
   ],
   "source": [
    "DF_ASSOCIATION %>% filter(!is.na(dod)) %>% summary_association(marker, dod)"
   ]
  },
  {
   "cell_type": "markdown",
   "metadata": {
    "lines_to_next_cell": 0
   },
   "source": [
    "## FOXP3\n",
    "### Intratumoral lymphocytes"
   ]
  },
  {
   "cell_type": "code",
   "execution_count": 51,
   "metadata": {},
   "outputs": [],
   "source": [
    "DF_ASSOCIATION <- DF_ASSOCIATION %>% \n",
    "  mutate(marker = foxp3_intratumoral)"
   ]
  },
  {
   "cell_type": "markdown",
   "metadata": {
    "lines_to_next_cell": 0
   },
   "source": [
    "#### Age group, median"
   ]
  },
  {
   "cell_type": "code",
   "execution_count": 52,
   "metadata": {},
   "outputs": [
    {
     "name": "stdout",
     "output_type": "stream",
     "text": [
      "# A tibble: 2 x 9\n",
      "  feature               N  Mean    SD Median   IQR   Min   Max Missing\n",
      "  <fct>             <int> <dbl> <dbl>  <dbl> <dbl> <dbl> <dbl>   <int>\n",
      "1 Younger age group    38  2.5   2.62      2  2.75     0    12       0\n",
      "2 Older age group      40  5.03  7.05      2  5.5      0    30       0\n",
      "\n",
      "\tWilcoxon rank sum test with continuity correction\n",
      "\n",
      "data:  biomarker by feature\n",
      "W = 659, p-value = 0.308\n",
      "alternative hypothesis: true location shift is not equal to 0\n",
      "\n"
     ]
    }
   ],
   "source": [
    "DF_ASSOCIATION %>% summary_association(marker, age_group)"
   ]
  },
  {
   "cell_type": "markdown",
   "metadata": {
    "lines_to_next_cell": 0
   },
   "source": [
    "#### Sex"
   ]
  },
  {
   "cell_type": "code",
   "execution_count": 53,
   "metadata": {},
   "outputs": [
    {
     "name": "stdout",
     "output_type": "stream",
     "text": [
      "# A tibble: 2 x 9\n",
      "  feature     N  Mean    SD Median   IQR   Min   Max Missing\n",
      "  <fct>   <int> <dbl> <dbl>  <dbl> <dbl> <dbl> <dbl>   <int>\n",
      "1 Female     15  4     6.15      2     3     0    25       0\n",
      "2 Male       63  3.75  5.37      2     3     0    30       0\n",
      "\n",
      "\tWilcoxon rank sum test with continuity correction\n",
      "\n",
      "data:  biomarker by feature\n",
      "W = 512, p-value = 0.6159\n",
      "alternative hypothesis: true location shift is not equal to 0\n",
      "\n"
     ]
    }
   ],
   "source": [
    "DF_ASSOCIATION %>% summary_association(marker, sex)"
   ]
  },
  {
   "cell_type": "markdown",
   "metadata": {
    "lines_to_next_cell": 0
   },
   "source": [
    "#### Race"
   ]
  },
  {
   "cell_type": "code",
   "execution_count": 54,
   "metadata": {},
   "outputs": [
    {
     "name": "stdout",
     "output_type": "stream",
     "text": [
      "# A tibble: 4 x 9\n",
      "  feature     N  Mean    SD Median   IQR   Min   Max Missing\n",
      "  <fct>   <int> <dbl> <dbl>  <dbl> <dbl> <dbl> <dbl>   <int>\n",
      "1 Asian       2  9     9.90      9     7     2    16       0\n",
      "2 Black      24  3.17  3.13      3     3     0    12       0\n",
      "3 Other       1  4    NA         4     0     4     4       0\n",
      "4 White      46  2.91  4.07      1     2     0    20       0\n",
      "\n",
      "\tKruskal-Wallis rank sum test\n",
      "\n",
      "data:  biomarker by feature\n",
      "Kruskal-Wallis chi-squared = 3.7523, df = 3, p-value = 0.2895\n",
      "\n",
      "\n",
      "\tPairwise comparisons using Wilcoxon rank sum test \n",
      "\n",
      "data:  biomarker and feature \n",
      "\n",
      "      Asian Black Other\n",
      "Black 1     -     -    \n",
      "Other 1     1     -    \n",
      "White 1     1     1    \n",
      "\n",
      "P value adjustment method: bonferroni \n"
     ]
    }
   ],
   "source": [
    "DF_ASSOCIATION %>% filter(!is.na(race)) %>% summary_association(marker, race)"
   ]
  },
  {
   "cell_type": "markdown",
   "metadata": {
    "lines_to_next_cell": 0
   },
   "source": [
    "#### Fuhrman grade"
   ]
  },
  {
   "cell_type": "code",
   "execution_count": 55,
   "metadata": {},
   "outputs": [
    {
     "name": "stdout",
     "output_type": "stream",
     "text": [
      "# A tibble: 4 x 9\n",
      "  feature     N  Mean    SD Median   IQR   Min   Max Missing\n",
      "  <ord>   <int> <dbl> <dbl>  <dbl> <dbl> <dbl> <dbl>   <int>\n",
      "1 Grade 1     2  0     0       0     0       0     0       0\n",
      "2 Grade 2    34  2.53  3.43    1     2       0    16       0\n",
      "3 Grade 3    29  3.34  3.47    3     3       0    13       0\n",
      "4 Grade 4    10 10.7  10.6     7.5  15.8     1    30       0\n",
      "\n",
      "\tKruskal-Wallis rank sum test\n",
      "\n",
      "data:  biomarker by feature\n",
      "Kruskal-Wallis chi-squared = 11.653, df = 3, p-value = 0.008671\n",
      "\n",
      "\n",
      "\tPairwise comparisons using Wilcoxon rank sum test \n",
      "\n",
      "data:  biomarker and feature \n",
      "\n",
      "        Grade 1 Grade 2 Grade 3\n",
      "Grade 2 0.300   -       -      \n",
      "Grade 3 0.472   1.000   -      \n",
      "Grade 4 0.237   0.047   0.211  \n",
      "\n",
      "P value adjustment method: bonferroni \n"
     ]
    }
   ],
   "source": [
    "DF_ASSOCIATION %>% filter(!is.na(fuhrman)) %>% summary_association(marker, fuhrman)"
   ]
  },
  {
   "cell_type": "markdown",
   "metadata": {
    "lines_to_next_cell": 0
   },
   "source": [
    "#### pT stage"
   ]
  },
  {
   "cell_type": "code",
   "execution_count": 56,
   "metadata": {},
   "outputs": [
    {
     "name": "stdout",
     "output_type": "stream",
     "text": [
      "# A tibble: 8 x 9\n",
      "  feature     N  Mean    SD Median   IQR   Min   Max Missing\n",
      "  <ord>   <int> <dbl> <dbl>  <dbl> <dbl> <dbl> <dbl>   <int>\n",
      "1 pTx         1  1    NA       1    0        1     1       0\n",
      "2 pT1a       29  3.31  4.62    2    3        0    20       0\n",
      "3 pT1b        9  2.33  2.45    1    2        0     8       0\n",
      "4 pT2a        5  3.4   4.93    1    2        0    12       0\n",
      "5 pT2b        6  4     2.61    3.5  3.25     1     8       0\n",
      "6 pT3a       23  5.78  7.89    3    6        0    30       0\n",
      "7 pT3b        2  1     1.41    1    1        0     2       0\n",
      "8 pT4         1  1    NA       1    0        1     1       0\n",
      "\n",
      "\tKruskal-Wallis rank sum test\n",
      "\n",
      "data:  biomarker by feature\n",
      "Kruskal-Wallis chi-squared = 4.8775, df = 7, p-value = 0.6749\n",
      "\n",
      "\n",
      "\tPairwise comparisons using Wilcoxon rank sum test \n",
      "\n",
      "data:  biomarker and feature \n",
      "\n",
      "     pTx pT1a pT1b pT2a pT2b pT3a pT3b\n",
      "pT1a 1   -    -    -    -    -    -   \n",
      "pT1b 1   1    -    -    -    -    -   \n",
      "pT2a 1   1    1    -    -    -    -   \n",
      "pT2b 1   1    1    1    -    -    -   \n",
      "pT3a 1   1    1    1    1    -    -   \n",
      "pT3b 1   1    1    1    1    1    -   \n",
      "pT4  -   1    1    1    1    1    1   \n",
      "\n",
      "P value adjustment method: bonferroni \n"
     ]
    }
   ],
   "source": [
    "DF_ASSOCIATION %>% filter(!is.na(pt_stage)) %>% summary_association(marker, pt_stage)"
   ]
  },
  {
   "cell_type": "markdown",
   "metadata": {
    "lines_to_next_cell": 0
   },
   "source": [
    "#### Tumor size, median"
   ]
  },
  {
   "cell_type": "code",
   "execution_count": 57,
   "metadata": {},
   "outputs": [
    {
     "name": "stdout",
     "output_type": "stream",
     "text": [
      "# A tibble: 2 x 9\n",
      "  feature           N  Mean    SD Median   IQR   Min   Max Missing\n",
      "  <fct>         <int> <dbl> <dbl>  <dbl> <dbl> <dbl> <dbl>   <int>\n",
      "1 Smaller tumor    37  3     4.50    1       3     0    20       0\n",
      "2 Larger tumor     38  4.74  6.40    2.5     5     0    30       0\n",
      "\n",
      "\tWilcoxon rank sum test with continuity correction\n",
      "\n",
      "data:  biomarker by feature\n",
      "W = 534.5, p-value = 0.07117\n",
      "alternative hypothesis: true location shift is not equal to 0\n",
      "\n"
     ]
    }
   ],
   "source": [
    "DF_ASSOCIATION %>% filter(!is.na(size_group)) %>% summary_association(marker, size_group)"
   ]
  },
  {
   "cell_type": "markdown",
   "metadata": {
    "lines_to_next_cell": 0
   },
   "source": [
    "#### Tumor focality"
   ]
  },
  {
   "cell_type": "code",
   "execution_count": 58,
   "metadata": {},
   "outputs": [
    {
     "name": "stdout",
     "output_type": "stream",
     "text": [
      "# A tibble: 2 x 9\n",
      "  feature              N  Mean    SD Median   IQR   Min   Max Missing\n",
      "  <fct>            <int> <dbl> <dbl>  <dbl> <dbl> <dbl> <dbl>   <int>\n",
      "1 Focal tumor         60  3.43  4.86      2   3       0    30       0\n",
      "2 Multifocal tumor    16  5.31  7.64      2   4.5     0    25       0\n",
      "\n",
      "\tWilcoxon rank sum test with continuity correction\n",
      "\n",
      "data:  biomarker by feature\n",
      "W = 458.5, p-value = 0.7859\n",
      "alternative hypothesis: true location shift is not equal to 0\n",
      "\n"
     ]
    }
   ],
   "source": [
    "DF_ASSOCIATION %>% filter(!is.na(focality)) %>% summary_association(marker, focality)"
   ]
  },
  {
   "cell_type": "markdown",
   "metadata": {
    "lines_to_next_cell": 0
   },
   "source": [
    "#### Tumor progression"
   ]
  },
  {
   "cell_type": "code",
   "execution_count": 59,
   "metadata": {},
   "outputs": [
    {
     "name": "stdout",
     "output_type": "stream",
     "text": [
      "# A tibble: 2 x 9\n",
      "  feature                  N  Mean    SD Median   IQR   Min   Max Missing\n",
      "  <fct>                <int> <dbl> <dbl>  <dbl> <dbl> <dbl> <dbl>   <int>\n",
      "1 No tumor progression    60  3.73  5.65      2   3       0    30       0\n",
      "2 Tumor progression       16  4.38  5.26      2   5.5     0    20       0\n",
      "\n",
      "\tWilcoxon rank sum test with continuity correction\n",
      "\n",
      "data:  biomarker by feature\n",
      "W = 425, p-value = 0.4817\n",
      "alternative hypothesis: true location shift is not equal to 0\n",
      "\n"
     ]
    }
   ],
   "source": [
    "DF_ASSOCIATION %>% filter(!is.na(progression)) %>% summary_association(marker, progression)"
   ]
  },
  {
   "cell_type": "markdown",
   "metadata": {
    "lines_to_next_cell": 0
   },
   "source": [
    "#### Overall mortality"
   ]
  },
  {
   "cell_type": "code",
   "execution_count": 60,
   "metadata": {},
   "outputs": [
    {
     "name": "stdout",
     "output_type": "stream",
     "text": [
      "# A tibble: 2 x 9\n",
      "  feature       N  Mean    SD Median   IQR   Min   Max Missing\n",
      "  <fct>     <int> <dbl> <dbl>  <dbl> <dbl> <dbl> <dbl>   <int>\n",
      "1 AND + AWD    49  3.24  4.49      2     3     0    25       0\n",
      "2 DOC + DOD    29  4.72  6.84      2     5     0    30       0\n",
      "\n",
      "\tWilcoxon rank sum test with continuity correction\n",
      "\n",
      "data:  biomarker by feature\n",
      "W = 651.5, p-value = 0.5394\n",
      "alternative hypothesis: true location shift is not equal to 0\n",
      "\n"
     ]
    }
   ],
   "source": [
    "DF_ASSOCIATION %>% filter(!is.na(death)) %>% summary_association(marker, death)"
   ]
  },
  {
   "cell_type": "markdown",
   "metadata": {
    "lines_to_next_cell": 0
   },
   "source": [
    "#### Cancer-related mortality"
   ]
  },
  {
   "cell_type": "code",
   "execution_count": 61,
   "metadata": {},
   "outputs": [
    {
     "name": "stdout",
     "output_type": "stream",
     "text": [
      "# A tibble: 2 x 9\n",
      "  feature             N  Mean    SD Median   IQR   Min   Max Missing\n",
      "  <fct>           <int> <dbl> <dbl>  <dbl> <dbl> <dbl> <dbl>   <int>\n",
      "1 AND + AWD + DOC    48  2.85  3.45      2  2.25     0    16       0\n",
      "2 DOD                11  1.91  1.97      1  2.5      0     6       0\n",
      "\n",
      "\tWilcoxon rank sum test with continuity correction\n",
      "\n",
      "data:  biomarker by feature\n",
      "W = 294.5, p-value = 0.5526\n",
      "alternative hypothesis: true location shift is not equal to 0\n",
      "\n"
     ]
    }
   ],
   "source": [
    "DF_ASSOCIATION %>% filter(!is.na(dod)) %>% summary_association(marker, dod)"
   ]
  },
  {
   "cell_type": "markdown",
   "metadata": {
    "lines_to_next_cell": 0
   },
   "source": [
    "### Peritumoral lymphocytes"
   ]
  },
  {
   "cell_type": "code",
   "execution_count": 62,
   "metadata": {},
   "outputs": [],
   "source": [
    "DF_ASSOCIATION <- DF_ASSOCIATION %>% \n",
    "  mutate(marker = foxp3_peritumoral)"
   ]
  },
  {
   "cell_type": "markdown",
   "metadata": {
    "lines_to_next_cell": 0
   },
   "source": [
    "#### Age group, median"
   ]
  },
  {
   "cell_type": "code",
   "execution_count": 63,
   "metadata": {},
   "outputs": [
    {
     "name": "stdout",
     "output_type": "stream",
     "text": [
      "# A tibble: 2 x 9\n",
      "  feature               N  Mean    SD Median   IQR   Min   Max Missing\n",
      "  <fct>             <int> <dbl> <dbl>  <dbl> <dbl> <dbl> <dbl>   <int>\n",
      "1 Younger age group    38 1.89   3.36      0     3     0    15       1\n",
      "2 Older age group      40 0.615  1.89      0     0     0     8       1\n",
      "\n",
      "\tWilcoxon rank sum test with continuity correction\n",
      "\n",
      "data:  biomarker by feature\n",
      "W = 942.5, p-value = 0.003081\n",
      "alternative hypothesis: true location shift is not equal to 0\n",
      "\n"
     ]
    }
   ],
   "source": [
    "DF_ASSOCIATION %>% summary_association(marker, age_group)"
   ]
  },
  {
   "cell_type": "markdown",
   "metadata": {
    "lines_to_next_cell": 0
   },
   "source": [
    "#### Sex"
   ]
  },
  {
   "cell_type": "code",
   "execution_count": 64,
   "metadata": {},
   "outputs": [
    {
     "name": "stdout",
     "output_type": "stream",
     "text": [
      "# A tibble: 2 x 9\n",
      "  feature     N  Mean    SD Median   IQR   Min   Max Missing\n",
      "  <fct>   <int> <dbl> <dbl>  <dbl> <dbl> <dbl> <dbl>   <int>\n",
      "1 Female     15  1.36  2.59      0  1.5      0     8       1\n",
      "2 Male       63  1.21  2.82      0  0.75     0    15       1\n",
      "\n",
      "\tWilcoxon rank sum test with continuity correction\n",
      "\n",
      "data:  biomarker by feature\n",
      "W = 449, p-value = 0.8019\n",
      "alternative hypothesis: true location shift is not equal to 0\n",
      "\n"
     ]
    }
   ],
   "source": [
    "DF_ASSOCIATION %>% summary_association(marker, sex)"
   ]
  },
  {
   "cell_type": "markdown",
   "metadata": {
    "lines_to_next_cell": 0
   },
   "source": [
    "#### Race"
   ]
  },
  {
   "cell_type": "code",
   "execution_count": 65,
   "metadata": {},
   "outputs": [
    {
     "name": "stdout",
     "output_type": "stream",
     "text": [
      "# A tibble: 4 x 9\n",
      "  feature     N  Mean    SD Median   IQR   Min   Max Missing\n",
      "  <fct>   <int> <dbl> <dbl>  <dbl> <dbl> <dbl> <dbl>   <int>\n",
      "1 Asian       2 0      0         0   0       0     0       0\n",
      "2 Black      24 2.52   4.10      0   3.5     0    15       1\n",
      "3 Other       1 0     NA         0   0       0     0       0\n",
      "4 White      46 0.733  1.78      0   0       0     8       1\n",
      "\n",
      "\tKruskal-Wallis rank sum test\n",
      "\n",
      "data:  biomarker by feature\n",
      "Kruskal-Wallis chi-squared = 4.3599, df = 3, p-value = 0.2251\n",
      "\n",
      "\n",
      "\tPairwise comparisons using Wilcoxon rank sum test \n",
      "\n",
      "data:  biomarker and feature \n",
      "\n",
      "      Asian Black Other\n",
      "Black 1.00  -     -    \n",
      "Other -     1.00  -    \n",
      "White 1.00  0.37  1.00 \n",
      "\n",
      "P value adjustment method: bonferroni \n"
     ]
    }
   ],
   "source": [
    "DF_ASSOCIATION %>% filter(!is.na(race)) %>% summary_association(marker, race)"
   ]
  },
  {
   "cell_type": "markdown",
   "metadata": {
    "lines_to_next_cell": 0
   },
   "source": [
    "#### Fuhrman grade"
   ]
  },
  {
   "cell_type": "code",
   "execution_count": 66,
   "metadata": {},
   "outputs": [
    {
     "name": "stdout",
     "output_type": "stream",
     "text": [
      "# A tibble: 4 x 9\n",
      "  feature     N  Mean    SD Median   IQR   Min   Max Missing\n",
      "  <ord>   <int> <dbl> <dbl>  <dbl> <dbl> <dbl> <dbl>   <int>\n",
      "1 Grade 1     2 0      0         0     0     0     0       0\n",
      "2 Grade 2    34 0.455  1.54      0     0     0     8       1\n",
      "3 Grade 3    29 2.25   3.75      0     4     0    15       1\n",
      "4 Grade 4    10 0.8    1.23      0     1     0     3       0\n",
      "\n",
      "\tKruskal-Wallis rank sum test\n",
      "\n",
      "data:  biomarker by feature\n",
      "Kruskal-Wallis chi-squared = 7.8177, df = 3, p-value = 0.04993\n",
      "\n",
      "\n",
      "\tPairwise comparisons using Wilcoxon rank sum test \n",
      "\n",
      "data:  biomarker and feature \n",
      "\n",
      "        Grade 1 Grade 2 Grade 3\n",
      "Grade 2 1.000   -       -      \n",
      "Grade 3 1.000   0.065   -      \n",
      "Grade 4 1.000   0.429   1.000  \n",
      "\n",
      "P value adjustment method: bonferroni \n"
     ]
    }
   ],
   "source": [
    "DF_ASSOCIATION %>% filter(!is.na(fuhrman)) %>% summary_association(marker, fuhrman)"
   ]
  },
  {
   "cell_type": "markdown",
   "metadata": {
    "lines_to_next_cell": 0
   },
   "source": [
    "#### pT stage"
   ]
  },
  {
   "cell_type": "code",
   "execution_count": 67,
   "metadata": {},
   "outputs": [
    {
     "name": "stdout",
     "output_type": "stream",
     "text": [
      "# A tibble: 8 x 9\n",
      "  feature     N  Mean     SD Median   IQR   Min   Max Missing\n",
      "  <ord>   <int> <dbl>  <dbl>  <dbl> <dbl> <dbl> <dbl>   <int>\n",
      "1 pTx         1 1     NA          1     0     1     1       0\n",
      "2 pT1a       29 0.429  0.997      0     0     0     3       1\n",
      "3 pT1b        9 1.33   2.83       0     0     0     8       0\n",
      "4 pT2a        5 4.6    6.77       0     8     0    15       0\n",
      "5 pT2b        6 1.33   3.27       0     0     0     8       0\n",
      "6 pT3a       23 1.36   2.65       0     1     0    10       1\n",
      "7 pT3b        2 4      1.41       4     1     3     5       0\n",
      "8 pT4         1 0     NA          0     0     0     0       0\n",
      "\n",
      "\tKruskal-Wallis rank sum test\n",
      "\n",
      "data:  biomarker by feature\n",
      "Kruskal-Wallis chi-squared = 10.136, df = 7, p-value = 0.181\n",
      "\n",
      "\n",
      "\tPairwise comparisons using Wilcoxon rank sum test \n",
      "\n",
      "data:  biomarker and feature \n",
      "\n",
      "     pTx   pT1a  pT1b  pT2a  pT2b  pT3a  pT3b \n",
      "pT1a 1.000 -     -     -     -     -     -    \n",
      "pT1b 1.000 1.000 -     -     -     -     -    \n",
      "pT2a 1.000 1.000 1.000 -     -     -     -    \n",
      "pT2b 1.000 1.000 1.000 1.000 -     -     -    \n",
      "pT3a 1.000 1.000 1.000 1.000 1.000 -     -    \n",
      "pT3b 1.000 0.098 1.000 1.000 1.000 1.000 -    \n",
      "pT4  1.000 1.000 1.000 1.000 1.000 1.000 1.000\n",
      "\n",
      "P value adjustment method: bonferroni \n"
     ]
    }
   ],
   "source": [
    "DF_ASSOCIATION %>% filter(!is.na(pt_stage)) %>% summary_association(marker, pt_stage)"
   ]
  },
  {
   "cell_type": "markdown",
   "metadata": {
    "lines_to_next_cell": 0
   },
   "source": [
    "#### Tumor size, median"
   ]
  },
  {
   "cell_type": "code",
   "execution_count": 68,
   "metadata": {},
   "outputs": [
    {
     "name": "stdout",
     "output_type": "stream",
     "text": [
      "# A tibble: 2 x 9\n",
      "  feature           N  Mean    SD Median   IQR   Min   Max Missing\n",
      "  <fct>         <int> <dbl> <dbl>  <dbl> <dbl> <dbl> <dbl>   <int>\n",
      "1 Smaller tumor    37 0.722  1.61      0     0     0     6       1\n",
      "2 Larger tumor     38 1.81   3.56      0     3     0    15       1\n",
      "\n",
      "\tWilcoxon rank sum test with continuity correction\n",
      "\n",
      "data:  biomarker by feature\n",
      "W = 597, p-value = 0.3271\n",
      "alternative hypothesis: true location shift is not equal to 0\n",
      "\n"
     ]
    }
   ],
   "source": [
    "DF_ASSOCIATION %>% filter(!is.na(size_group)) %>% summary_association(marker, size_group)"
   ]
  },
  {
   "cell_type": "markdown",
   "metadata": {
    "lines_to_next_cell": 0
   },
   "source": [
    "#### Tumor focality"
   ]
  },
  {
   "cell_type": "code",
   "execution_count": 69,
   "metadata": {},
   "outputs": [
    {
     "name": "stdout",
     "output_type": "stream",
     "text": [
      "# A tibble: 2 x 9\n",
      "  feature              N  Mean    SD Median   IQR   Min   Max Missing\n",
      "  <fct>            <int> <dbl> <dbl>  <dbl> <dbl> <dbl> <dbl>   <int>\n",
      "1 Focal tumor         60  1.39  3.02      0  1        0    15       1\n",
      "2 Multifocal tumor    16  0.75  1.53      0  0.25     0     5       0\n",
      "\n",
      "\tWilcoxon rank sum test with continuity correction\n",
      "\n",
      "data:  biomarker by feature\n",
      "W = 492, p-value = 0.7458\n",
      "alternative hypothesis: true location shift is not equal to 0\n",
      "\n"
     ]
    }
   ],
   "source": [
    "DF_ASSOCIATION %>% filter(!is.na(focality)) %>% summary_association(marker, focality)"
   ]
  },
  {
   "cell_type": "markdown",
   "metadata": {
    "lines_to_next_cell": 0
   },
   "source": [
    "#### Tumor progression"
   ]
  },
  {
   "cell_type": "code",
   "execution_count": 70,
   "metadata": {},
   "outputs": [
    {
     "name": "stdout",
     "output_type": "stream",
     "text": [
      "# A tibble: 2 x 9\n",
      "  feature                  N  Mean    SD Median   IQR   Min   Max Missing\n",
      "  <fct>                <int> <dbl> <dbl>  <dbl> <dbl> <dbl> <dbl>   <int>\n",
      "1 No tumor progression    60  1.12  2.77      0  0        0    15       2\n",
      "2 Tumor progression       16  1.81  2.88      0  3.25     0    10       0\n",
      "\n",
      "\tWilcoxon rank sum test with continuity correction\n",
      "\n",
      "data:  biomarker by feature\n",
      "W = 368, p-value = 0.1086\n",
      "alternative hypothesis: true location shift is not equal to 0\n",
      "\n"
     ]
    }
   ],
   "source": [
    "DF_ASSOCIATION %>% filter(!is.na(progression)) %>% summary_association(marker, progression)"
   ]
  },
  {
   "cell_type": "markdown",
   "metadata": {
    "lines_to_next_cell": 0
   },
   "source": [
    "#### Overall mortality"
   ]
  },
  {
   "cell_type": "code",
   "execution_count": 71,
   "metadata": {},
   "outputs": [
    {
     "name": "stdout",
     "output_type": "stream",
     "text": [
      "# A tibble: 2 x 9\n",
      "  feature       N  Mean    SD Median   IQR   Min   Max Missing\n",
      "  <fct>     <int> <dbl> <dbl>  <dbl> <dbl> <dbl> <dbl>   <int>\n",
      "1 AND + AWD    49  1.19  2.89      0     0     0    15       2\n",
      "2 DOC + DOD    29  1.31  2.59      0     1     0    10       0\n",
      "\n",
      "\tWilcoxon rank sum test with continuity correction\n",
      "\n",
      "data:  biomarker by feature\n",
      "W = 608, p-value = 0.3134\n",
      "alternative hypothesis: true location shift is not equal to 0\n",
      "\n"
     ]
    }
   ],
   "source": [
    "DF_ASSOCIATION %>% filter(!is.na(death)) %>% summary_association(marker, death)"
   ]
  },
  {
   "cell_type": "markdown",
   "metadata": {
    "lines_to_next_cell": 0
   },
   "source": [
    "#### Cancer-related mortality"
   ]
  },
  {
   "cell_type": "code",
   "execution_count": 72,
   "metadata": {},
   "outputs": [
    {
     "name": "stdout",
     "output_type": "stream",
     "text": [
      "# A tibble: 2 x 9\n",
      "  feature             N  Mean    SD Median   IQR   Min   Max Missing\n",
      "  <fct>           <int> <dbl> <dbl>  <dbl> <dbl> <dbl> <dbl>   <int>\n",
      "1 AND + AWD + DOC    48  1.22  2.93      0     0     0    15       2\n",
      "2 DOD                11  1.91  3.08      0     3     0    10       0\n",
      "\n",
      "\tWilcoxon rank sum test with continuity correction\n",
      "\n",
      "data:  biomarker by feature\n",
      "W = 201.5, p-value = 0.1929\n",
      "alternative hypothesis: true location shift is not equal to 0\n",
      "\n"
     ]
    }
   ],
   "source": [
    "DF_ASSOCIATION %>% filter(!is.na(dod)) %>% summary_association(marker, dod)"
   ]
  },
  {
   "cell_type": "markdown",
   "metadata": {
    "lines_to_next_cell": 0
   },
   "source": [
    "## CD8\n",
    "### Intratumoral lymphocytes"
   ]
  },
  {
   "cell_type": "code",
   "execution_count": 73,
   "metadata": {},
   "outputs": [],
   "source": [
    "DF_ASSOCIATION <- DF_ASSOCIATION %>% \n",
    "  mutate(marker = cd8_intratumoral)"
   ]
  },
  {
   "cell_type": "markdown",
   "metadata": {
    "lines_to_next_cell": 0
   },
   "source": [
    "#### Age group, median"
   ]
  },
  {
   "cell_type": "code",
   "execution_count": 74,
   "metadata": {},
   "outputs": [
    {
     "name": "stdout",
     "output_type": "stream",
     "text": [
      "# A tibble: 2 x 9\n",
      "  feature               N  Mean    SD Median   IQR   Min   Max Missing\n",
      "  <fct>             <int> <dbl> <dbl>  <dbl> <dbl> <dbl> <dbl>   <int>\n",
      "1 Younger age group    38  18    23.3   11.5  17       0   130       0\n",
      "2 Older age group      40  28.2  44.5   12.5  21.2     0   210       0\n",
      "\n",
      "\tWilcoxon rank sum test with continuity correction\n",
      "\n",
      "data:  biomarker by feature\n",
      "W = 670.5, p-value = 0.3732\n",
      "alternative hypothesis: true location shift is not equal to 0\n",
      "\n"
     ]
    }
   ],
   "source": [
    "DF_ASSOCIATION %>% summary_association(marker, age_group)"
   ]
  },
  {
   "cell_type": "markdown",
   "metadata": {
    "lines_to_next_cell": 0
   },
   "source": [
    "#### Sex"
   ]
  },
  {
   "cell_type": "code",
   "execution_count": 75,
   "metadata": {},
   "outputs": [
    {
     "name": "stdout",
     "output_type": "stream",
     "text": [
      "# A tibble: 2 x 9\n",
      "  feature     N  Mean    SD Median   IQR   Min   Max Missing\n",
      "  <fct>   <int> <dbl> <dbl>  <dbl> <dbl> <dbl> <dbl>   <int>\n",
      "1 Female     15  16.7  25.6      8  11       1   105       0\n",
      "2 Male       63  24.8  37.9     13  21.5     0   210       0\n",
      "\n",
      "\tWilcoxon rank sum test with continuity correction\n",
      "\n",
      "data:  biomarker by feature\n",
      "W = 389.5, p-value = 0.2951\n",
      "alternative hypothesis: true location shift is not equal to 0\n",
      "\n"
     ]
    }
   ],
   "source": [
    "DF_ASSOCIATION %>% summary_association(marker, sex)"
   ]
  },
  {
   "cell_type": "markdown",
   "metadata": {
    "lines_to_next_cell": 0
   },
   "source": [
    "#### Race"
   ]
  },
  {
   "cell_type": "code",
   "execution_count": 76,
   "metadata": {},
   "outputs": [
    {
     "name": "stdout",
     "output_type": "stream",
     "text": [
      "# A tibble: 4 x 9\n",
      "  feature     N  Mean    SD Median   IQR   Min   Max Missing\n",
      "  <fct>   <int> <dbl> <dbl>  <dbl> <dbl> <dbl> <dbl>   <int>\n",
      "1 Asian       2  16.5  7.78   16.5   5.5    11    22       0\n",
      "2 Black      24  21.8 16.1    16    20.2     5    60       0\n",
      "3 Other       1  38   NA      38     0      38    38       0\n",
      "4 White      46  21.7 42.5     8.5  16       0   210       0\n",
      "\n",
      "\tKruskal-Wallis rank sum test\n",
      "\n",
      "data:  biomarker by feature\n",
      "Kruskal-Wallis chi-squared = 7.6884, df = 3, p-value = 0.05291\n",
      "\n",
      "\n",
      "\tPairwise comparisons using Wilcoxon rank sum test \n",
      "\n",
      "data:  biomarker and feature \n",
      "\n",
      "      Asian Black Other\n",
      "Black 1.00  -     -    \n",
      "Other 1.00  1.00  -    \n",
      "White 1.00  0.11  0.90 \n",
      "\n",
      "P value adjustment method: bonferroni \n"
     ]
    }
   ],
   "source": [
    "DF_ASSOCIATION %>% filter(!is.na(race)) %>% summary_association(marker, race)"
   ]
  },
  {
   "cell_type": "markdown",
   "metadata": {
    "lines_to_next_cell": 0
   },
   "source": [
    "#### Fuhrman grade"
   ]
  },
  {
   "cell_type": "code",
   "execution_count": 77,
   "metadata": {},
   "outputs": [
    {
     "name": "stdout",
     "output_type": "stream",
     "text": [
      "# A tibble: 4 x 9\n",
      "  feature     N  Mean    SD Median   IQR   Min   Max Missing\n",
      "  <ord>   <int> <dbl> <dbl>  <dbl> <dbl> <dbl> <dbl>   <int>\n",
      "1 Grade 1     2  33.5  37.5   33.5  26.5     7    60       0\n",
      "2 Grade 2    34  16.5  13.9   12.5  19.5     1    50       0\n",
      "3 Grade 3    29  16.5  24.1   11    15       0   130       0\n",
      "4 Grade 4    10  67.7  75.8   28.5  87.2     0   210       0\n",
      "\n",
      "\tKruskal-Wallis rank sum test\n",
      "\n",
      "data:  biomarker by feature\n",
      "Kruskal-Wallis chi-squared = 5.8191, df = 3, p-value = 0.1208\n",
      "\n",
      "\n",
      "\tPairwise comparisons using Wilcoxon rank sum test \n",
      "\n",
      "data:  biomarker and feature \n",
      "\n",
      "        Grade 1 Grade 2 Grade 3\n",
      "Grade 2 1.00    -       -      \n",
      "Grade 3 1.00    1.00    -      \n",
      "Grade 4 1.00    0.34    0.18   \n",
      "\n",
      "P value adjustment method: bonferroni \n"
     ]
    }
   ],
   "source": [
    "DF_ASSOCIATION %>% filter(!is.na(fuhrman)) %>% summary_association(marker, fuhrman)"
   ]
  },
  {
   "cell_type": "markdown",
   "metadata": {
    "lines_to_next_cell": 0
   },
   "source": [
    "#### pT stage"
   ]
  },
  {
   "cell_type": "code",
   "execution_count": 78,
   "metadata": {},
   "outputs": [
    {
     "name": "stdout",
     "output_type": "stream",
     "text": [
      "# A tibble: 8 x 9\n",
      "  feature     N  Mean    SD Median   IQR   Min   Max Missing\n",
      "  <ord>   <int> <dbl> <dbl>  <dbl> <dbl> <dbl> <dbl>   <int>\n",
      "1 pTx         1  18   NA        18   0      18    18       0\n",
      "2 pT1a       29  31.6 47.7      20  22       3   210       0\n",
      "3 pT1b        9  14.4  5.53     13   7       7    25       0\n",
      "4 pT2a        5   8.4  9.32      3  16       1    20       0\n",
      "5 pT2b        6  20.2 19.6      10  26.5     5    50       0\n",
      "6 pT3a       23  24.0 35.2      10  17.5     0   130       0\n",
      "7 pT3b        2  14   19.8      14  14       0    28       0\n",
      "8 pT4         1   1   NA         1   0       1     1       0\n",
      "\n",
      "\tKruskal-Wallis rank sum test\n",
      "\n",
      "data:  biomarker by feature\n",
      "Kruskal-Wallis chi-squared = 8.3532, df = 7, p-value = 0.3025\n",
      "\n",
      "\n",
      "\tPairwise comparisons using Wilcoxon rank sum test \n",
      "\n",
      "data:  biomarker and feature \n",
      "\n",
      "     pTx pT1a pT1b pT2a pT2b pT3a pT3b\n",
      "pT1a 1   -    -    -    -    -    -   \n",
      "pT1b 1   1    -    -    -    -    -   \n",
      "pT2a 1   1    1    -    -    -    -   \n",
      "pT2b 1   1    1    1    -    -    -   \n",
      "pT3a 1   1    1    1    1    -    -   \n",
      "pT3b 1   1    1    1    1    1    -   \n",
      "pT4  1   1    1    1    1    1    1   \n",
      "\n",
      "P value adjustment method: bonferroni \n"
     ]
    }
   ],
   "source": [
    "DF_ASSOCIATION %>% filter(!is.na(pt_stage)) %>% summary_association(marker, pt_stage)"
   ]
  },
  {
   "cell_type": "markdown",
   "metadata": {
    "lines_to_next_cell": 0
   },
   "source": [
    "#### Tumor size, median"
   ]
  },
  {
   "cell_type": "code",
   "execution_count": 79,
   "metadata": {},
   "outputs": [
    {
     "name": "stdout",
     "output_type": "stream",
     "text": [
      "# A tibble: 2 x 9\n",
      "  feature           N  Mean    SD Median   IQR   Min   Max Missing\n",
      "  <fct>         <int> <dbl> <dbl>  <dbl> <dbl> <dbl> <dbl>   <int>\n",
      "1 Smaller tumor    37  25.9  43.4     12  23       0   210       0\n",
      "2 Larger tumor     38  21.7  28.7     12  16.8     0   130       0\n",
      "\n",
      "\tWilcoxon rank sum test with continuity correction\n",
      "\n",
      "data:  biomarker by feature\n",
      "W = 733, p-value = 0.7543\n",
      "alternative hypothesis: true location shift is not equal to 0\n",
      "\n"
     ]
    }
   ],
   "source": [
    "DF_ASSOCIATION %>% filter(!is.na(size_group)) %>% summary_association(marker, size_group)"
   ]
  },
  {
   "cell_type": "markdown",
   "metadata": {
    "lines_to_next_cell": 0
   },
   "source": [
    "#### Tumor focality"
   ]
  },
  {
   "cell_type": "code",
   "execution_count": 80,
   "metadata": {},
   "outputs": [
    {
     "name": "stdout",
     "output_type": "stream",
     "text": [
      "# A tibble: 2 x 9\n",
      "  feature              N  Mean    SD Median   IQR   Min   Max Missing\n",
      "  <fct>            <int> <dbl> <dbl>  <dbl> <dbl> <dbl> <dbl>   <int>\n",
      "1 Focal tumor         60  17.8  22.0   11.5  17       0   130       0\n",
      "2 Multifocal tumor    16  44.1  64.0   18    25.5     0   210       0\n",
      "\n",
      "\tWilcoxon rank sum test with continuity correction\n",
      "\n",
      "data:  biomarker by feature\n",
      "W = 352.5, p-value = 0.1053\n",
      "alternative hypothesis: true location shift is not equal to 0\n",
      "\n"
     ]
    }
   ],
   "source": [
    "DF_ASSOCIATION %>% filter(!is.na(focality)) %>% summary_association(marker, focality)"
   ]
  },
  {
   "cell_type": "markdown",
   "metadata": {
    "lines_to_next_cell": 0
   },
   "source": [
    "#### Tumor progression"
   ]
  },
  {
   "cell_type": "code",
   "execution_count": 81,
   "metadata": {},
   "outputs": [
    {
     "name": "stdout",
     "output_type": "stream",
     "text": [
      "# A tibble: 2 x 9\n",
      "  feature                  N  Mean    SD Median   IQR   Min   Max Missing\n",
      "  <fct>                <int> <dbl> <dbl>  <dbl> <dbl> <dbl> <dbl>   <int>\n",
      "1 No tumor progression    60  19.0  20.0   12    19.2     0   105       0\n",
      "2 Tumor progression       16  40.5  68.0   12.5  19       0   210       0\n",
      "\n",
      "\tWilcoxon rank sum test with continuity correction\n",
      "\n",
      "data:  biomarker by feature\n",
      "W = 511, p-value = 0.6973\n",
      "alternative hypothesis: true location shift is not equal to 0\n",
      "\n"
     ]
    }
   ],
   "source": [
    "DF_ASSOCIATION %>% filter(!is.na(progression)) %>% summary_association(marker, progression)"
   ]
  },
  {
   "cell_type": "markdown",
   "metadata": {
    "lines_to_next_cell": 0
   },
   "source": [
    "#### Overall mortality"
   ]
  },
  {
   "cell_type": "code",
   "execution_count": 82,
   "metadata": {},
   "outputs": [
    {
     "name": "stdout",
     "output_type": "stream",
     "text": [
      "# A tibble: 2 x 9\n",
      "  feature       N  Mean    SD Median   IQR   Min   Max Missing\n",
      "  <fct>     <int> <dbl> <dbl>  <dbl> <dbl> <dbl> <dbl>   <int>\n",
      "1 AND + AWD    49  19.0  19.2     12    22     1   105       0\n",
      "2 DOC + DOD    29  30.4  53.1     12    13     0   210       0\n",
      "\n",
      "\tWilcoxon rank sum test with continuity correction\n",
      "\n",
      "data:  biomarker by feature\n",
      "W = 761, p-value = 0.6048\n",
      "alternative hypothesis: true location shift is not equal to 0\n",
      "\n"
     ]
    }
   ],
   "source": [
    "DF_ASSOCIATION %>% filter(!is.na(death)) %>% summary_association(marker, death)"
   ]
  },
  {
   "cell_type": "markdown",
   "metadata": {
    "lines_to_next_cell": 0
   },
   "source": [
    "#### Cancer-related mortality"
   ]
  },
  {
   "cell_type": "code",
   "execution_count": 83,
   "metadata": {},
   "outputs": [
    {
     "name": "stdout",
     "output_type": "stream",
     "text": [
      "# A tibble: 2 x 9\n",
      "  feature             N  Mean    SD Median   IQR   Min   Max Missing\n",
      "  <fct>           <int> <dbl> <dbl>  <dbl> <dbl> <dbl> <dbl>   <int>\n",
      "1 AND + AWD + DOC    48  17.6  14.2   13.5  19.2     0    60       0\n",
      "2 DOD                11  21.9  37.2   10    13       0   130       0\n",
      "\n",
      "\tWilcoxon rank sum test with continuity correction\n",
      "\n",
      "data:  biomarker by feature\n",
      "W = 307.5, p-value = 0.4019\n",
      "alternative hypothesis: true location shift is not equal to 0\n",
      "\n"
     ]
    }
   ],
   "source": [
    "DF_ASSOCIATION %>% filter(!is.na(dod)) %>% summary_association(marker, dod)"
   ]
  },
  {
   "cell_type": "markdown",
   "metadata": {
    "lines_to_next_cell": 0
   },
   "source": [
    "### Peritumoral lymphocytes"
   ]
  },
  {
   "cell_type": "code",
   "execution_count": 84,
   "metadata": {},
   "outputs": [],
   "source": [
    "DF_ASSOCIATION <- DF_ASSOCIATION %>% \n",
    "  mutate(marker = cd8_peritumoral)"
   ]
  },
  {
   "cell_type": "markdown",
   "metadata": {
    "lines_to_next_cell": 0
   },
   "source": [
    "#### Age group, median"
   ]
  },
  {
   "cell_type": "code",
   "execution_count": 85,
   "metadata": {},
   "outputs": [
    {
     "name": "stdout",
     "output_type": "stream",
     "text": [
      "# A tibble: 2 x 9\n",
      "  feature               N  Mean    SD Median   IQR   Min   Max Missing\n",
      "  <fct>             <int> <dbl> <dbl>  <dbl> <dbl> <dbl> <dbl>   <int>\n",
      "1 Younger age group    38  12.3  17.7      6  11.5     0    85       7\n",
      "2 Older age group      40  11.6  23.8      4  12.5     0   120       4\n",
      "\n",
      "\tWilcoxon rank sum test with continuity correction\n",
      "\n",
      "data:  biomarker by feature\n",
      "W = 660.5, p-value = 0.196\n",
      "alternative hypothesis: true location shift is not equal to 0\n",
      "\n"
     ]
    }
   ],
   "source": [
    "DF_ASSOCIATION %>% summary_association(marker, age_group)"
   ]
  },
  {
   "cell_type": "markdown",
   "metadata": {
    "lines_to_next_cell": 0
   },
   "source": [
    "#### Sex"
   ]
  },
  {
   "cell_type": "code",
   "execution_count": 86,
   "metadata": {},
   "outputs": [
    {
     "name": "stdout",
     "output_type": "stream",
     "text": [
      "# A tibble: 2 x 9\n",
      "  feature     N  Mean    SD Median   IQR   Min   Max Missing\n",
      "  <fct>   <int> <dbl> <dbl>  <dbl> <dbl> <dbl> <dbl>   <int>\n",
      "1 Female     15  5.18  8.07      1     6     0    25       4\n",
      "2 Male       63 13.3  22.6       6    13     0   120       7\n",
      "\n",
      "\tWilcoxon rank sum test with continuity correction\n",
      "\n",
      "data:  biomarker by feature\n",
      "W = 212, p-value = 0.1032\n",
      "alternative hypothesis: true location shift is not equal to 0\n",
      "\n"
     ]
    }
   ],
   "source": [
    "DF_ASSOCIATION %>% summary_association(marker, sex)"
   ]
  },
  {
   "cell_type": "markdown",
   "metadata": {
    "lines_to_next_cell": 0
   },
   "source": [
    "#### Race"
   ]
  },
  {
   "cell_type": "code",
   "execution_count": 87,
   "metadata": {},
   "outputs": [
    {
     "name": "stdout",
     "output_type": "stream",
     "text": [
      "# A tibble: 4 x 9\n",
      "  feature     N  Mean    SD Median   IQR   Min   Max Missing\n",
      "  <fct>   <int> <dbl> <dbl>  <dbl> <dbl> <dbl> <dbl>   <int>\n",
      "1 Asian       2   2.5  2.12    2.5   1.5     1     4       0\n",
      "2 Black      24  12.1 13.4     9    13.5     0    47       5\n",
      "3 Other       1   6   NA       6     0       6     6       0\n",
      "4 White      46  13.7 25.4     6    12.5     0   120       6\n",
      "\n",
      "\tKruskal-Wallis rank sum test\n",
      "\n",
      "data:  biomarker by feature\n",
      "Kruskal-Wallis chi-squared = 1.1095, df = 3, p-value = 0.7748\n",
      "\n",
      "\n",
      "\tPairwise comparisons using Wilcoxon rank sum test \n",
      "\n",
      "data:  biomarker and feature \n",
      "\n",
      "      Asian Black Other\n",
      "Black 1     -     -    \n",
      "Other 1     1     -    \n",
      "White 1     1     1    \n",
      "\n",
      "P value adjustment method: bonferroni \n"
     ]
    }
   ],
   "source": [
    "DF_ASSOCIATION %>% filter(!is.na(race)) %>% summary_association(marker, race)"
   ]
  },
  {
   "cell_type": "markdown",
   "metadata": {
    "lines_to_next_cell": 0
   },
   "source": [
    "#### Fuhrman grade"
   ]
  },
  {
   "cell_type": "code",
   "execution_count": 88,
   "metadata": {},
   "outputs": [
    {
     "name": "stdout",
     "output_type": "stream",
     "text": [
      "# A tibble: 4 x 9\n",
      "  feature     N  Mean    SD Median   IQR   Min   Max Missing\n",
      "  <ord>   <int> <dbl> <dbl>  <dbl> <dbl> <dbl> <dbl>   <int>\n",
      "1 Grade 1     2  13    NA     13    0       13    13       1\n",
      "2 Grade 2    34  11.6  16.5    7   13        0    85       5\n",
      "3 Grade 3    29  10.3  18.3    3.5 10.5      0    83       5\n",
      "4 Grade 4    10  15.1  37.1    3    6.75     0   120       0\n",
      "\n",
      "\tKruskal-Wallis rank sum test\n",
      "\n",
      "data:  biomarker by feature\n",
      "Kruskal-Wallis chi-squared = 3.3368, df = 3, p-value = 0.3425\n",
      "\n",
      "\n",
      "\tPairwise comparisons using Wilcoxon rank sum test \n",
      "\n",
      "data:  biomarker and feature \n",
      "\n",
      "        Grade 1 Grade 2 Grade 3\n",
      "Grade 2 1       -       -      \n",
      "Grade 3 1       1       -      \n",
      "Grade 4 1       1       1      \n",
      "\n",
      "P value adjustment method: bonferroni \n"
     ]
    }
   ],
   "source": [
    "DF_ASSOCIATION %>% filter(!is.na(fuhrman)) %>% summary_association(marker, fuhrman)"
   ]
  },
  {
   "cell_type": "markdown",
   "metadata": {
    "lines_to_next_cell": 0
   },
   "source": [
    "#### pT stage"
   ]
  },
  {
   "cell_type": "code",
   "execution_count": 89,
   "metadata": {},
   "outputs": [
    {
     "name": "stdout",
     "output_type": "stream",
     "text": [
      "# A tibble: 8 x 9\n",
      "  feature     N  Mean    SD Median   IQR   Min   Max Missing\n",
      "  <ord>   <int> <dbl> <dbl>  <dbl> <dbl> <dbl> <dbl>   <int>\n",
      "1 pTx         1  12   NA      12     0      12    12       0\n",
      "2 pT1a       29  13.3 24.4     7    12       0   120       6\n",
      "3 pT1b        9  20.4 27.7    11.5  13.2     0    85       1\n",
      "4 pT2a        5   9.6 20.9     0     1       0    47       0\n",
      "5 pT2b        6   8.2 12.6     3     8       0    30       1\n",
      "6 pT3a       23   6.8  9.70    3     8.5     0    34       3\n",
      "7 pT3b        2  43.5 55.9    43.5  39.5     4    83       0\n",
      "8 pT4         1   3   NA       3     0       3     3       0\n",
      "\n",
      "\tKruskal-Wallis rank sum test\n",
      "\n",
      "data:  biomarker by feature\n",
      "Kruskal-Wallis chi-squared = 8.9406, df = 7, p-value = 0.2569\n",
      "\n",
      "\n",
      "\tPairwise comparisons using Wilcoxon rank sum test \n",
      "\n",
      "data:  biomarker and feature \n",
      "\n",
      "     pTx pT1a pT1b pT2a pT2b pT3a pT3b\n",
      "pT1a 1   -    -    -    -    -    -   \n",
      "pT1b 1   1    -    -    -    -    -   \n",
      "pT2a 1   1    1    -    -    -    -   \n",
      "pT2b 1   1    1    1    -    -    -   \n",
      "pT3a 1   1    1    1    1    -    -   \n",
      "pT3b 1   1    1    1    1    1    -   \n",
      "pT4  1   1    1    1    1    1    1   \n",
      "\n",
      "P value adjustment method: bonferroni \n"
     ]
    }
   ],
   "source": [
    "DF_ASSOCIATION %>% filter(!is.na(pt_stage)) %>% summary_association(marker, pt_stage)"
   ]
  },
  {
   "cell_type": "markdown",
   "metadata": {
    "lines_to_next_cell": 0
   },
   "source": [
    "#### Tumor size, median"
   ]
  },
  {
   "cell_type": "code",
   "execution_count": 90,
   "metadata": {},
   "outputs": [
    {
     "name": "stdout",
     "output_type": "stream",
     "text": [
      "# A tibble: 2 x 9\n",
      "  feature           N  Mean    SD Median   IQR   Min   Max Missing\n",
      "  <fct>         <int> <dbl> <dbl>  <dbl> <dbl> <dbl> <dbl>   <int>\n",
      "1 Smaller tumor    37 14.9   25.4    7   14        0   120       7\n",
      "2 Larger tumor     38  9.68  17.5    3.5  8.75     0    85       4\n",
      "\n",
      "\tWilcoxon rank sum test with continuity correction\n",
      "\n",
      "data:  biomarker by feature\n",
      "W = 626, p-value = 0.1169\n",
      "alternative hypothesis: true location shift is not equal to 0\n",
      "\n"
     ]
    }
   ],
   "source": [
    "DF_ASSOCIATION %>% filter(!is.na(size_group)) %>% summary_association(marker, size_group)"
   ]
  },
  {
   "cell_type": "markdown",
   "metadata": {
    "lines_to_next_cell": 0
   },
   "source": [
    "#### Tumor focality"
   ]
  },
  {
   "cell_type": "code",
   "execution_count": 91,
   "metadata": {},
   "outputs": [
    {
     "name": "stdout",
     "output_type": "stream",
     "text": [
      "# A tibble: 2 x 9\n",
      "  feature              N  Mean    SD Median   IQR   Min   Max Missing\n",
      "  <fct>            <int> <dbl> <dbl>  <dbl> <dbl> <dbl> <dbl>   <int>\n",
      "1 Focal tumor         60  10.7  15.1    6   12.5      0    85      10\n",
      "2 Multifocal tumor    16  15.9  34.4    2.5  8.75     0   120       0\n",
      "\n",
      "\tWilcoxon rank sum test with continuity correction\n",
      "\n",
      "data:  biomarker by feature\n",
      "W = 478, p-value = 0.2422\n",
      "alternative hypothesis: true location shift is not equal to 0\n",
      "\n"
     ]
    }
   ],
   "source": [
    "DF_ASSOCIATION %>% filter(!is.na(focality)) %>% summary_association(marker, focality)"
   ]
  },
  {
   "cell_type": "markdown",
   "metadata": {
    "lines_to_next_cell": 0
   },
   "source": [
    "#### Tumor progression"
   ]
  },
  {
   "cell_type": "code",
   "execution_count": 92,
   "metadata": {},
   "outputs": [
    {
     "name": "stdout",
     "output_type": "stream",
     "text": [
      "# A tibble: 2 x 9\n",
      "  feature                  N  Mean    SD Median   IQR   Min   Max Missing\n",
      "  <fct>                <int> <dbl> <dbl>  <dbl> <dbl> <dbl> <dbl>   <int>\n",
      "1 No tumor progression    60  10.0  14.9      6    12     0    85      11\n",
      "2 Tumor progression       16  18.4  34.2      4    12     0   120       0\n",
      "\n",
      "\tWilcoxon rank sum test with continuity correction\n",
      "\n",
      "data:  biomarker by feature\n",
      "W = 394.5, p-value = 0.9755\n",
      "alternative hypothesis: true location shift is not equal to 0\n",
      "\n"
     ]
    }
   ],
   "source": [
    "DF_ASSOCIATION %>% filter(!is.na(progression)) %>% summary_association(marker, progression)"
   ]
  },
  {
   "cell_type": "markdown",
   "metadata": {
    "lines_to_next_cell": 0
   },
   "source": [
    "#### Overall mortality"
   ]
  },
  {
   "cell_type": "code",
   "execution_count": 93,
   "metadata": {},
   "outputs": [
    {
     "name": "stdout",
     "output_type": "stream",
     "text": [
      "# A tibble: 2 x 9\n",
      "  feature       N  Mean    SD Median   IQR   Min   Max Missing\n",
      "  <fct>     <int> <dbl> <dbl>  <dbl> <dbl> <dbl> <dbl>   <int>\n",
      "1 AND + AWD    49  11.8  18.9    6.5  13.2     0    85       9\n",
      "2 DOC + DOD    29  12.1  24.3    4    10.5     0   120       2\n",
      "\n",
      "\tWilcoxon rank sum test with continuity correction\n",
      "\n",
      "data:  biomarker by feature\n",
      "W = 587, p-value = 0.549\n",
      "alternative hypothesis: true location shift is not equal to 0\n",
      "\n"
     ]
    }
   ],
   "source": [
    "DF_ASSOCIATION %>% filter(!is.na(death)) %>% summary_association(marker, death)"
   ]
  },
  {
   "cell_type": "markdown",
   "metadata": {
    "lines_to_next_cell": 0
   },
   "source": [
    "#### Cancer-related mortality"
   ]
  },
  {
   "cell_type": "code",
   "execution_count": 94,
   "metadata": {},
   "outputs": [
    {
     "name": "stdout",
     "output_type": "stream",
     "text": [
      "# A tibble: 2 x 9\n",
      "  feature             N  Mean    SD Median   IQR   Min   Max Missing\n",
      "  <fct>           <int> <dbl> <dbl>  <dbl> <dbl> <dbl> <dbl>   <int>\n",
      "1 AND + AWD + DOC    48  14.9  19.5    8    11       0    85      10\n",
      "2 DOD                11   7.6  10.9    2.5  11.5     0    34       1\n",
      "\n",
      "\tWilcoxon rank sum test with continuity correction\n",
      "\n",
      "data:  biomarker by feature\n",
      "W = 250, p-value = 0.1295\n",
      "alternative hypothesis: true location shift is not equal to 0\n",
      "\n"
     ]
    }
   ],
   "source": [
    "DF_ASSOCIATION %>% filter(!is.na(dod)) %>% summary_association(marker, dod)"
   ]
  },
  {
   "cell_type": "markdown",
   "metadata": {
    "lines_to_next_cell": 0
   },
   "source": [
    "## CD8/Ki67\n",
    "### Intratumoral lymphocytes"
   ]
  },
  {
   "cell_type": "code",
   "execution_count": 95,
   "metadata": {},
   "outputs": [],
   "source": [
    "DF_ASSOCIATION <- DF_ASSOCIATION %>% \n",
    "  mutate(marker = cd8ki67_intratumoral)"
   ]
  },
  {
   "cell_type": "markdown",
   "metadata": {
    "lines_to_next_cell": 0
   },
   "source": [
    "#### Age group, median"
   ]
  },
  {
   "cell_type": "code",
   "execution_count": 96,
   "metadata": {},
   "outputs": [
    {
     "name": "stdout",
     "output_type": "stream",
     "text": [
      "# A tibble: 2 x 9\n",
      "  feature               N  Mean    SD Median   IQR   Min   Max Missing\n",
      "  <fct>             <int> <dbl> <dbl>  <dbl> <dbl> <dbl> <dbl>   <int>\n",
      "1 Younger age group    38 0.417 0.604      0  1        0     2       2\n",
      "2 Older age group      40 1.12  2.08       0  1.25     0     8       0\n",
      "\n",
      "\tWilcoxon rank sum test with continuity correction\n",
      "\n",
      "data:  biomarker by feature\n",
      "W = 671, p-value = 0.5532\n",
      "alternative hypothesis: true location shift is not equal to 0\n",
      "\n"
     ]
    }
   ],
   "source": [
    "DF_ASSOCIATION %>% summary_association(marker, age_group)"
   ]
  },
  {
   "cell_type": "markdown",
   "metadata": {
    "lines_to_next_cell": 0
   },
   "source": [
    "#### Sex"
   ]
  },
  {
   "cell_type": "code",
   "execution_count": 97,
   "metadata": {},
   "outputs": [
    {
     "name": "stdout",
     "output_type": "stream",
     "text": [
      "# A tibble: 2 x 9\n",
      "  feature     N  Mean    SD Median   IQR   Min   Max Missing\n",
      "  <fct>   <int> <dbl> <dbl>  <dbl> <dbl> <dbl> <dbl>   <int>\n",
      "1 Female     15 0.933  2.12      0     1     0     8       0\n",
      "2 Male       63 0.754  1.46      0     1     0     7       2\n",
      "\n",
      "\tWilcoxon rank sum test with continuity correction\n",
      "\n",
      "data:  biomarker by feature\n",
      "W = 448, p-value = 0.8902\n",
      "alternative hypothesis: true location shift is not equal to 0\n",
      "\n"
     ]
    }
   ],
   "source": [
    "DF_ASSOCIATION %>% summary_association(marker, sex)"
   ]
  },
  {
   "cell_type": "markdown",
   "metadata": {
    "lines_to_next_cell": 0
   },
   "source": [
    "#### Race"
   ]
  },
  {
   "cell_type": "code",
   "execution_count": 98,
   "metadata": {},
   "outputs": [
    {
     "name": "stdout",
     "output_type": "stream",
     "text": [
      "# A tibble: 4 x 9\n",
      "  feature     N  Mean     SD Median   IQR   Min   Max Missing\n",
      "  <fct>   <int> <dbl>  <dbl>  <dbl> <dbl> <dbl> <dbl>   <int>\n",
      "1 Asian       2 0      0          0     0     0     0       0\n",
      "2 Black      24 0.542  0.833      0     1     0     3       0\n",
      "3 Other       1 1     NA          1     0     1     1       0\n",
      "4 White      46 0.682  1.58       0     1     0     7       2\n",
      "\n",
      "\tKruskal-Wallis rank sum test\n",
      "\n",
      "data:  biomarker by feature\n",
      "Kruskal-Wallis chi-squared = 2.7127, df = 3, p-value = 0.4381\n",
      "\n",
      "\n",
      "\tPairwise comparisons using Wilcoxon rank sum test \n",
      "\n",
      "data:  biomarker and feature \n",
      "\n",
      "      Asian Black Other\n",
      "Black 1     -     -    \n",
      "Other 1     1     -    \n",
      "White 1     1     1    \n",
      "\n",
      "P value adjustment method: bonferroni \n"
     ]
    }
   ],
   "source": [
    "DF_ASSOCIATION %>% filter(!is.na(race)) %>% summary_association(marker, race)"
   ]
  },
  {
   "cell_type": "markdown",
   "metadata": {
    "lines_to_next_cell": 0
   },
   "source": [
    "#### Fuhrman grade"
   ]
  },
  {
   "cell_type": "code",
   "execution_count": 99,
   "metadata": {},
   "outputs": [
    {
     "name": "stdout",
     "output_type": "stream",
     "text": [
      "# A tibble: 4 x 9\n",
      "  feature     N  Mean    SD Median   IQR   Min   Max Missing\n",
      "  <ord>   <int> <dbl> <dbl>  <dbl> <dbl> <dbl> <dbl>   <int>\n",
      "1 Grade 1     2 0     0          0     0     0     0       0\n",
      "2 Grade 2    34 0.294 0.629      0     0     0     3       0\n",
      "3 Grade 3    29 0.679 1.12       0     1     0     5       1\n",
      "4 Grade 4    10 3.44  2.92       2     5     0     8       1\n",
      "\n",
      "\tKruskal-Wallis rank sum test\n",
      "\n",
      "data:  biomarker by feature\n",
      "Kruskal-Wallis chi-squared = 19.73, df = 3, p-value = 0.000193\n",
      "\n",
      "\n",
      "\tPairwise comparisons using Wilcoxon rank sum test \n",
      "\n",
      "data:  biomarker and feature \n",
      "\n",
      "        Grade 1 Grade 2 Grade 3\n",
      "Grade 2 1.00000 -       -      \n",
      "Grade 3 1.00000 0.76075 -      \n",
      "Grade 4 0.43844 0.00018 0.00986\n",
      "\n",
      "P value adjustment method: bonferroni \n"
     ]
    }
   ],
   "source": [
    "DF_ASSOCIATION %>% filter(!is.na(fuhrman)) %>% summary_association(marker, fuhrman)"
   ]
  },
  {
   "cell_type": "markdown",
   "metadata": {
    "lines_to_next_cell": 0
   },
   "source": [
    "#### pT stage"
   ]
  },
  {
   "cell_type": "code",
   "execution_count": 100,
   "metadata": {},
   "outputs": [
    {
     "name": "stdout",
     "output_type": "stream",
     "text": [
      "# A tibble: 8 x 9\n",
      "  feature     N  Mean     SD Median   IQR   Min   Max Missing\n",
      "  <ord>   <int> <dbl>  <dbl>  <dbl> <dbl> <dbl> <dbl>   <int>\n",
      "1 pTx         1 0     NA          0  0        0     0       0\n",
      "2 pT1a       29 0.690  1.67       0  1        0     7       0\n",
      "3 pT1b        9 0.556  1.01       0  1        0     3       0\n",
      "4 pT2a        5 0      0          0  0        0     0       0\n",
      "5 pT2b        6 0.333  0.516      0  0.75     0     1       0\n",
      "6 pT3a       23 1.41   2.02       1  2        0     8       1\n",
      "7 pT3b        2 2     NA          2  0        2     2       1\n",
      "8 pT4         1 0     NA          0  0        0     0       0\n",
      "\n",
      "\tKruskal-Wallis rank sum test\n",
      "\n",
      "data:  biomarker by feature\n",
      "Kruskal-Wallis chi-squared = 11.126, df = 7, p-value = 0.1332\n",
      "\n",
      "\n",
      "\tPairwise comparisons using Wilcoxon rank sum test \n",
      "\n",
      "data:  biomarker and feature \n",
      "\n",
      "     pTx pT1a pT1b pT2a pT2b pT3a pT3b\n",
      "pT1a 1   -    -    -    -    -    -   \n",
      "pT1b 1   1    -    -    -    -    -   \n",
      "pT2a -   1    1    -    -    -    -   \n",
      "pT2b 1   1    1    1    -    -    -   \n",
      "pT3a 1   1    1    1    1    -    -   \n",
      "pT3b 1   1    1    1    1    1    -   \n",
      "pT4  -   1    1    -    1    1    1   \n",
      "\n",
      "P value adjustment method: bonferroni \n"
     ]
    }
   ],
   "source": [
    "DF_ASSOCIATION %>% filter(!is.na(pt_stage)) %>% summary_association(marker, pt_stage)"
   ]
  },
  {
   "cell_type": "markdown",
   "metadata": {
    "lines_to_next_cell": 0
   },
   "source": [
    "#### Tumor size, median"
   ]
  },
  {
   "cell_type": "code",
   "execution_count": 101,
   "metadata": {},
   "outputs": [
    {
     "name": "stdout",
     "output_type": "stream",
     "text": [
      "# A tibble: 2 x 9\n",
      "  feature           N  Mean    SD Median   IQR   Min   Max Missing\n",
      "  <fct>         <int> <dbl> <dbl>  <dbl> <dbl> <dbl> <dbl>   <int>\n",
      "1 Smaller tumor    37 0.622  1.53      0     1     0     7       0\n",
      "2 Larger tumor     38 1.03   1.70      0     1     0     8       2\n",
      "\n",
      "\tWilcoxon rank sum test with continuity correction\n",
      "\n",
      "data:  biomarker by feature\n",
      "W = 527.5, p-value = 0.07685\n",
      "alternative hypothesis: true location shift is not equal to 0\n",
      "\n"
     ]
    }
   ],
   "source": [
    "DF_ASSOCIATION %>% filter(!is.na(size_group)) %>% summary_association(marker, size_group)"
   ]
  },
  {
   "cell_type": "markdown",
   "metadata": {
    "lines_to_next_cell": 0
   },
   "source": [
    "#### Tumor focality"
   ]
  },
  {
   "cell_type": "code",
   "execution_count": 102,
   "metadata": {},
   "outputs": [
    {
     "name": "stdout",
     "output_type": "stream",
     "text": [
      "# A tibble: 2 x 9\n",
      "  feature              N  Mean    SD Median   IQR   Min   Max Missing\n",
      "  <fct>            <int> <dbl> <dbl>  <dbl> <dbl> <dbl> <dbl>   <int>\n",
      "1 Focal tumor         60 0.492 0.838      0   1       0     4       1\n",
      "2 Multifocal tumor    16 2.07  2.91       0   3.5     0     8       1\n",
      "\n",
      "\tWilcoxon rank sum test with continuity correction\n",
      "\n",
      "data:  biomarker by feature\n",
      "W = 337, p-value = 0.09962\n",
      "alternative hypothesis: true location shift is not equal to 0\n",
      "\n"
     ]
    }
   ],
   "source": [
    "DF_ASSOCIATION %>% filter(!is.na(focality)) %>% summary_association(marker, focality)"
   ]
  },
  {
   "cell_type": "markdown",
   "metadata": {
    "lines_to_next_cell": 0
   },
   "source": [
    "#### Tumor progression"
   ]
  },
  {
   "cell_type": "code",
   "execution_count": 103,
   "metadata": {},
   "outputs": [
    {
     "name": "stdout",
     "output_type": "stream",
     "text": [
      "# A tibble: 2 x 9\n",
      "  feature                  N  Mean    SD Median   IQR   Min   Max Missing\n",
      "  <fct>                <int> <dbl> <dbl>  <dbl> <dbl> <dbl> <dbl>   <int>\n",
      "1 No tumor progression    60  0.55  1.35    0    1        0     8       0\n",
      "2 Tumor progression       16  1.93  2.16    1.5  1.75     0     7       2\n",
      "\n",
      "\tWilcoxon rank sum test with continuity correction\n",
      "\n",
      "data:  biomarker by feature\n",
      "W = 208, p-value = 0.0006625\n",
      "alternative hypothesis: true location shift is not equal to 0\n",
      "\n"
     ]
    }
   ],
   "source": [
    "DF_ASSOCIATION %>% filter(!is.na(progression)) %>% summary_association(marker, progression)"
   ]
  },
  {
   "cell_type": "markdown",
   "metadata": {
    "lines_to_next_cell": 0
   },
   "source": [
    "#### Overall mortality"
   ]
  },
  {
   "cell_type": "code",
   "execution_count": 104,
   "metadata": {},
   "outputs": [
    {
     "name": "stdout",
     "output_type": "stream",
     "text": [
      "# A tibble: 2 x 9\n",
      "  feature       N  Mean    SD Median   IQR   Min   Max Missing\n",
      "  <fct>     <int> <dbl> <dbl>  <dbl> <dbl> <dbl> <dbl>   <int>\n",
      "1 AND + AWD    49 0.571  1.38      0     1     0     8       0\n",
      "2 DOC + DOD    29 1.19   1.88      0     2     0     7       2\n",
      "\n",
      "\tWilcoxon rank sum test with continuity correction\n",
      "\n",
      "data:  biomarker by feature\n",
      "W = 536, p-value = 0.1108\n",
      "alternative hypothesis: true location shift is not equal to 0\n",
      "\n"
     ]
    }
   ],
   "source": [
    "DF_ASSOCIATION %>% filter(!is.na(death)) %>% summary_association(marker, death)"
   ]
  },
  {
   "cell_type": "markdown",
   "metadata": {
    "lines_to_next_cell": 0
   },
   "source": [
    "#### Cancer-related mortality"
   ]
  },
  {
   "cell_type": "code",
   "execution_count": 105,
   "metadata": {},
   "outputs": [
    {
     "name": "stdout",
     "output_type": "stream",
     "text": [
      "# A tibble: 2 x 9\n",
      "  feature             N  Mean    SD Median   IQR   Min   Max Missing\n",
      "  <fct>           <int> <dbl> <dbl>  <dbl> <dbl> <dbl> <dbl>   <int>\n",
      "1 AND + AWD + DOC    48 0.271 0.610      0     0     0     3       0\n",
      "2 DOD                11 0.8   0.789      1     1     0     2       1\n",
      "\n",
      "\tWilcoxon rank sum test with continuity correction\n",
      "\n",
      "data:  biomarker by feature\n",
      "W = 143, p-value = 0.01108\n",
      "alternative hypothesis: true location shift is not equal to 0\n",
      "\n"
     ]
    }
   ],
   "source": [
    "DF_ASSOCIATION %>% filter(!is.na(dod)) %>% summary_association(marker, dod)"
   ]
  },
  {
   "cell_type": "markdown",
   "metadata": {
    "lines_to_next_cell": 0
   },
   "source": [
    "### Peritumoral lymphocytes"
   ]
  },
  {
   "cell_type": "code",
   "execution_count": 106,
   "metadata": {},
   "outputs": [],
   "source": [
    "DF_ASSOCIATION <- DF_ASSOCIATION %>% \n",
    "  mutate(marker = cd8ki67_peritumoral)"
   ]
  },
  {
   "cell_type": "markdown",
   "metadata": {
    "lines_to_next_cell": 0
   },
   "source": [
    "#### Age group, median"
   ]
  },
  {
   "cell_type": "code",
   "execution_count": 107,
   "metadata": {},
   "outputs": [
    {
     "name": "stdout",
     "output_type": "stream",
     "text": [
      "# A tibble: 2 x 9\n",
      "  feature               N  Mean    SD Median   IQR   Min   Max Missing\n",
      "  <fct>             <int> <dbl> <dbl>  <dbl> <dbl> <dbl> <dbl>   <int>\n",
      "1 Younger age group    38 0.167 0.461      0     0     0     2       8\n",
      "2 Older age group      40 0.286 1.01       0     0     0     5      12\n",
      "\n",
      "\tWilcoxon rank sum test with continuity correction\n",
      "\n",
      "data:  biomarker by feature\n",
      "W = 428, p-value = 0.8365\n",
      "alternative hypothesis: true location shift is not equal to 0\n",
      "\n"
     ]
    }
   ],
   "source": [
    "DF_ASSOCIATION %>% summary_association(marker, age_group)"
   ]
  },
  {
   "cell_type": "markdown",
   "metadata": {
    "lines_to_next_cell": 0
   },
   "source": [
    "#### Sex"
   ]
  },
  {
   "cell_type": "code",
   "execution_count": 108,
   "metadata": {},
   "outputs": [
    {
     "name": "stdout",
     "output_type": "stream",
     "text": [
      "# A tibble: 2 x 9\n",
      "  feature     N  Mean    SD Median   IQR   Min   Max Missing\n",
      "  <fct>   <int> <dbl> <dbl>  <dbl> <dbl> <dbl> <dbl>   <int>\n",
      "1 Female     15 0.125 0.354      0     0     0     1       7\n",
      "2 Male       63 0.24  0.822      0     0     0     5      13\n",
      "\n",
      "\tWilcoxon rank sum test with continuity correction\n",
      "\n",
      "data:  biomarker by feature\n",
      "W = 199.5, p-value = 1\n",
      "alternative hypothesis: true location shift is not equal to 0\n",
      "\n"
     ]
    }
   ],
   "source": [
    "DF_ASSOCIATION %>% summary_association(marker, sex)"
   ]
  },
  {
   "cell_type": "markdown",
   "metadata": {
    "lines_to_next_cell": 0
   },
   "source": [
    "#### Race"
   ]
  },
  {
   "cell_type": "code",
   "execution_count": 109,
   "metadata": {},
   "outputs": [
    {
     "name": "stdout",
     "output_type": "stream",
     "text": [
      "# A tibble: 4 x 9\n",
      "  feature     N  Mean     SD Median   IQR   Min   Max Missing\n",
      "  <fct>   <int> <dbl>  <dbl>  <dbl> <dbl> <dbl> <dbl>   <int>\n",
      "1 Asian       2 0      0          0     0     0     0       0\n",
      "2 Black      24 0.353  0.702      0     0     0     2       7\n",
      "3 Other       1 0     NA          0     0     0     0       0\n",
      "4 White      46 0.194  0.856      0     0     0     5      10\n",
      "\n",
      "\tKruskal-Wallis rank sum test\n",
      "\n",
      "data:  biomarker by feature\n",
      "Kruskal-Wallis chi-squared = 2.8259, df = 3, p-value = 0.4193\n",
      "\n",
      "\n",
      "\tPairwise comparisons using Wilcoxon rank sum test \n",
      "\n",
      "data:  biomarker and feature \n",
      "\n",
      "      Asian Black Other\n",
      "Black 1.00  -     -    \n",
      "Other -     1.00  -    \n",
      "White 1.00  0.68  1.00 \n",
      "\n",
      "P value adjustment method: bonferroni \n"
     ]
    }
   ],
   "source": [
    "DF_ASSOCIATION %>% filter(!is.na(race)) %>% summary_association(marker, race)"
   ]
  },
  {
   "cell_type": "markdown",
   "metadata": {
    "lines_to_next_cell": 0
   },
   "source": [
    "#### Fuhrman grade"
   ]
  },
  {
   "cell_type": "code",
   "execution_count": 110,
   "metadata": {},
   "outputs": [
    {
     "name": "stdout",
     "output_type": "stream",
     "text": [
      "# A tibble: 4 x 9\n",
      "  feature     N  Mean     SD Median   IQR   Min   Max Missing\n",
      "  <ord>   <int> <dbl>  <dbl>  <dbl> <dbl> <dbl> <dbl>   <int>\n",
      "1 Grade 1     2 0     NA          0     0     0     0       1\n",
      "2 Grade 2    34 0.1    0.305      0     0     0     1       4\n",
      "3 Grade 3    29 0.294  0.686      0     0     0     2      12\n",
      "4 Grade 4    10 0.714  1.89       0     0     0     5       3\n",
      "\n",
      "\tKruskal-Wallis rank sum test\n",
      "\n",
      "data:  biomarker by feature\n",
      "Kruskal-Wallis chi-squared = 0.89566, df = 3, p-value = 0.8265\n",
      "\n",
      "\n",
      "\tPairwise comparisons using Wilcoxon rank sum test \n",
      "\n",
      "data:  biomarker and feature \n",
      "\n",
      "        Grade 1 Grade 2 Grade 3\n",
      "Grade 2 1       -       -      \n",
      "Grade 3 1       1       -      \n",
      "Grade 4 1       1       1      \n",
      "\n",
      "P value adjustment method: bonferroni \n"
     ]
    }
   ],
   "source": [
    "DF_ASSOCIATION %>% filter(!is.na(fuhrman)) %>% summary_association(marker, fuhrman)"
   ]
  },
  {
   "cell_type": "markdown",
   "metadata": {
    "lines_to_next_cell": 0
   },
   "source": [
    "#### pT stage"
   ]
  },
  {
   "cell_type": "code",
   "execution_count": 111,
   "metadata": {},
   "outputs": [
    {
     "name": "stdout",
     "output_type": "stream",
     "text": [
      "# A tibble: 8 x 9\n",
      "  feature     N  Mean     SD Median   IQR   Min   Max Missing\n",
      "  <ord>   <int> <dbl>  <dbl>  <dbl> <dbl> <dbl> <dbl>   <int>\n",
      "1 pTx         1 0     NA          0   0       0     0       0\n",
      "2 pT1a       29 0.348  1.11       0   0       0     5       6\n",
      "3 pT1b        9 0.286  0.488      0   0.5     0     1       2\n",
      "4 pT2a        5 0      0          0   0       0     0       0\n",
      "5 pT2b        6 0      0          0   0       0     0       3\n",
      "6 pT3a       23 0.214  0.579      0   0       0     2       9\n",
      "7 pT3b        2 0      0          0   0       0     0       0\n",
      "8 pT4         1 0     NA          0   0       0     0       0\n",
      "\n",
      "\tKruskal-Wallis rank sum test\n",
      "\n",
      "data:  biomarker by feature\n",
      "Kruskal-Wallis chi-squared = 3.0595, df = 7, p-value = 0.8794\n",
      "\n",
      "\n",
      "\tPairwise comparisons using Wilcoxon rank sum test \n",
      "\n",
      "data:  biomarker and feature \n",
      "\n",
      "     pTx pT1a pT1b pT2a pT2b pT3a pT3b\n",
      "pT1a 1   -    -    -    -    -    -   \n",
      "pT1b 1   1    -    -    -    -    -   \n",
      "pT2a -   1    1    -    -    -    -   \n",
      "pT2b -   1    1    -    -    -    -   \n",
      "pT3a 1   1    1    1    1    -    -   \n",
      "pT3b -   1    1    -    -    1    -   \n",
      "pT4  -   1    1    -    -    1    -   \n",
      "\n",
      "P value adjustment method: bonferroni \n"
     ]
    }
   ],
   "source": [
    "DF_ASSOCIATION %>% filter(!is.na(pt_stage)) %>% summary_association(marker, pt_stage)"
   ]
  },
  {
   "cell_type": "markdown",
   "metadata": {
    "lines_to_next_cell": 0
   },
   "source": [
    "#### Tumor size, median"
   ]
  },
  {
   "cell_type": "code",
   "execution_count": 112,
   "metadata": {},
   "outputs": [
    {
     "name": "stdout",
     "output_type": "stream",
     "text": [
      "# A tibble: 2 x 9\n",
      "  feature           N  Mean    SD Median   IQR   Min   Max Missing\n",
      "  <fct>         <int> <dbl> <dbl>  <dbl> <dbl> <dbl> <dbl>   <int>\n",
      "1 Smaller tumor    37 0.276 0.996      0     0     0     5       8\n",
      "2 Larger tumor     38 0.192 0.491      0     0     0     2      12\n",
      "\n",
      "\tWilcoxon rank sum test with continuity correction\n",
      "\n",
      "data:  biomarker by feature\n",
      "W = 361, p-value = 0.6516\n",
      "alternative hypothesis: true location shift is not equal to 0\n",
      "\n"
     ]
    }
   ],
   "source": [
    "DF_ASSOCIATION %>% filter(!is.na(size_group)) %>% summary_association(marker, size_group)"
   ]
  },
  {
   "cell_type": "markdown",
   "metadata": {
    "lines_to_next_cell": 0
   },
   "source": [
    "#### Tumor focality"
   ]
  },
  {
   "cell_type": "code",
   "execution_count": 113,
   "metadata": {},
   "outputs": [
    {
     "name": "stdout",
     "output_type": "stream",
     "text": [
      "# A tibble: 2 x 9\n",
      "  feature              N  Mean    SD Median   IQR   Min   Max Missing\n",
      "  <fct>            <int> <dbl> <dbl>  <dbl> <dbl> <dbl> <dbl>   <int>\n",
      "1 Focal tumor         60 0.178 0.490      0     0     0     2      15\n",
      "2 Multifocal tumor    16 0.455 1.51       0     0     0     5       5\n",
      "\n",
      "\tWilcoxon rank sum test with continuity correction\n",
      "\n",
      "data:  biomarker by feature\n",
      "W = 255, p-value = 0.8015\n",
      "alternative hypothesis: true location shift is not equal to 0\n",
      "\n"
     ]
    }
   ],
   "source": [
    "DF_ASSOCIATION %>% filter(!is.na(focality)) %>% summary_association(marker, focality)"
   ]
  },
  {
   "cell_type": "markdown",
   "metadata": {
    "lines_to_next_cell": 0
   },
   "source": [
    "#### Tumor progression"
   ]
  },
  {
   "cell_type": "code",
   "execution_count": 114,
   "metadata": {},
   "outputs": [
    {
     "name": "stdout",
     "output_type": "stream",
     "text": [
      "# A tibble: 2 x 9\n",
      "  feature                  N   Mean    SD Median   IQR   Min   Max Missing\n",
      "  <fct>                <int>  <dbl> <dbl>  <dbl> <dbl> <dbl> <dbl>   <int>\n",
      "1 No tumor progression    60 0.0930 0.366      0     0     0     2      17\n",
      "2 Tumor progression       16 0.692  1.44       0     1     0     5       3\n",
      "\n",
      "\tWilcoxon rank sum test with continuity correction\n",
      "\n",
      "data:  biomarker by feature\n",
      "W = 211.5, p-value = 0.02254\n",
      "alternative hypothesis: true location shift is not equal to 0\n",
      "\n"
     ]
    }
   ],
   "source": [
    "DF_ASSOCIATION %>% filter(!is.na(progression)) %>% summary_association(marker, progression)"
   ]
  },
  {
   "cell_type": "markdown",
   "metadata": {
    "lines_to_next_cell": 0
   },
   "source": [
    "#### Overall mortality"
   ]
  },
  {
   "cell_type": "code",
   "execution_count": 115,
   "metadata": {},
   "outputs": [
    {
     "name": "stdout",
     "output_type": "stream",
     "text": [
      "# A tibble: 2 x 9\n",
      "  feature       N  Mean    SD Median   IQR   Min   Max Missing\n",
      "  <fct>     <int> <dbl> <dbl>  <dbl> <dbl> <dbl> <dbl>   <int>\n",
      "1 AND + AWD    49 0.114 0.404      0     0     0     2      14\n",
      "2 DOC + DOD    29 0.391 1.12       0     0     0     5       6\n",
      "\n",
      "\tWilcoxon rank sum test with continuity correction\n",
      "\n",
      "data:  biomarker by feature\n",
      "W = 365.5, p-value = 0.305\n",
      "alternative hypothesis: true location shift is not equal to 0\n",
      "\n"
     ]
    }
   ],
   "source": [
    "DF_ASSOCIATION %>% filter(!is.na(death)) %>% summary_association(marker, death)"
   ]
  },
  {
   "cell_type": "markdown",
   "metadata": {
    "lines_to_next_cell": 0
   },
   "source": [
    "#### Cancer-related mortality"
   ]
  },
  {
   "cell_type": "code",
   "execution_count": 116,
   "metadata": {},
   "outputs": [
    {
     "name": "stdout",
     "output_type": "stream",
     "text": [
      "# A tibble: 2 x 9\n",
      "  feature             N  Mean    SD Median   IQR   Min   Max Missing\n",
      "  <fct>           <int> <dbl> <dbl>  <dbl> <dbl> <dbl> <dbl>   <int>\n",
      "1 AND + AWD + DOC    48 0.128 0.409      0  0        0     2       9\n",
      "2 DOD                11 0.375 0.744      0  0.25     0     2       3\n",
      "\n",
      "\tWilcoxon rank sum test with continuity correction\n",
      "\n",
      "data:  biomarker by feature\n",
      "W = 132, p-value = 0.2509\n",
      "alternative hypothesis: true location shift is not equal to 0\n",
      "\n"
     ]
    }
   ],
   "source": [
    "DF_ASSOCIATION %>% filter(!is.na(dod)) %>% summary_association(marker, dod)"
   ]
  },
  {
   "cell_type": "markdown",
   "metadata": {
    "lines_to_next_cell": 0
   },
   "source": [
    "## Ki67\n",
    "### Intratumoral lymphocytes"
   ]
  },
  {
   "cell_type": "code",
   "execution_count": 117,
   "metadata": {},
   "outputs": [],
   "source": [
    "DF_ASSOCIATION <- DF_ASSOCIATION %>% \n",
    "  mutate(marker = ki67_intratumoral)"
   ]
  },
  {
   "cell_type": "markdown",
   "metadata": {
    "lines_to_next_cell": 0
   },
   "source": [
    "#### Age group, median"
   ]
  },
  {
   "cell_type": "code",
   "execution_count": 118,
   "metadata": {},
   "outputs": [
    {
     "name": "stdout",
     "output_type": "stream",
     "text": [
      "# A tibble: 2 x 9\n",
      "  feature               N  Mean    SD Median   IQR   Min   Max Missing\n",
      "  <fct>             <int> <dbl> <dbl>  <dbl> <dbl> <dbl> <dbl>   <int>\n",
      "1 Younger age group    38  42.6  45.5     15    97     0   100       0\n",
      "2 Older age group      40  40.2  43.4     15    95     0   100       0\n",
      "\n",
      "\tWilcoxon rank sum test with continuity correction\n",
      "\n",
      "data:  biomarker by feature\n",
      "W = 727.5, p-value = 0.7434\n",
      "alternative hypothesis: true location shift is not equal to 0\n",
      "\n"
     ]
    }
   ],
   "source": [
    "DF_ASSOCIATION %>% summary_association(marker, age_group)"
   ]
  },
  {
   "cell_type": "markdown",
   "metadata": {
    "lines_to_next_cell": 0
   },
   "source": [
    "#### Sex"
   ]
  },
  {
   "cell_type": "code",
   "execution_count": 119,
   "metadata": {},
   "outputs": [
    {
     "name": "stdout",
     "output_type": "stream",
     "text": [
      "# A tibble: 2 x 9\n",
      "  feature     N  Mean    SD Median   IQR   Min   Max Missing\n",
      "  <fct>   <int> <dbl> <dbl>  <dbl> <dbl> <dbl> <dbl>   <int>\n",
      "1 Female     15  38.7  45.9      6  96.5     0   100       0\n",
      "2 Male       63  42.0  44.1     20  95       0   100       0\n",
      "\n",
      "\tWilcoxon rank sum test with continuity correction\n",
      "\n",
      "data:  biomarker by feature\n",
      "W = 429.5, p-value = 0.5813\n",
      "alternative hypothesis: true location shift is not equal to 0\n",
      "\n"
     ]
    }
   ],
   "source": [
    "DF_ASSOCIATION %>% summary_association(marker, sex)"
   ]
  },
  {
   "cell_type": "markdown",
   "metadata": {
    "lines_to_next_cell": 0
   },
   "source": [
    "#### Race"
   ]
  },
  {
   "cell_type": "code",
   "execution_count": 120,
   "metadata": {},
   "outputs": [
    {
     "name": "stdout",
     "output_type": "stream",
     "text": [
      "# A tibble: 4 x 9\n",
      "  feature     N  Mean    SD Median   IQR   Min   Max Missing\n",
      "  <fct>   <int> <dbl> <dbl>  <dbl> <dbl> <dbl> <dbl>   <int>\n",
      "1 Asian       2 100     0    100       0   100   100       0\n",
      "2 Black      24  51.6  46.3   32.5    95     0   100       0\n",
      "3 Other       1 100    NA    100       0   100   100       0\n",
      "4 White      46  34.0  42.6    8.5    97     0   100       0\n",
      "\n",
      "\tKruskal-Wallis rank sum test\n",
      "\n",
      "data:  biomarker by feature\n",
      "Kruskal-Wallis chi-squared = 6.0725, df = 3, p-value = 0.1081\n",
      "\n",
      "\n",
      "\tPairwise comparisons using Wilcoxon rank sum test \n",
      "\n",
      "data:  biomarker and feature \n",
      "\n",
      "      Asian Black Other\n",
      "Black 0.99  -     -    \n",
      "Other -     1.00  -    \n",
      "White 0.44  0.70  1.00 \n",
      "\n",
      "P value adjustment method: bonferroni \n"
     ]
    }
   ],
   "source": [
    "DF_ASSOCIATION %>% filter(!is.na(race)) %>% summary_association(marker, race)"
   ]
  },
  {
   "cell_type": "markdown",
   "metadata": {
    "lines_to_next_cell": 0
   },
   "source": [
    "#### Fuhrman grade"
   ]
  },
  {
   "cell_type": "code",
   "execution_count": 121,
   "metadata": {},
   "outputs": [
    {
     "name": "stdout",
     "output_type": "stream",
     "text": [
      "# A tibble: 4 x 9\n",
      "  feature     N  Mean    SD Median   IQR   Min   Max Missing\n",
      "  <ord>   <int> <dbl> <dbl>  <dbl> <dbl> <dbl> <dbl>   <int>\n",
      "1 Grade 1     2 100     0      100   0     100   100       0\n",
      "2 Grade 2    34  46.2  48.5      5  96.8     0   100       0\n",
      "3 Grade 3    29  39    42.8     10  95       2   100       0\n",
      "4 Grade 4    10  22.2  17.7     20  12.5     1    60       0\n",
      "\n",
      "\tKruskal-Wallis rank sum test\n",
      "\n",
      "data:  biomarker by feature\n",
      "Kruskal-Wallis chi-squared = 3.0644, df = 3, p-value = 0.3818\n",
      "\n",
      "\n",
      "\tPairwise comparisons using Wilcoxon rank sum test \n",
      "\n",
      "data:  biomarker and feature \n",
      "\n",
      "        Grade 1 Grade 2 Grade 3\n",
      "Grade 2 1.00    -       -      \n",
      "Grade 3 0.65    1.00    -      \n",
      "Grade 4 0.23    1.00    1.00   \n",
      "\n",
      "P value adjustment method: bonferroni \n"
     ]
    }
   ],
   "source": [
    "DF_ASSOCIATION %>% filter(!is.na(fuhrman)) %>% summary_association(marker, fuhrman)"
   ]
  },
  {
   "cell_type": "markdown",
   "metadata": {
    "lines_to_next_cell": 0
   },
   "source": [
    "#### pT stage"
   ]
  },
  {
   "cell_type": "code",
   "execution_count": 122,
   "metadata": {},
   "outputs": [
    {
     "name": "stdout",
     "output_type": "stream",
     "text": [
      "# A tibble: 8 x 9\n",
      "  feature     N  Mean    SD Median   IQR   Min   Max Missing\n",
      "  <ord>   <int> <dbl> <dbl>  <dbl> <dbl> <dbl> <dbl>   <int>\n",
      "1 pTx         1   1    NA        1   0       1     1       0\n",
      "2 pT1a       29  49.6  47.0     25  97       0   100       0\n",
      "3 pT1b        9  58.2  49.7    100  95       0   100       0\n",
      "4 pT2a        5  23.2  43.0      5   1       0   100       0\n",
      "5 pT2b        6  20    39.2      5   1.5     2   100       0\n",
      "6 pT3a       23  34.7  38.1     15  44       1   100       0\n",
      "7 pT3b        2  60    56.6     60  40      20   100       0\n",
      "8 pT4         1  10    NA       10   0      10    10       0\n",
      "\n",
      "\tKruskal-Wallis rank sum test\n",
      "\n",
      "data:  biomarker by feature\n",
      "Kruskal-Wallis chi-squared = 6.8073, df = 7, p-value = 0.4492\n",
      "\n",
      "\n",
      "\tPairwise comparisons using Wilcoxon rank sum test \n",
      "\n",
      "data:  biomarker and feature \n",
      "\n",
      "     pTx pT1a pT1b pT2a pT2b pT3a pT3b\n",
      "pT1a 1   -    -    -    -    -    -   \n",
      "pT1b 1   1    -    -    -    -    -   \n",
      "pT2a 1   1    1    -    -    -    -   \n",
      "pT2b 1   1    1    1    -    -    -   \n",
      "pT3a 1   1    1    1    1    -    -   \n",
      "pT3b 1   1    1    1    1    1    -   \n",
      "pT4  1   1    1    1    1    1    1   \n",
      "\n",
      "P value adjustment method: bonferroni \n"
     ]
    }
   ],
   "source": [
    "DF_ASSOCIATION %>% filter(!is.na(pt_stage)) %>% summary_association(marker, pt_stage)"
   ]
  },
  {
   "cell_type": "markdown",
   "metadata": {
    "lines_to_next_cell": 0
   },
   "source": [
    "#### Tumor size, median"
   ]
  },
  {
   "cell_type": "code",
   "execution_count": 123,
   "metadata": {},
   "outputs": [
    {
     "name": "stdout",
     "output_type": "stream",
     "text": [
      "# A tibble: 2 x 9\n",
      "  feature           N  Mean    SD Median   IQR   Min   Max Missing\n",
      "  <fct>         <int> <dbl> <dbl>  <dbl> <dbl> <dbl> <dbl>   <int>\n",
      "1 Smaller tumor    37  52.3  47.6     40  97       0   100       0\n",
      "2 Larger tumor     38  31.3  38.1     10  38.8     0   100       0\n",
      "\n",
      "\tWilcoxon rank sum test with continuity correction\n",
      "\n",
      "data:  biomarker by feature\n",
      "W = 793, p-value = 0.3316\n",
      "alternative hypothesis: true location shift is not equal to 0\n",
      "\n"
     ]
    }
   ],
   "source": [
    "DF_ASSOCIATION %>% filter(!is.na(size_group)) %>% summary_association(marker, size_group)"
   ]
  },
  {
   "cell_type": "markdown",
   "metadata": {
    "lines_to_next_cell": 0
   },
   "source": [
    "#### Tumor focality"
   ]
  },
  {
   "cell_type": "code",
   "execution_count": 124,
   "metadata": {},
   "outputs": [
    {
     "name": "stdout",
     "output_type": "stream",
     "text": [
      "# A tibble: 2 x 9\n",
      "  feature              N  Mean    SD Median   IQR   Min   Max Missing\n",
      "  <fct>            <int> <dbl> <dbl>  <dbl> <dbl> <dbl> <dbl>   <int>\n",
      "1 Focal tumor         60  44.1  45.6   12.5  95.2     0   100       0\n",
      "2 Multifocal tumor    16  29.8  36.4   20    24.2     0   100       0\n",
      "\n",
      "\tWilcoxon rank sum test with continuity correction\n",
      "\n",
      "data:  biomarker by feature\n",
      "W = 511.5, p-value = 0.6862\n",
      "alternative hypothesis: true location shift is not equal to 0\n",
      "\n"
     ]
    }
   ],
   "source": [
    "DF_ASSOCIATION %>% filter(!is.na(focality)) %>% summary_association(marker, focality)"
   ]
  },
  {
   "cell_type": "markdown",
   "metadata": {
    "lines_to_next_cell": 0
   },
   "source": [
    "#### Tumor progression"
   ]
  },
  {
   "cell_type": "code",
   "execution_count": 125,
   "metadata": {},
   "outputs": [
    {
     "name": "stdout",
     "output_type": "stream",
     "text": [
      "# A tibble: 2 x 9\n",
      "  feature                  N  Mean    SD Median   IQR   Min   Max Missing\n",
      "  <fct>                <int> <dbl> <dbl>  <dbl> <dbl> <dbl> <dbl>   <int>\n",
      "1 No tumor progression    60  46.4  46.6   17.5    97     0   100       0\n",
      "2 Tumor progression       16  20.9  24.8   12.5    20     1   100       0\n",
      "\n",
      "\tWilcoxon rank sum test with continuity correction\n",
      "\n",
      "data:  biomarker by feature\n",
      "W = 526.5, p-value = 0.549\n",
      "alternative hypothesis: true location shift is not equal to 0\n",
      "\n"
     ]
    }
   ],
   "source": [
    "DF_ASSOCIATION %>% filter(!is.na(progression)) %>% summary_association(marker, progression)"
   ]
  },
  {
   "cell_type": "markdown",
   "metadata": {
    "lines_to_next_cell": 0
   },
   "source": [
    "#### Overall mortality"
   ]
  },
  {
   "cell_type": "code",
   "execution_count": 126,
   "metadata": {},
   "outputs": [
    {
     "name": "stdout",
     "output_type": "stream",
     "text": [
      "# A tibble: 2 x 9\n",
      "  feature       N  Mean    SD Median   IQR   Min   Max Missing\n",
      "  <fct>     <int> <dbl> <dbl>  <dbl> <dbl> <dbl> <dbl>   <int>\n",
      "1 AND + AWD    49  44.2  47.2      7    97     0   100       0\n",
      "2 DOC + DOD    29  36.6  38.8     20    50     0   100       0\n",
      "\n",
      "\tWilcoxon rank sum test with continuity correction\n",
      "\n",
      "data:  biomarker by feature\n",
      "W = 673, p-value = 0.6954\n",
      "alternative hypothesis: true location shift is not equal to 0\n",
      "\n"
     ]
    }
   ],
   "source": [
    "DF_ASSOCIATION %>% filter(!is.na(death)) %>% summary_association(marker, death)"
   ]
  },
  {
   "cell_type": "markdown",
   "metadata": {
    "lines_to_next_cell": 0
   },
   "source": [
    "#### Cancer-related mortality"
   ]
  },
  {
   "cell_type": "code",
   "execution_count": 127,
   "metadata": {},
   "outputs": [
    {
     "name": "stdout",
     "output_type": "stream",
     "text": [
      "# A tibble: 2 x 9\n",
      "  feature             N  Mean    SD Median   IQR   Min   Max Missing\n",
      "  <fct>           <int> <dbl> <dbl>  <dbl> <dbl> <dbl> <dbl>   <int>\n",
      "1 AND + AWD + DOC    48  57.9  48.3    100  96.2     0   100       0\n",
      "2 DOD                11  16.5  14.2     10  12.5     1    45       0\n",
      "\n",
      "\tWilcoxon rank sum test with continuity correction\n",
      "\n",
      "data:  biomarker by feature\n",
      "W = 328, p-value = 0.193\n",
      "alternative hypothesis: true location shift is not equal to 0\n",
      "\n"
     ]
    }
   ],
   "source": [
    "DF_ASSOCIATION %>% filter(!is.na(dod)) %>% summary_association(marker, dod)"
   ]
  }
 ],
 "metadata": {
  "jupytext": {
   "formats": "ipynb,Rmd"
  },
  "kernelspec": {
   "display_name": "R",
   "language": "R",
   "name": "ir"
  },
  "language_info": {
   "codemirror_mode": "r",
   "file_extension": ".r",
   "mimetype": "text/x-r-source",
   "name": "R",
   "pygments_lexer": "r",
   "version": "3.5.3"
  },
  "toc": {
   "base_numbering": 1,
   "nav_menu": {
    "height": "318px",
    "width": "302px"
   },
   "number_sections": true,
   "sideBar": true,
   "skip_h1_title": false,
   "title_cell": "Table of Contents",
   "title_sidebar": "Contents",
   "toc_cell": false,
   "toc_position": {
    "height": "calc(100% - 180px)",
    "left": "10px",
    "top": "150px",
    "width": "336px"
   },
   "toc_section_display": false,
   "toc_window_display": true
  }
 },
 "nbformat": 4,
 "nbformat_minor": 2
}
