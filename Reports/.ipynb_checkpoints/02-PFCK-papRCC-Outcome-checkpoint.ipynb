{
 "cells": [
  {
   "cell_type": "code",
   "execution_count": 1,
   "metadata": {},
   "outputs": [
    {
     "name": "stdout",
     "output_type": "stream",
     "text": [
      "Observations: 285\n",
      "Variables: 14\n",
      "$ death                      <fct> DOC + DOD, DOC + DOD, DOC + DOD, DOC + DOD…\n",
      "$ dod                        <fct> AND + AWD + DOC, AND + AWD + DOC, AND + AW…\n",
      "$ progression                <fct> No tumor progression, No tumor progression…\n",
      "$ cd8foxp3_intratumoral      <fct> CD8 > FOXP3, CD8 > FOXP3, CD8 > FOXP3, CD8…\n",
      "$ cd8foxp3_peritumoral       <fct> CD8 > FOXP3, CD8 > FOXP3, CD8 > FOXP3, CD8…\n",
      "$ pdl1_tumor_level           <fct> Low, Low, Low, Low, Low, Low, Low, NA, Low…\n",
      "$ pdl1_intratumoral_level    <fct> High, High, High, Low, Low, NA, High, NA, …\n",
      "$ foxp3_intratumoral_level   <fct> Low, Low, High, Low, High, Low, High, Low,…\n",
      "$ foxp3_peritumoral_level    <fct> High, High, High, High, Low, Low, High, Hi…\n",
      "$ cd8_intratumoral_level     <fct> High, High, High, High, Low, Low, High, NA…\n",
      "$ cd8_peritumoral_level      <fct> High, High, High, High, High, High, High, …\n",
      "$ cd8ki67_intratumoral_level <fct> Low, Low, Low, Low, Low, Low, Low, NA, Low…\n",
      "$ cd8ki67_peritumoral_level  <fct> Low, Low, Low, Low, Low, Low, High, Low, L…\n",
      "$ ki67_intratumoral_level    <fct> Low, Low, Low, Low, High, High, High, NA, …\n"
     ]
    }
   ],
   "source": [
    "# Libraries\n",
    "suppressPackageStartupMessages(library(tidyverse))\n",
    "\n",
    "# Options\n",
    "options(warn = -1)\n",
    "\n",
    "# Scripts\n",
    "source(\"summarize.R\")\n",
    "\n",
    "# Data\n",
    "load(\"DF.Rdata\")\n",
    "\n",
    "OUTCOME <- DF %>% \n",
    "  select(\n",
    "    death:progression,\n",
    "    cd8foxp3_intratumoral:ki67_intratumoral_level\n",
    "  )\n",
    "\n",
    "glimpse(OUTCOME)"
   ]
  },
  {
   "cell_type": "markdown",
   "metadata": {
    "lines_to_next_cell": 0
   },
   "source": [
    "# Regression models\n",
    "## PD-L1 expression\n",
    "### Tumor cells"
   ]
  },
  {
   "cell_type": "code",
   "execution_count": 2,
   "metadata": {},
   "outputs": [],
   "source": [
    "OUTCOME <- OUTCOME %>% \n",
    "  mutate(marker = pdl1_tumor_level)"
   ]
  },
  {
   "cell_type": "markdown",
   "metadata": {
    "lines_to_next_cell": 0
   },
   "source": [
    "#### Tumor progression"
   ]
  },
  {
   "cell_type": "code",
   "execution_count": 3,
   "metadata": {},
   "outputs": [
    {
     "name": "stdout",
     "output_type": "stream",
     "text": [
      "# A tibble: 1 x 8\n",
      "  term       estimate std.error statistic p.value    or conf.low conf.high\n",
      "  <chr>         <dbl>     <dbl>     <dbl>   <dbl> <dbl>    <dbl>     <dbl>\n",
      "1 markerHigh     0.61      0.37      1.63   0.103  1.84     0.86      3.75\n",
      "\n",
      "OR = 1.84 (0.86, 3.75)\n",
      " P = 0.10"
     ]
    }
   ],
   "source": [
    "OUTCOME %>% OR(progression ~ marker)"
   ]
  },
  {
   "cell_type": "markdown",
   "metadata": {
    "lines_to_next_cell": 0
   },
   "source": [
    "#### Overall mortality"
   ]
  },
  {
   "cell_type": "code",
   "execution_count": 4,
   "metadata": {},
   "outputs": [
    {
     "name": "stdout",
     "output_type": "stream",
     "text": [
      "# A tibble: 1 x 8\n",
      "  term       estimate std.error statistic p.value    or conf.low conf.high\n",
      "  <chr>         <dbl>     <dbl>     <dbl>   <dbl> <dbl>    <dbl>     <dbl>\n",
      "1 markerHigh    -0.18      0.34     -0.53   0.598  0.84     0.43       1.6\n",
      "\n",
      "OR = 0.84 (0.43, 1.6)\n",
      " P = 0.60"
     ]
    }
   ],
   "source": [
    "OUTCOME %>% OR(death ~ marker)"
   ]
  },
  {
   "cell_type": "markdown",
   "metadata": {
    "lines_to_next_cell": 0
   },
   "source": [
    "#### Cancer-related mortality"
   ]
  },
  {
   "cell_type": "code",
   "execution_count": 5,
   "metadata": {},
   "outputs": [
    {
     "name": "stdout",
     "output_type": "stream",
     "text": [
      "# A tibble: 1 x 8\n",
      "  term       estimate std.error statistic p.value    or conf.low conf.high\n",
      "  <chr>         <dbl>     <dbl>     <dbl>   <dbl> <dbl>    <dbl>     <dbl>\n",
      "1 markerHigh     0.25      0.47      0.54   0.588  1.28     0.48      3.09\n",
      "\n",
      "OR = 1.28 (0.48, 3.09)\n",
      " P = 0.59"
     ]
    }
   ],
   "source": [
    "OUTCOME %>% OR(dod ~ marker)"
   ]
  },
  {
   "cell_type": "markdown",
   "metadata": {
    "lines_to_next_cell": 0
   },
   "source": [
    "### Intratumoral lymphocyes"
   ]
  },
  {
   "cell_type": "code",
   "execution_count": 6,
   "metadata": {},
   "outputs": [],
   "source": [
    "OUTCOME <- OUTCOME %>% \n",
    "  mutate(marker = pdl1_intratumoral_level)"
   ]
  },
  {
   "cell_type": "markdown",
   "metadata": {
    "lines_to_next_cell": 0
   },
   "source": [
    "#### Tumor progression"
   ]
  },
  {
   "cell_type": "code",
   "execution_count": 7,
   "metadata": {},
   "outputs": [
    {
     "name": "stdout",
     "output_type": "stream",
     "text": [
      "# A tibble: 1 x 8\n",
      "  term       estimate std.error statistic p.value    or conf.low conf.high\n",
      "  <chr>         <dbl>     <dbl>     <dbl>   <dbl> <dbl>    <dbl>     <dbl>\n",
      "1 markerHigh    -1.26      0.76     -1.65  0.0992  0.28     0.04      1.03\n",
      "\n",
      "OR = 0.28 (0.04, 1.03)\n",
      " P = 0.099"
     ]
    }
   ],
   "source": [
    "OUTCOME %>% OR(progression ~ marker)"
   ]
  },
  {
   "cell_type": "markdown",
   "metadata": {
    "lines_to_next_cell": 0
   },
   "source": [
    "#### Overall mortality"
   ]
  },
  {
   "cell_type": "code",
   "execution_count": 8,
   "metadata": {},
   "outputs": [
    {
     "name": "stdout",
     "output_type": "stream",
     "text": [
      "# A tibble: 1 x 8\n",
      "  term       estimate std.error statistic p.value    or conf.low conf.high\n",
      "  <chr>         <dbl>     <dbl>     <dbl>   <dbl> <dbl>    <dbl>     <dbl>\n",
      "1 markerHigh     0.18      0.44       0.4   0.687   1.2     0.49      2.77\n",
      "\n",
      "OR = 1.2 (0.49, 2.77)\n",
      " P = 0.69"
     ]
    }
   ],
   "source": [
    "OUTCOME %>% OR(death ~ marker)"
   ]
  },
  {
   "cell_type": "markdown",
   "metadata": {
    "lines_to_next_cell": 0
   },
   "source": [
    "#### Cancer-related mortality"
   ]
  },
  {
   "cell_type": "code",
   "execution_count": 9,
   "metadata": {},
   "outputs": [
    {
     "name": "stdout",
     "output_type": "stream",
     "text": [
      "# A tibble: 1 x 8\n",
      "  term       estimate std.error statistic p.value    or conf.low conf.high\n",
      "  <chr>         <dbl>     <dbl>     <dbl>   <dbl> <dbl>    <dbl>     <dbl>\n",
      "1 markerHigh    -0.52      0.66     -0.79   0.431  0.59     0.13      1.93\n",
      "\n",
      "OR = 0.59 (0.13, 1.93)\n",
      " P = 0.43"
     ]
    }
   ],
   "source": [
    "OUTCOME %>% OR(dod ~ marker)"
   ]
  },
  {
   "cell_type": "markdown",
   "metadata": {
    "lines_to_next_cell": 0
   },
   "source": [
    "## FOXP3\n",
    "### Intratumoral lymphocytes"
   ]
  },
  {
   "cell_type": "code",
   "execution_count": 10,
   "metadata": {},
   "outputs": [],
   "source": [
    "OUTCOME <- OUTCOME %>% \n",
    "  mutate(marker = foxp3_intratumoral_level)"
   ]
  },
  {
   "cell_type": "markdown",
   "metadata": {
    "lines_to_next_cell": 0
   },
   "source": [
    "#### Tumor progression"
   ]
  },
  {
   "cell_type": "code",
   "execution_count": 11,
   "metadata": {},
   "outputs": [
    {
     "name": "stdout",
     "output_type": "stream",
     "text": [
      "# A tibble: 1 x 8\n",
      "  term       estimate std.error statistic p.value    or conf.low conf.high\n",
      "  <chr>         <dbl>     <dbl>     <dbl>   <dbl> <dbl>    <dbl>     <dbl>\n",
      "1 markerHigh     0.06      0.33      0.19   0.850  1.06     0.55      2.01\n",
      "\n",
      "OR = 1.06 (0.55, 2.01)\n",
      " P = 0.85"
     ]
    }
   ],
   "source": [
    "OUTCOME %>% OR(progression ~ marker)"
   ]
  },
  {
   "cell_type": "markdown",
   "metadata": {
    "lines_to_next_cell": 0
   },
   "source": [
    "#### Overall mortality"
   ]
  },
  {
   "cell_type": "code",
   "execution_count": 12,
   "metadata": {},
   "outputs": [
    {
     "name": "stdout",
     "output_type": "stream",
     "text": [
      "# A tibble: 1 x 8\n",
      "  term       estimate std.error statistic p.value    or conf.low conf.high\n",
      "  <chr>         <dbl>     <dbl>     <dbl>   <dbl> <dbl>    <dbl>     <dbl>\n",
      "1 markerHigh    -0.03      0.27      -0.1   0.918  0.97    0.570      1.65\n",
      "\n",
      "OR = 0.97 (0.57, 1.65)\n",
      " P = 0.92"
     ]
    }
   ],
   "source": [
    "OUTCOME %>% OR(death ~ marker)"
   ]
  },
  {
   "cell_type": "markdown",
   "metadata": {
    "lines_to_next_cell": 0
   },
   "source": [
    "#### Cancer-related mortality"
   ]
  },
  {
   "cell_type": "code",
   "execution_count": 13,
   "metadata": {},
   "outputs": [
    {
     "name": "stdout",
     "output_type": "stream",
     "text": [
      "# A tibble: 1 x 8\n",
      "  term       estimate std.error statistic p.value    or conf.low conf.high\n",
      "  <chr>         <dbl>     <dbl>     <dbl>   <dbl> <dbl>    <dbl>     <dbl>\n",
      "1 markerHigh    -0.12       0.4    -0.290   0.771  0.89     0.39      1.91\n",
      "\n",
      "OR = 0.89 (0.39, 1.91)\n",
      " P = 0.77"
     ]
    }
   ],
   "source": [
    "OUTCOME %>% OR(dod ~ marker)"
   ]
  },
  {
   "cell_type": "markdown",
   "metadata": {
    "lines_to_next_cell": 0
   },
   "source": [
    "### Peritumoral lymphocytes"
   ]
  },
  {
   "cell_type": "code",
   "execution_count": 14,
   "metadata": {},
   "outputs": [],
   "source": [
    "OUTCOME <- OUTCOME %>% \n",
    "  mutate(marker = foxp3_peritumoral_level)"
   ]
  },
  {
   "cell_type": "markdown",
   "metadata": {
    "lines_to_next_cell": 0
   },
   "source": [
    "#### Tumor progression"
   ]
  },
  {
   "cell_type": "code",
   "execution_count": 15,
   "metadata": {},
   "outputs": [
    {
     "name": "stdout",
     "output_type": "stream",
     "text": [
      "# A tibble: 1 x 8\n",
      "  term       estimate std.error statistic p.value    or conf.low conf.high\n",
      "  <chr>         <dbl>     <dbl>     <dbl>   <dbl> <dbl>    <dbl>     <dbl>\n",
      "1 markerHigh     0.33      0.43      0.79   0.432  1.39    0.580      3.13\n",
      "\n",
      "OR = 1.39 (0.58, 3.13)\n",
      " P = 0.43"
     ]
    }
   ],
   "source": [
    "OUTCOME %>% OR(progression ~ marker)"
   ]
  },
  {
   "cell_type": "markdown",
   "metadata": {
    "lines_to_next_cell": 0
   },
   "source": [
    "#### Overall mortality"
   ]
  },
  {
   "cell_type": "code",
   "execution_count": 16,
   "metadata": {},
   "outputs": [
    {
     "name": "stdout",
     "output_type": "stream",
     "text": [
      "# A tibble: 1 x 8\n",
      "  term       estimate std.error statistic p.value    or conf.low conf.high\n",
      "  <chr>         <dbl>     <dbl>     <dbl>   <dbl> <dbl>    <dbl>     <dbl>\n",
      "1 markerHigh     0.53      0.37      1.42   0.155   1.7     0.82      3.53\n",
      "\n",
      "OR = 1.7 (0.82, 3.53)\n",
      " P = 0.15"
     ]
    }
   ],
   "source": [
    "OUTCOME %>% OR(death ~ marker)"
   ]
  },
  {
   "cell_type": "markdown",
   "metadata": {
    "lines_to_next_cell": 0
   },
   "source": [
    "#### Cancer-related mortality"
   ]
  },
  {
   "cell_type": "code",
   "execution_count": 17,
   "metadata": {},
   "outputs": [
    {
     "name": "stdout",
     "output_type": "stream",
     "text": [
      "# A tibble: 1 x 8\n",
      "  term       estimate std.error statistic p.value    or conf.low conf.high\n",
      "  <chr>         <dbl>     <dbl>     <dbl>   <dbl> <dbl>    <dbl>     <dbl>\n",
      "1 markerHigh     0.41      0.48      0.84   0.399  1.51     0.55      3.71\n",
      "\n",
      "OR = 1.51 (0.55, 3.71)\n",
      " P = 0.40"
     ]
    }
   ],
   "source": [
    "OUTCOME %>% OR(dod ~ marker)"
   ]
  },
  {
   "cell_type": "markdown",
   "metadata": {
    "lines_to_next_cell": 0
   },
   "source": [
    "## CD8\n",
    "### Intratumoral lymphocytes"
   ]
  },
  {
   "cell_type": "code",
   "execution_count": 18,
   "metadata": {},
   "outputs": [],
   "source": [
    "OUTCOME <- OUTCOME %>% \n",
    "  mutate(marker = cd8_intratumoral_level)"
   ]
  },
  {
   "cell_type": "markdown",
   "metadata": {
    "lines_to_next_cell": 0
   },
   "source": [
    "#### Tumor progression"
   ]
  },
  {
   "cell_type": "code",
   "execution_count": 19,
   "metadata": {},
   "outputs": [
    {
     "name": "stdout",
     "output_type": "stream",
     "text": [
      "# A tibble: 1 x 8\n",
      "  term       estimate std.error statistic p.value    or conf.low conf.high\n",
      "  <chr>         <dbl>     <dbl>     <dbl>   <dbl> <dbl>    <dbl>     <dbl>\n",
      "1 markerHigh    -0.59      0.32     -1.83  0.0669  0.55    0.290      1.03\n",
      "\n",
      "OR = 0.55 (0.29, 1.03)\n",
      " P = 0.067"
     ]
    }
   ],
   "source": [
    "OUTCOME %>% OR(progression ~ marker)"
   ]
  },
  {
   "cell_type": "markdown",
   "metadata": {
    "lines_to_next_cell": 0
   },
   "source": [
    "#### Overall mortality"
   ]
  },
  {
   "cell_type": "code",
   "execution_count": 20,
   "metadata": {},
   "outputs": [
    {
     "name": "stdout",
     "output_type": "stream",
     "text": [
      "# A tibble: 1 x 8\n",
      "  term       estimate std.error statistic p.value    or conf.low conf.high\n",
      "  <chr>         <dbl>     <dbl>     <dbl>   <dbl> <dbl>    <dbl>     <dbl>\n",
      "1 markerHigh    -0.32      0.25     -1.24   0.215  0.73     0.44       1.2\n",
      "\n",
      "OR = 0.73 (0.44, 1.2)\n",
      " P = 0.21"
     ]
    }
   ],
   "source": [
    "OUTCOME %>% OR(death ~ marker)"
   ]
  },
  {
   "cell_type": "markdown",
   "metadata": {
    "lines_to_next_cell": 0
   },
   "source": [
    "#### Cancer-related mortality"
   ]
  },
  {
   "cell_type": "code",
   "execution_count": 21,
   "metadata": {},
   "outputs": [
    {
     "name": "stdout",
     "output_type": "stream",
     "text": [
      "# A tibble: 1 x 8\n",
      "  term       estimate std.error statistic p.value    or conf.low conf.high\n",
      "  <chr>         <dbl>     <dbl>     <dbl>   <dbl> <dbl>    <dbl>     <dbl>\n",
      "1 markerHigh    -0.32      0.36     -0.87   0.385  0.73     0.35      1.48\n",
      "\n",
      "OR = 0.73 (0.35, 1.48)\n",
      " P = 0.38"
     ]
    }
   ],
   "source": [
    "OUTCOME %>% OR(dod ~ marker)"
   ]
  },
  {
   "cell_type": "markdown",
   "metadata": {
    "lines_to_next_cell": 0
   },
   "source": [
    "### Peritumoral lymphocytes"
   ]
  },
  {
   "cell_type": "code",
   "execution_count": 22,
   "metadata": {},
   "outputs": [],
   "source": [
    "OUTCOME <- OUTCOME %>% \n",
    "  mutate(marker = cd8_peritumoral_level)"
   ]
  },
  {
   "cell_type": "markdown",
   "metadata": {
    "lines_to_next_cell": 0
   },
   "source": [
    "#### Tumor progression"
   ]
  },
  {
   "cell_type": "code",
   "execution_count": 23,
   "metadata": {},
   "outputs": [
    {
     "name": "stdout",
     "output_type": "stream",
     "text": [
      "# A tibble: 1 x 8\n",
      "  term       estimate std.error statistic p.value    or conf.low conf.high\n",
      "  <chr>         <dbl>     <dbl>     <dbl>   <dbl> <dbl>    <dbl>     <dbl>\n",
      "1 markerHigh    -0.68      0.35     -1.93  0.0539  0.51     0.25         1\n",
      "\n",
      "OR = 0.51 (0.25, 1)\n",
      " P = 0.054"
     ]
    }
   ],
   "source": [
    "OUTCOME %>% OR(progression ~ marker)"
   ]
  },
  {
   "cell_type": "markdown",
   "metadata": {
    "lines_to_next_cell": 0
   },
   "source": [
    "#### Overall mortality"
   ]
  },
  {
   "cell_type": "code",
   "execution_count": 24,
   "metadata": {},
   "outputs": [
    {
     "name": "stdout",
     "output_type": "stream",
     "text": [
      "# A tibble: 1 x 8\n",
      "  term       estimate std.error statistic p.value    or conf.low conf.high\n",
      "  <chr>         <dbl>     <dbl>     <dbl>   <dbl> <dbl>    <dbl>     <dbl>\n",
      "1 markerHigh    -0.19     0.290     -0.65   0.513  0.83     0.46      1.46\n",
      "\n",
      "OR = 0.83 (0.46, 1.46)\n",
      " P = 0.51"
     ]
    }
   ],
   "source": [
    "OUTCOME %>% OR(death ~ marker)"
   ]
  },
  {
   "cell_type": "markdown",
   "metadata": {
    "lines_to_next_cell": 0
   },
   "source": [
    "#### Cancer-related mortality"
   ]
  },
  {
   "cell_type": "code",
   "execution_count": 25,
   "metadata": {},
   "outputs": [
    {
     "name": "stdout",
     "output_type": "stream",
     "text": [
      "# A tibble: 1 x 8\n",
      "  term       estimate std.error statistic p.value    or conf.low conf.high\n",
      "  <chr>         <dbl>     <dbl>     <dbl>   <dbl> <dbl>    <dbl>     <dbl>\n",
      "1 markerHigh    -1.04      0.44     -2.38  0.0172  0.35     0.14      0.82\n",
      "\n",
      "OR = 0.35 (0.14, 0.82)\n",
      " P = 0.017"
     ]
    }
   ],
   "source": [
    "OUTCOME %>% OR(dod ~ marker)"
   ]
  },
  {
   "cell_type": "markdown",
   "metadata": {
    "lines_to_next_cell": 0
   },
   "source": [
    "## CD8/Ki67\n",
    "### Intratumoral lymphocytes"
   ]
  },
  {
   "cell_type": "code",
   "execution_count": 26,
   "metadata": {},
   "outputs": [],
   "source": [
    "OUTCOME <- OUTCOME %>% \n",
    "  mutate(marker = cd8ki67_intratumoral_level)"
   ]
  },
  {
   "cell_type": "markdown",
   "metadata": {
    "lines_to_next_cell": 0
   },
   "source": [
    "#### Tumor progression"
   ]
  },
  {
   "cell_type": "code",
   "execution_count": 27,
   "metadata": {},
   "outputs": [
    {
     "name": "stdout",
     "output_type": "stream",
     "text": [
      "# A tibble: 1 x 8\n",
      "  term       estimate std.error statistic   p.value    or conf.low conf.high\n",
      "  <chr>         <dbl>     <dbl>     <dbl>     <dbl> <dbl>    <dbl>     <dbl>\n",
      "1 markerHigh     1.59      0.37      4.28 0.0000186   4.9     2.36      10.2\n",
      "\n",
      "OR = 4.9 (2.36, 10.19)\n",
      " P = 0.000019"
     ]
    }
   ],
   "source": [
    "OUTCOME %>% OR(progression ~ marker)"
   ]
  },
  {
   "cell_type": "markdown",
   "metadata": {
    "lines_to_next_cell": 0
   },
   "source": [
    "#### Overall mortality"
   ]
  },
  {
   "cell_type": "code",
   "execution_count": 28,
   "metadata": {},
   "outputs": [
    {
     "name": "stdout",
     "output_type": "stream",
     "text": [
      "# A tibble: 1 x 8\n",
      "  term       estimate std.error statistic p.value    or conf.low conf.high\n",
      "  <chr>         <dbl>     <dbl>     <dbl>   <dbl> <dbl>    <dbl>     <dbl>\n",
      "1 markerHigh     0.69      0.34      2.04  0.0415  1.99     1.02      3.87\n",
      "\n",
      "OR = 1.99 (1.02, 3.87)\n",
      " P = 0.042"
     ]
    }
   ],
   "source": [
    "OUTCOME %>% OR(death ~ marker)"
   ]
  },
  {
   "cell_type": "markdown",
   "metadata": {
    "lines_to_next_cell": 0
   },
   "source": [
    "#### Cancer-related mortality"
   ]
  },
  {
   "cell_type": "code",
   "execution_count": 29,
   "metadata": {},
   "outputs": [
    {
     "name": "stdout",
     "output_type": "stream",
     "text": [
      "# A tibble: 1 x 8\n",
      "  term       estimate std.error statistic  p.value    or conf.low conf.high\n",
      "  <chr>         <dbl>     <dbl>     <dbl>    <dbl> <dbl>    <dbl>     <dbl>\n",
      "1 markerHigh     1.68       0.5      3.39 0.000697  5.37        2      14.3\n",
      "\n",
      "OR = 5.37 (2, 14.29)\n",
      " P = 0.00070"
     ]
    }
   ],
   "source": [
    "OUTCOME %>% OR(dod ~ marker)"
   ]
  },
  {
   "cell_type": "markdown",
   "metadata": {
    "lines_to_next_cell": 0
   },
   "source": [
    "### Peritumoral lymphocytes"
   ]
  },
  {
   "cell_type": "code",
   "execution_count": 30,
   "metadata": {},
   "outputs": [
    {
     "data": {
      "text/plain": [
       "\n",
       " Low High <NA> \n",
       " 148    9  128 "
      ]
     },
     "metadata": {},
     "output_type": "display_data"
    }
   ],
   "source": [
    "OUTCOME <- OUTCOME %>% \n",
    "  mutate(marker = cd8ki67_peritumoral_level)\n",
    "\n",
    "# Note: Not evaluable due to small number of measurements corresponding all to high expression values\n",
    "table(OUTCOME$marker, useNA = \"ifany\")"
   ]
  },
  {
   "cell_type": "markdown",
   "metadata": {
    "lines_to_next_cell": 0
   },
   "source": [
    "#### Tumor progression"
   ]
  },
  {
   "cell_type": "code",
   "execution_count": 31,
   "metadata": {},
   "outputs": [],
   "source": [
    "# OUTCOME %>% OR(progression ~ marker)"
   ]
  },
  {
   "cell_type": "markdown",
   "metadata": {
    "lines_to_next_cell": 0
   },
   "source": [
    "#### Overall mortality"
   ]
  },
  {
   "cell_type": "code",
   "execution_count": 32,
   "metadata": {},
   "outputs": [],
   "source": [
    "# OUTCOME %>% OR(death ~ marker)"
   ]
  },
  {
   "cell_type": "markdown",
   "metadata": {
    "lines_to_next_cell": 0
   },
   "source": [
    "#### Cancer-related mortality"
   ]
  },
  {
   "cell_type": "code",
   "execution_count": 33,
   "metadata": {},
   "outputs": [],
   "source": [
    "# OUTCOME %>% OR(dod ~ marker)"
   ]
  },
  {
   "cell_type": "markdown",
   "metadata": {
    "lines_to_next_cell": 0
   },
   "source": [
    "## Ki67\n",
    "### Intratumoral lymphocytes"
   ]
  },
  {
   "cell_type": "code",
   "execution_count": 34,
   "metadata": {},
   "outputs": [],
   "source": [
    "OUTCOME <- OUTCOME %>% \n",
    "  mutate(marker = ki67_intratumoral_level)"
   ]
  },
  {
   "cell_type": "markdown",
   "metadata": {
    "lines_to_next_cell": 0
   },
   "source": [
    "#### Tumor progression"
   ]
  },
  {
   "cell_type": "code",
   "execution_count": 35,
   "metadata": {},
   "outputs": [
    {
     "name": "stdout",
     "output_type": "stream",
     "text": [
      "# A tibble: 1 x 8\n",
      "  term       estimate std.error statistic p.value    or conf.low conf.high\n",
      "  <chr>         <dbl>     <dbl>     <dbl>   <dbl> <dbl>    <dbl>     <dbl>\n",
      "1 markerHigh     0.59      0.31      1.87  0.0613   1.8     0.97      3.35\n",
      "\n",
      "OR = 1.8 (0.97, 3.35)\n",
      " P = 0.061"
     ]
    }
   ],
   "source": [
    "OUTCOME %>% OR(progression ~ marker)"
   ]
  },
  {
   "cell_type": "markdown",
   "metadata": {
    "lines_to_next_cell": 0
   },
   "source": [
    "#### Overall mortality"
   ]
  },
  {
   "cell_type": "code",
   "execution_count": 36,
   "metadata": {},
   "outputs": [
    {
     "name": "stdout",
     "output_type": "stream",
     "text": [
      "# A tibble: 1 x 8\n",
      "  term       estimate std.error statistic p.value    or conf.low conf.high\n",
      "  <chr>         <dbl>     <dbl>     <dbl>   <dbl> <dbl>    <dbl>     <dbl>\n",
      "1 markerHigh     0.85      0.26      3.29 0.00102  2.34     1.41      3.92\n",
      "\n",
      "OR = 2.34 (1.41, 3.92)\n",
      " P = 0.0010"
     ]
    }
   ],
   "source": [
    "OUTCOME %>% OR(death ~ marker)"
   ]
  },
  {
   "cell_type": "markdown",
   "metadata": {
    "lines_to_next_cell": 0
   },
   "source": [
    "#### Cancer-related mortality"
   ]
  },
  {
   "cell_type": "code",
   "execution_count": 37,
   "metadata": {},
   "outputs": [
    {
     "name": "stdout",
     "output_type": "stream",
     "text": [
      "# A tibble: 1 x 8\n",
      "  term       estimate std.error statistic p.value    or conf.low conf.high\n",
      "  <chr>         <dbl>     <dbl>     <dbl>   <dbl> <dbl>    <dbl>     <dbl>\n",
      "1 markerHigh     1.13      0.37      3.04 0.00240   3.1     1.51      6.58\n",
      "\n",
      "OR = 3.1 (1.51, 6.58)\n",
      " P = 0.0024"
     ]
    }
   ],
   "source": [
    "OUTCOME %>% OR(dod ~ marker)"
   ]
  },
  {
   "cell_type": "markdown",
   "metadata": {
    "lines_to_next_cell": 0
   },
   "source": [
    "## CD8/FOXP3 ratio\n",
    "### Intratumoral lymphocytes"
   ]
  },
  {
   "cell_type": "code",
   "execution_count": 38,
   "metadata": {},
   "outputs": [],
   "source": [
    "OUTCOME <- OUTCOME %>% \n",
    "  mutate(marker = cd8foxp3_intratumoral)"
   ]
  },
  {
   "cell_type": "markdown",
   "metadata": {
    "lines_to_next_cell": 0
   },
   "source": [
    "#### Tumor progression"
   ]
  },
  {
   "cell_type": "code",
   "execution_count": 39,
   "metadata": {},
   "outputs": [
    {
     "name": "stdout",
     "output_type": "stream",
     "text": [
      "# A tibble: 1 x 8\n",
      "  term             estimate std.error statistic p.value    or conf.low conf.high\n",
      "  <chr>               <dbl>     <dbl>     <dbl>   <dbl> <dbl>    <dbl>     <dbl>\n",
      "1 markerCD8 > FOX…    -0.59      0.36     -1.62   0.105  0.55     0.28      1.16\n",
      "\n",
      "OR = 0.55 (0.28, 1.16)\n",
      " P = 0.10"
     ]
    }
   ],
   "source": [
    "OUTCOME %>% OR(progression ~ marker)"
   ]
  },
  {
   "cell_type": "markdown",
   "metadata": {
    "lines_to_next_cell": 0
   },
   "source": [
    "#### Overall mortality"
   ]
  },
  {
   "cell_type": "code",
   "execution_count": 40,
   "metadata": {},
   "outputs": [
    {
     "name": "stdout",
     "output_type": "stream",
     "text": [
      "# A tibble: 1 x 8\n",
      "  term             estimate std.error statistic p.value    or conf.low conf.high\n",
      "  <chr>               <dbl>     <dbl>     <dbl>   <dbl> <dbl>    <dbl>     <dbl>\n",
      "1 markerCD8 > FOX…    -0.67      0.31     -2.12  0.0338  0.51     0.28      0.95\n",
      "\n",
      "OR = 0.51 (0.28, 0.95)\n",
      " P = 0.034"
     ]
    }
   ],
   "source": [
    "OUTCOME %>% OR(death ~ marker)"
   ]
  },
  {
   "cell_type": "markdown",
   "metadata": {
    "lines_to_next_cell": 0
   },
   "source": [
    "#### Cancer-related mortality"
   ]
  },
  {
   "cell_type": "code",
   "execution_count": 41,
   "metadata": {},
   "outputs": [
    {
     "name": "stdout",
     "output_type": "stream",
     "text": [
      "# A tibble: 1 x 8\n",
      "  term             estimate std.error statistic p.value    or conf.low conf.high\n",
      "  <chr>               <dbl>     <dbl>     <dbl>   <dbl> <dbl>    <dbl>     <dbl>\n",
      "1 markerCD8 > FOX…    -0.45      0.43     -1.04   0.298  0.64     0.28      1.55\n",
      "\n",
      "OR = 0.64 (0.28, 1.55)\n",
      " P = 0.30"
     ]
    }
   ],
   "source": [
    "OUTCOME %>% OR(dod ~ marker)"
   ]
  },
  {
   "cell_type": "markdown",
   "metadata": {
    "lines_to_next_cell": 0
   },
   "source": [
    "### Peritumoral lymphocytes"
   ]
  },
  {
   "cell_type": "code",
   "execution_count": 42,
   "metadata": {},
   "outputs": [],
   "source": [
    "OUTCOME <- OUTCOME %>% \n",
    "  mutate(marker = cd8foxp3_peritumoral)"
   ]
  },
  {
   "cell_type": "markdown",
   "metadata": {
    "lines_to_next_cell": 0
   },
   "source": [
    "#### Tumor progression"
   ]
  },
  {
   "cell_type": "code",
   "execution_count": 43,
   "metadata": {},
   "outputs": [
    {
     "name": "stdout",
     "output_type": "stream",
     "text": [
      "# A tibble: 1 x 8\n",
      "  term             estimate std.error statistic p.value    or conf.low conf.high\n",
      "  <chr>               <dbl>     <dbl>     <dbl>   <dbl> <dbl>    <dbl>     <dbl>\n",
      "1 markerCD8 > FOX…    -1.03      0.35     -2.97 0.00295  0.36     0.18       0.7\n",
      "\n",
      "OR = 0.36 (0.18, 0.7)\n",
      " P = 0.0029"
     ]
    }
   ],
   "source": [
    "OUTCOME %>% OR(progression ~ marker)"
   ]
  },
  {
   "cell_type": "markdown",
   "metadata": {
    "lines_to_next_cell": 0
   },
   "source": [
    "#### Overall mortality"
   ]
  },
  {
   "cell_type": "code",
   "execution_count": 44,
   "metadata": {},
   "outputs": [
    {
     "name": "stdout",
     "output_type": "stream",
     "text": [
      "# A tibble: 1 x 8\n",
      "  term             estimate std.error statistic p.value    or conf.low conf.high\n",
      "  <chr>               <dbl>     <dbl>     <dbl>   <dbl> <dbl>    <dbl>     <dbl>\n",
      "1 markerCD8 > FOX…    -0.65       0.3     -2.17  0.0297  0.52    0.290      0.94\n",
      "\n",
      "OR = 0.52 (0.29, 0.94)\n",
      " P = 0.030"
     ]
    }
   ],
   "source": [
    "OUTCOME %>% OR(death ~ marker)"
   ]
  },
  {
   "cell_type": "markdown",
   "metadata": {
    "lines_to_next_cell": 0
   },
   "source": [
    "#### Cancer-related mortality"
   ]
  },
  {
   "cell_type": "code",
   "execution_count": 45,
   "metadata": {},
   "outputs": [
    {
     "name": "stdout",
     "output_type": "stream",
     "text": [
      "# A tibble: 1 x 8\n",
      "  term            estimate std.error statistic  p.value    or conf.low conf.high\n",
      "  <chr>              <dbl>     <dbl>     <dbl>    <dbl> <dbl>    <dbl>     <dbl>\n",
      "1 markerCD8 > FO…    -1.81      0.46     -3.95  7.80e-5  0.16     0.06      0.39\n",
      "\n",
      "OR = 0.16 (0.06, 0.39)\n",
      " P = 0.000078"
     ]
    }
   ],
   "source": [
    "OUTCOME %>% OR(dod ~ marker)"
   ]
  }
 ],
 "metadata": {
  "jupytext": {
   "formats": "ipynb,Rmd"
  },
  "kernelspec": {
   "display_name": "R",
   "language": "R",
   "name": "ir"
  },
  "language_info": {
   "codemirror_mode": "r",
   "file_extension": ".r",
   "mimetype": "text/x-r-source",
   "name": "R",
   "pygments_lexer": "r",
   "version": "3.5.3"
  },
  "toc": {
   "base_numbering": 1,
   "nav_menu": {},
   "number_sections": true,
   "sideBar": true,
   "skip_h1_title": false,
   "title_cell": "Table of Contents",
   "title_sidebar": "Contents",
   "toc_cell": false,
   "toc_position": {},
   "toc_section_display": true,
   "toc_window_display": true
  }
 },
 "nbformat": 4,
 "nbformat_minor": 2
}
