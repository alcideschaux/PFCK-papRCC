{
 "cells": [
  {
   "cell_type": "code",
   "execution_count": 1,
   "metadata": {},
   "outputs": [
    {
     "name": "stdout",
     "output_type": "stream",
     "text": [
      "Observations: 285\n",
      "Variables: 17\n",
      "$ age_group                  <fct> Younger, Younger, Younger, Younger, Younge…\n",
      "$ stage_group                <ord> Low, Low, Low, Low, Low, Low, Low, Low, Lo…\n",
      "$ fuhrman_group              <ord> NA, NA, NA, NA, Low, Low, Low, Low, Low, L…\n",
      "$ death                      <fct> DOC + DOD, DOC + DOD, DOC + DOD, DOC + DOD…\n",
      "$ dod                        <fct> AND + AWD + DOC, AND + AWD + DOC, AND + AW…\n",
      "$ progression                <fct> No tumor progression, No tumor progression…\n",
      "$ cd8foxp3_intratumoral      <fct> CD8 > FOXP3, CD8 > FOXP3, CD8 > FOXP3, CD8…\n",
      "$ cd8foxp3_peritumoral       <fct> CD8 > FOXP3, CD8 > FOXP3, CD8 > FOXP3, CD8…\n",
      "$ pdl1_tumor_level           <fct> Low, Low, Low, Low, Low, Low, Low, NA, Low…\n",
      "$ pdl1_intratumoral_level    <fct> High, High, High, Low, Low, NA, High, NA, …\n",
      "$ foxp3_intratumoral_level   <fct> Low, Low, High, Low, High, Low, High, Low,…\n",
      "$ foxp3_peritumoral_level    <fct> High, High, High, High, Low, Low, High, Hi…\n",
      "$ cd8_intratumoral_level     <fct> High, High, High, High, Low, Low, High, NA…\n",
      "$ cd8_peritumoral_level      <fct> High, High, High, High, High, High, High, …\n",
      "$ cd8ki67_intratumoral_level <fct> Low, Low, Low, Low, Low, Low, Low, NA, Low…\n",
      "$ cd8ki67_peritumoral_level  <fct> Low, Low, Low, Low, Low, Low, High, Low, L…\n",
      "$ ki67_intratumoral_level    <fct> Low, Low, Low, Low, High, High, High, NA, …\n"
     ]
    }
   ],
   "source": [
    "# Libraries\n",
    "suppressPackageStartupMessages(library(tidyverse))\n",
    "\n",
    "# Options\n",
    "options(warn = -1)\n",
    "\n",
    "# Scripts\n",
    "source(\"summarize.R\")\n",
    "\n",
    "# Data\n",
    "load(\"DF.Rdata\")\n",
    "\n",
    "OUTCOME <- DF %>% \n",
    "  select(\n",
    "    age_group,\n",
    "    stage_group,\n",
    "    fuhrman_group,\n",
    "    death:progression,\n",
    "    cd8foxp3_intratumoral:ki67_intratumoral_level\n",
    "  )\n",
    "\n",
    "glimpse(OUTCOME)"
   ]
  },
  {
   "cell_type": "markdown",
   "metadata": {
    "lines_to_next_cell": 0
   },
   "source": [
    "# PD-L1 expression\n",
    "## Tumor cells"
   ]
  },
  {
   "cell_type": "code",
   "execution_count": 2,
   "metadata": {},
   "outputs": [],
   "source": [
    "OUTCOME <- OUTCOME %>% \n",
    "  mutate(marker = pdl1_tumor_level)"
   ]
  },
  {
   "cell_type": "markdown",
   "metadata": {
    "lines_to_next_cell": 0
   },
   "source": [
    "### Tumor progression\n",
    "#### Unadjusted model"
   ]
  },
  {
   "cell_type": "code",
   "execution_count": 3,
   "metadata": {},
   "outputs": [
    {
     "name": "stdout",
     "output_type": "stream",
     "text": [
      "# A tibble: 1 x 8\n",
      "  term       estimate std.error statistic p.value    or conf.low conf.high\n",
      "  <chr>         <dbl>     <dbl>     <dbl> <chr>   <dbl>    <dbl>     <dbl>\n",
      "1 markerHigh     0.61      0.37      1.63 0.10     1.84     0.86      3.75\n"
     ]
    }
   ],
   "source": [
    "OUTCOME %>% OR(progression ~ marker)"
   ]
  },
  {
   "cell_type": "markdown",
   "metadata": {
    "lines_to_next_cell": 0
   },
   "source": [
    "#### Adjusted model: age, pT stage and Fuhrman grade"
   ]
  },
  {
   "cell_type": "code",
   "execution_count": 4,
   "metadata": {},
   "outputs": [
    {
     "name": "stdout",
     "output_type": "stream",
     "text": [
      "# A tibble: 4 x 8\n",
      "  term            estimate std.error statistic p.value     or conf.low conf.high\n",
      "  <chr>              <dbl>     <dbl>     <dbl> <chr>    <dbl>    <dbl>     <dbl>\n",
      "1 markerHigh          0.34      0.4       0.85 0.40      1.4      0.63      3.03\n",
      "2 age_groupOlder      0.25      0.35      0.72 0.47      1.28     0.65      2.55\n",
      "3 stage_group.L      -0.11      0.27     -0.43 0.67      0.9      0.52      1.5 \n",
      "4 fuhrman_group.L     1.44      0.32      4.53 0.00000…  4.22     2.33      8.22\n"
     ]
    }
   ],
   "source": [
    "OUTCOME %>% OR(progression ~ marker + age_group + stage_group + fuhrman_group)"
   ]
  },
  {
   "cell_type": "markdown",
   "metadata": {
    "lines_to_next_cell": 0
   },
   "source": [
    "### Overall mortality\n",
    "#### Unadjusted model"
   ]
  },
  {
   "cell_type": "code",
   "execution_count": 5,
   "metadata": {},
   "outputs": [
    {
     "name": "stdout",
     "output_type": "stream",
     "text": [
      "# A tibble: 1 x 8\n",
      "  term       estimate std.error statistic p.value    or conf.low conf.high\n",
      "  <chr>         <dbl>     <dbl>     <dbl> <chr>   <dbl>    <dbl>     <dbl>\n",
      "1 markerHigh    -0.18      0.34     -0.53 0.60     0.84     0.43       1.6\n"
     ]
    }
   ],
   "source": [
    "OUTCOME %>% OR(death ~ marker)"
   ]
  },
  {
   "cell_type": "markdown",
   "metadata": {
    "lines_to_next_cell": 0
   },
   "source": [
    "#### Adjusted model: age, pT stage and Fuhrman grade"
   ]
  },
  {
   "cell_type": "code",
   "execution_count": 6,
   "metadata": {},
   "outputs": [
    {
     "name": "stdout",
     "output_type": "stream",
     "text": [
      "# A tibble: 4 x 8\n",
      "  term            estimate std.error statistic p.value    or conf.low conf.high\n",
      "  <chr>              <dbl>     <dbl>     <dbl> <chr>   <dbl>    <dbl>     <dbl>\n",
      "1 markerHigh         -0.32     0.37      -0.88 0.38     0.73     0.35      1.47\n",
      "2 age_groupOlder      0.78     0.290      2.72 0.0065   2.18     1.25      3.84\n",
      "3 stage_group.L       0.51     0.23       2.18 0.029    1.67     1.05      2.62\n",
      "4 fuhrman_group.L     0.6      0.23       2.66 0.0079   1.82     1.17      2.84\n"
     ]
    }
   ],
   "source": [
    "OUTCOME %>% OR(death ~ marker + age_group + stage_group + fuhrman_group)"
   ]
  },
  {
   "cell_type": "markdown",
   "metadata": {
    "lines_to_next_cell": 0
   },
   "source": [
    "### Cancer-related mortality\n",
    "#### Unadjusted model"
   ]
  },
  {
   "cell_type": "code",
   "execution_count": 7,
   "metadata": {},
   "outputs": [
    {
     "name": "stdout",
     "output_type": "stream",
     "text": [
      "# A tibble: 1 x 8\n",
      "  term       estimate std.error statistic p.value    or conf.low conf.high\n",
      "  <chr>         <dbl>     <dbl>     <dbl> <chr>   <dbl>    <dbl>     <dbl>\n",
      "1 markerHigh     0.25      0.47      0.54 0.59     1.28     0.48      3.09\n"
     ]
    }
   ],
   "source": [
    "OUTCOME %>% OR(dod ~ marker)"
   ]
  },
  {
   "cell_type": "markdown",
   "metadata": {
    "lines_to_next_cell": 0
   },
   "source": [
    "#### Adjusted model: age, pT stage and Fuhrman grade"
   ]
  },
  {
   "cell_type": "code",
   "execution_count": 8,
   "metadata": {},
   "outputs": [
    {
     "name": "stdout",
     "output_type": "stream",
     "text": [
      "# A tibble: 4 x 8\n",
      "  term            estimate std.error statistic p.value    or conf.low conf.high\n",
      "  <chr>              <dbl>     <dbl>     <dbl> <chr>   <dbl>    <dbl>     <dbl>\n",
      "1 markerHigh          0.21      0.54      0.39 0.69     1.23     0.41      3.47\n",
      "2 age_groupOlder     -0.06      0.45     -0.14 0.89     0.94     0.38      2.27\n",
      "3 stage_group.L       1.13      0.31      3.61 0.00030  3.1      1.69      5.78\n",
      "4 fuhrman_group.L     1.25      0.34      3.67 0.00024  3.49     1.82      7.01\n"
     ]
    }
   ],
   "source": [
    "OUTCOME %>% OR(dod ~ marker + age_group + stage_group + fuhrman_group)"
   ]
  },
  {
   "cell_type": "markdown",
   "metadata": {
    "lines_to_next_cell": 0
   },
   "source": [
    "## Intratumoral lymphocytes"
   ]
  },
  {
   "cell_type": "code",
   "execution_count": 9,
   "metadata": {},
   "outputs": [],
   "source": [
    "OUTCOME <- OUTCOME %>% \n",
    "  mutate(marker = pdl1_intratumoral_level)"
   ]
  },
  {
   "cell_type": "markdown",
   "metadata": {
    "lines_to_next_cell": 0
   },
   "source": [
    "### Tumor progression\n",
    "#### Unadjusted model"
   ]
  },
  {
   "cell_type": "code",
   "execution_count": 10,
   "metadata": {},
   "outputs": [
    {
     "name": "stdout",
     "output_type": "stream",
     "text": [
      "# A tibble: 1 x 8\n",
      "  term       estimate std.error statistic p.value    or conf.low conf.high\n",
      "  <chr>         <dbl>     <dbl>     <dbl> <chr>   <dbl>    <dbl>     <dbl>\n",
      "1 markerHigh    -1.26      0.76     -1.65 0.099    0.28     0.04      1.03\n"
     ]
    }
   ],
   "source": [
    "OUTCOME %>% OR(progression ~ marker)"
   ]
  },
  {
   "cell_type": "markdown",
   "metadata": {
    "lines_to_next_cell": 0
   },
   "source": [
    "#### Adjusted model: age, pT stage and Fuhrman grade"
   ]
  },
  {
   "cell_type": "code",
   "execution_count": 11,
   "metadata": {},
   "outputs": [
    {
     "name": "stdout",
     "output_type": "stream",
     "text": [
      "# A tibble: 4 x 8\n",
      "  term            estimate std.error statistic p.value    or conf.low conf.high\n",
      "  <chr>              <dbl>     <dbl>     <dbl> <chr>   <dbl>    <dbl>     <dbl>\n",
      "1 markerHigh         -0.77      0.82     -0.94 0.35     0.46     0.07      1.95\n",
      "2 age_groupOlder      0.01      0.4       0.04 0.97     1.01     0.46      2.24\n",
      "3 stage_group.L       0.11      0.3       0.39 0.70     1.12     0.62      2.02\n",
      "4 fuhrman_group.L     1.66      0.46      3.6  0.00032  5.26     2.34     15.2 \n"
     ]
    }
   ],
   "source": [
    "OUTCOME %>% OR(progression ~ marker + age_group + stage_group + fuhrman_group)"
   ]
  },
  {
   "cell_type": "markdown",
   "metadata": {
    "lines_to_next_cell": 0
   },
   "source": [
    "### Overall mortality\n",
    "#### Unadjusted model"
   ]
  },
  {
   "cell_type": "code",
   "execution_count": 12,
   "metadata": {},
   "outputs": [
    {
     "name": "stdout",
     "output_type": "stream",
     "text": [
      "# A tibble: 1 x 8\n",
      "  term       estimate std.error statistic p.value    or conf.low conf.high\n",
      "  <chr>         <dbl>     <dbl>     <dbl> <chr>   <dbl>    <dbl>     <dbl>\n",
      "1 markerHigh     0.18      0.44       0.4 0.69      1.2     0.49      2.77\n"
     ]
    }
   ],
   "source": [
    "OUTCOME %>% OR(death ~ marker)"
   ]
  },
  {
   "cell_type": "markdown",
   "metadata": {
    "lines_to_next_cell": 0
   },
   "source": [
    "#### Adjusted model: age, pT stage and Fuhrman grade"
   ]
  },
  {
   "cell_type": "code",
   "execution_count": 13,
   "metadata": {},
   "outputs": [
    {
     "name": "stdout",
     "output_type": "stream",
     "text": [
      "# A tibble: 4 x 8\n",
      "  term            estimate std.error statistic p.value    or conf.low conf.high\n",
      "  <chr>              <dbl>     <dbl>     <dbl> <chr>   <dbl>    <dbl>     <dbl>\n",
      "1 markerHigh          0.43     0.54       0.81 0.42     1.54    0.52       4.38\n",
      "2 age_groupOlder      0.14     0.35       0.39 0.69     1.15    0.580      2.3 \n",
      "3 stage_group.L       0.61     0.28       2.2  0.028    1.84    1.07       3.17\n",
      "4 fuhrman_group.L     0.79     0.290      2.69 0.0071   2.2     1.26       4.02\n"
     ]
    }
   ],
   "source": [
    "OUTCOME %>% OR(death ~ marker + age_group + stage_group + fuhrman_group)"
   ]
  },
  {
   "cell_type": "markdown",
   "metadata": {
    "lines_to_next_cell": 0
   },
   "source": [
    "### Cancer-related mortality\n",
    "#### Unadjusted model"
   ]
  },
  {
   "cell_type": "code",
   "execution_count": 14,
   "metadata": {},
   "outputs": [
    {
     "name": "stdout",
     "output_type": "stream",
     "text": [
      "# A tibble: 1 x 8\n",
      "  term       estimate std.error statistic p.value    or conf.low conf.high\n",
      "  <chr>         <dbl>     <dbl>     <dbl> <chr>   <dbl>    <dbl>     <dbl>\n",
      "1 markerHigh    -0.52      0.66     -0.79 0.43     0.59     0.13      1.93\n"
     ]
    }
   ],
   "source": [
    "OUTCOME %>% OR(dod ~ marker)"
   ]
  },
  {
   "cell_type": "markdown",
   "metadata": {
    "lines_to_next_cell": 0
   },
   "source": [
    "#### Adjusted model: age, pT stage and Fuhrman grade"
   ]
  },
  {
   "cell_type": "code",
   "execution_count": 15,
   "metadata": {},
   "outputs": [
    {
     "name": "stdout",
     "output_type": "stream",
     "text": [
      "# A tibble: 4 x 8\n",
      "  term            estimate std.error statistic p.value    or conf.low conf.high\n",
      "  <chr>              <dbl>     <dbl>     <dbl> <chr>   <dbl>    <dbl>     <dbl>\n",
      "1 markerHigh          1.01      0.9       1.13 0.26     2.75     0.44     16.6 \n",
      "2 age_groupOlder     -2.83      0.99     -2.86 0.0042   0.06     0.01      0.34\n",
      "3 stage_group.L       2.46      0.64      3.88 0.00010 11.7      3.85     50.6 \n",
      "4 fuhrman_group.L     2.48      0.83      2.99 0.0028  11.9      3.13    105.  \n"
     ]
    }
   ],
   "source": [
    "OUTCOME %>% OR(dod ~ marker + age_group + stage_group + fuhrman_group)"
   ]
  },
  {
   "cell_type": "markdown",
   "metadata": {
    "lines_to_next_cell": 0
   },
   "source": [
    "# FOXP3\n",
    "## Intratumoral lymphocytes"
   ]
  },
  {
   "cell_type": "code",
   "execution_count": 16,
   "metadata": {},
   "outputs": [],
   "source": [
    "OUTCOME <- OUTCOME %>% \n",
    "  mutate(marker = foxp3_intratumoral_level)"
   ]
  },
  {
   "cell_type": "markdown",
   "metadata": {
    "lines_to_next_cell": 0
   },
   "source": [
    "### Tumor progression\n",
    "#### Unadjusted model"
   ]
  },
  {
   "cell_type": "code",
   "execution_count": 17,
   "metadata": {},
   "outputs": [
    {
     "name": "stdout",
     "output_type": "stream",
     "text": [
      "# A tibble: 1 x 8\n",
      "  term       estimate std.error statistic p.value    or conf.low conf.high\n",
      "  <chr>         <dbl>     <dbl>     <dbl> <chr>   <dbl>    <dbl>     <dbl>\n",
      "1 markerHigh     0.06      0.33      0.19 0.85     1.06     0.55      2.01\n"
     ]
    }
   ],
   "source": [
    "OUTCOME %>% OR(progression ~ marker)"
   ]
  },
  {
   "cell_type": "markdown",
   "metadata": {
    "lines_to_next_cell": 0
   },
   "source": [
    "#### Adjusted model: age, pT stage and Fuhrman grade"
   ]
  },
  {
   "cell_type": "code",
   "execution_count": 18,
   "metadata": {},
   "outputs": [
    {
     "name": "stdout",
     "output_type": "stream",
     "text": [
      "# A tibble: 4 x 8\n",
      "  term            estimate std.error statistic p.value     or conf.low conf.high\n",
      "  <chr>              <dbl>     <dbl>     <dbl> <chr>    <dbl>    <dbl>     <dbl>\n",
      "1 markerHigh         -0.47      0.36     -1.28 0.20      0.63    0.3        1.27\n",
      "2 age_groupOlder      0.24      0.34      0.7  0.48      1.27    0.65       2.51\n",
      "3 stage_group.L      -0.02      0.26     -0.1  0.92      0.98    0.580      1.62\n",
      "4 fuhrman_group.L     1.57      0.32      4.86 0.00000…  4.81    2.63       9.44\n"
     ]
    }
   ],
   "source": [
    "OUTCOME %>% OR(progression ~ marker + age_group + stage_group + fuhrman_group)"
   ]
  },
  {
   "cell_type": "markdown",
   "metadata": {
    "lines_to_next_cell": 0
   },
   "source": [
    "### Overall mortality\n",
    "#### Unadjusted model"
   ]
  },
  {
   "cell_type": "code",
   "execution_count": 19,
   "metadata": {},
   "outputs": [
    {
     "name": "stdout",
     "output_type": "stream",
     "text": [
      "# A tibble: 1 x 8\n",
      "  term       estimate std.error statistic p.value    or conf.low conf.high\n",
      "  <chr>         <dbl>     <dbl>     <dbl> <chr>   <dbl>    <dbl>     <dbl>\n",
      "1 markerHigh    -0.03      0.27      -0.1 0.92     0.97    0.570      1.65\n"
     ]
    }
   ],
   "source": [
    "OUTCOME %>% OR(death ~ marker)"
   ]
  },
  {
   "cell_type": "markdown",
   "metadata": {
    "lines_to_next_cell": 0
   },
   "source": [
    "#### Adjusted model: age, pT stage and Fuhrman grade"
   ]
  },
  {
   "cell_type": "code",
   "execution_count": 20,
   "metadata": {},
   "outputs": [
    {
     "name": "stdout",
     "output_type": "stream",
     "text": [
      "# A tibble: 4 x 8\n",
      "  term            estimate std.error statistic p.value    or conf.low conf.high\n",
      "  <chr>              <dbl>     <dbl>     <dbl> <chr>   <dbl>    <dbl>     <dbl>\n",
      "1 markerHigh         -0.39      0.31     -1.27 0.20     0.68     0.36      1.23\n",
      "2 age_groupOlder      0.72      0.28      2.54 0.011    2.05     1.19      3.63\n",
      "3 stage_group.L       0.52      0.23      2.29 0.022    1.68     1.08      2.61\n",
      "4 fuhrman_group.L     0.64      0.23      2.8  0.0051   1.9      1.21      2.97\n"
     ]
    }
   ],
   "source": [
    "OUTCOME %>% OR(death ~ marker + age_group + stage_group + fuhrman_group)"
   ]
  },
  {
   "cell_type": "markdown",
   "metadata": {
    "lines_to_next_cell": 0
   },
   "source": [
    "### Cancer-related mortality\n",
    "#### Unadjusted model"
   ]
  },
  {
   "cell_type": "code",
   "execution_count": 21,
   "metadata": {},
   "outputs": [
    {
     "name": "stdout",
     "output_type": "stream",
     "text": [
      "# A tibble: 1 x 8\n",
      "  term       estimate std.error statistic p.value    or conf.low conf.high\n",
      "  <chr>         <dbl>     <dbl>     <dbl> <chr>   <dbl>    <dbl>     <dbl>\n",
      "1 markerHigh    -0.12       0.4    -0.290 0.77     0.89     0.39      1.91\n"
     ]
    }
   ],
   "source": [
    "OUTCOME %>% OR(dod ~ marker)"
   ]
  },
  {
   "cell_type": "markdown",
   "metadata": {
    "lines_to_next_cell": 0
   },
   "source": [
    "#### Adjusted model: age, pT stage and Fuhrman grade"
   ]
  },
  {
   "cell_type": "code",
   "execution_count": 22,
   "metadata": {},
   "outputs": [
    {
     "name": "stdout",
     "output_type": "stream",
     "text": [
      "# A tibble: 4 x 8\n",
      "  term            estimate std.error statistic p.value     or conf.low conf.high\n",
      "  <chr>              <dbl>     <dbl>     <dbl> <chr>    <dbl>    <dbl>     <dbl>\n",
      "1 markerHigh         -0.73      0.47     -1.53 0.13      0.48     0.18      1.19\n",
      "2 age_groupOlder     -0.13      0.44     -0.3  0.76      0.88     0.36      2.08\n",
      "3 stage_group.L       1.05      0.32      3.33 0.00088   2.86     1.55      5.38\n",
      "4 fuhrman_group.L     1.35      0.35      3.89 0.000099  3.86     2         7.86\n"
     ]
    }
   ],
   "source": [
    "OUTCOME %>% OR(dod ~ marker + age_group + stage_group + fuhrman_group)"
   ]
  },
  {
   "cell_type": "markdown",
   "metadata": {
    "lines_to_next_cell": 0
   },
   "source": [
    "## Peritumoral lymphocytes"
   ]
  },
  {
   "cell_type": "code",
   "execution_count": 23,
   "metadata": {},
   "outputs": [],
   "source": [
    "OUTCOME <- OUTCOME %>% \n",
    "  mutate(marker = foxp3_peritumoral_level)"
   ]
  },
  {
   "cell_type": "markdown",
   "metadata": {
    "lines_to_next_cell": 0
   },
   "source": [
    "### Tumor progression\n",
    "#### Unadjusted model"
   ]
  },
  {
   "cell_type": "code",
   "execution_count": 24,
   "metadata": {},
   "outputs": [
    {
     "name": "stdout",
     "output_type": "stream",
     "text": [
      "# A tibble: 1 x 8\n",
      "  term       estimate std.error statistic p.value    or conf.low conf.high\n",
      "  <chr>         <dbl>     <dbl>     <dbl> <chr>   <dbl>    <dbl>     <dbl>\n",
      "1 markerHigh     0.33      0.43      0.79 0.43     1.39    0.580      3.13\n"
     ]
    }
   ],
   "source": [
    "OUTCOME %>% OR(progression ~ marker)"
   ]
  },
  {
   "cell_type": "markdown",
   "metadata": {
    "lines_to_next_cell": 0
   },
   "source": [
    "#### Adjusted model: age, pT stage and Fuhrman grade"
   ]
  },
  {
   "cell_type": "code",
   "execution_count": 25,
   "metadata": {},
   "outputs": [
    {
     "name": "stdout",
     "output_type": "stream",
     "text": [
      "# A tibble: 4 x 8\n",
      "  term            estimate std.error statistic p.value     or conf.low conf.high\n",
      "  <chr>              <dbl>     <dbl>     <dbl> <chr>    <dbl>    <dbl>     <dbl>\n",
      "1 markerHigh         -0.01      0.47     -0.02 0.98      0.99    0.38       2.47\n",
      "2 age_groupOlder      0.14      0.35      0.41 0.68      1.15    0.580      2.32\n",
      "3 stage_group.L      -0.03      0.27     -0.1  0.92      0.97    0.580      1.64\n",
      "4 fuhrman_group.L     1.38      0.32      4.3  0.000017  3.97    2.18       7.77\n"
     ]
    }
   ],
   "source": [
    "OUTCOME %>% OR(progression ~ marker + age_group + stage_group + fuhrman_group)"
   ]
  },
  {
   "cell_type": "markdown",
   "metadata": {
    "lines_to_next_cell": 0
   },
   "source": [
    "### Overall mortality\n",
    "#### Unadjusted model"
   ]
  },
  {
   "cell_type": "code",
   "execution_count": 26,
   "metadata": {},
   "outputs": [
    {
     "name": "stdout",
     "output_type": "stream",
     "text": [
      "# A tibble: 1 x 8\n",
      "  term       estimate std.error statistic p.value    or conf.low conf.high\n",
      "  <chr>         <dbl>     <dbl>     <dbl> <chr>   <dbl>    <dbl>     <dbl>\n",
      "1 markerHigh     0.53      0.37      1.42 0.15      1.7     0.82      3.53\n"
     ]
    }
   ],
   "source": [
    "OUTCOME %>% OR(death ~ marker)"
   ]
  },
  {
   "cell_type": "markdown",
   "metadata": {
    "lines_to_next_cell": 0
   },
   "source": [
    "#### Adjusted model: age, pT stage and Fuhrman grade"
   ]
  },
  {
   "cell_type": "code",
   "execution_count": 27,
   "metadata": {},
   "outputs": [
    {
     "name": "stdout",
     "output_type": "stream",
     "text": [
      "# A tibble: 4 x 8\n",
      "  term            estimate std.error statistic p.value    or conf.low conf.high\n",
      "  <chr>              <dbl>     <dbl>     <dbl> <chr>   <dbl>    <dbl>     <dbl>\n",
      "1 markerHigh          0.11      0.45      0.24 0.81     1.12     0.46      2.66\n",
      "2 age_groupOlder      0.68      0.3       2.28 0.022    1.97     1.11      3.57\n",
      "3 stage_group.L       0.56      0.23      2.38 0.017    1.75     1.1       2.77\n",
      "4 fuhrman_group.L     0.46      0.23      1.98 0.048    1.58     1         2.49\n"
     ]
    }
   ],
   "source": [
    "OUTCOME %>% OR(death ~ marker + age_group + stage_group + fuhrman_group)"
   ]
  },
  {
   "cell_type": "markdown",
   "metadata": {
    "lines_to_next_cell": 0
   },
   "source": [
    "### Cancer-related mortality\n",
    "#### Unadjusted model"
   ]
  },
  {
   "cell_type": "code",
   "execution_count": 28,
   "metadata": {},
   "outputs": [
    {
     "name": "stdout",
     "output_type": "stream",
     "text": [
      "# A tibble: 1 x 8\n",
      "  term       estimate std.error statistic p.value    or conf.low conf.high\n",
      "  <chr>         <dbl>     <dbl>     <dbl> <chr>   <dbl>    <dbl>     <dbl>\n",
      "1 markerHigh     0.41      0.48      0.84 0.40     1.51     0.55      3.71\n"
     ]
    }
   ],
   "source": [
    "OUTCOME %>% OR(dod ~ marker)"
   ]
  },
  {
   "cell_type": "markdown",
   "metadata": {
    "lines_to_next_cell": 0
   },
   "source": [
    "#### Adjusted model: age, pT stage and Fuhrman grade"
   ]
  },
  {
   "cell_type": "code",
   "execution_count": 29,
   "metadata": {},
   "outputs": [
    {
     "name": "stdout",
     "output_type": "stream",
     "text": [
      "# A tibble: 4 x 8\n",
      "  term            estimate std.error statistic p.value    or conf.low conf.high\n",
      "  <chr>              <dbl>     <dbl>     <dbl> <chr>   <dbl>    <dbl>     <dbl>\n",
      "1 markerHigh         -0.5       0.59     -0.85 0.40     0.61     0.18      1.87\n",
      "2 age_groupOlder     -0.35      0.46     -0.75 0.45     0.7      0.28      1.73\n",
      "3 stage_group.L       1.17      0.33      3.56 0.00037  3.22     1.7       6.22\n",
      "4 fuhrman_group.L     1.26      0.35      3.65 0.00026  3.53     1.82      7.15\n"
     ]
    }
   ],
   "source": [
    "OUTCOME %>% OR(dod ~ marker + age_group + stage_group + fuhrman_group)"
   ]
  },
  {
   "cell_type": "markdown",
   "metadata": {
    "lines_to_next_cell": 0
   },
   "source": [
    "# CD8\n",
    "## Intratumoral lymphocytes"
   ]
  },
  {
   "cell_type": "code",
   "execution_count": 30,
   "metadata": {},
   "outputs": [],
   "source": [
    "OUTCOME <- OUTCOME %>% \n",
    "  mutate(marker = cd8_intratumoral_level)"
   ]
  },
  {
   "cell_type": "markdown",
   "metadata": {
    "lines_to_next_cell": 0
   },
   "source": [
    "### Tumor progression\n",
    "#### Unadjusted model"
   ]
  },
  {
   "cell_type": "code",
   "execution_count": 31,
   "metadata": {},
   "outputs": [
    {
     "name": "stdout",
     "output_type": "stream",
     "text": [
      "# A tibble: 1 x 8\n",
      "  term       estimate std.error statistic p.value    or conf.low conf.high\n",
      "  <chr>         <dbl>     <dbl>     <dbl> <chr>   <dbl>    <dbl>     <dbl>\n",
      "1 markerHigh    -0.59      0.32     -1.83 0.067    0.55    0.290      1.03\n"
     ]
    }
   ],
   "source": [
    "OUTCOME %>% OR(progression ~ marker)"
   ]
  },
  {
   "cell_type": "markdown",
   "metadata": {
    "lines_to_next_cell": 0
   },
   "source": [
    "#### Adjusted model: age, pT stage and Fuhrman grade"
   ]
  },
  {
   "cell_type": "code",
   "execution_count": 32,
   "metadata": {},
   "outputs": [
    {
     "name": "stdout",
     "output_type": "stream",
     "text": [
      "# A tibble: 4 x 8\n",
      "  term            estimate std.error statistic p.value     or conf.low conf.high\n",
      "  <chr>              <dbl>     <dbl>     <dbl> <chr>    <dbl>    <dbl>     <dbl>\n",
      "1 markerHigh         -0.8       0.35     -2.27 0.023     0.45     0.22      0.89\n",
      "2 age_groupOlder      0.27      0.35      0.78 0.44      1.31     0.66      2.61\n",
      "3 stage_group.L      -0.08      0.26     -0.3  0.76      0.92     0.55      1.55\n",
      "4 fuhrman_group.L     1.56      0.32      4.88 0.00000…  4.76     2.62      9.33\n"
     ]
    }
   ],
   "source": [
    "OUTCOME %>% OR(progression ~ marker + age_group + stage_group + fuhrman_group)"
   ]
  },
  {
   "cell_type": "markdown",
   "metadata": {
    "lines_to_next_cell": 0
   },
   "source": [
    "### Overall mortality\n",
    "#### Unadjusted model"
   ]
  },
  {
   "cell_type": "code",
   "execution_count": 33,
   "metadata": {},
   "outputs": [
    {
     "name": "stdout",
     "output_type": "stream",
     "text": [
      "# A tibble: 1 x 8\n",
      "  term       estimate std.error statistic p.value    or conf.low conf.high\n",
      "  <chr>         <dbl>     <dbl>     <dbl> <chr>   <dbl>    <dbl>     <dbl>\n",
      "1 markerHigh    -0.32      0.25     -1.24 0.21     0.73     0.44       1.2\n"
     ]
    }
   ],
   "source": [
    "OUTCOME %>% OR(death ~ marker)"
   ]
  },
  {
   "cell_type": "markdown",
   "metadata": {
    "lines_to_next_cell": 0
   },
   "source": [
    "#### Adjusted model: age, pT stage and Fuhrman grade"
   ]
  },
  {
   "cell_type": "code",
   "execution_count": 34,
   "metadata": {},
   "outputs": [
    {
     "name": "stdout",
     "output_type": "stream",
     "text": [
      "# A tibble: 4 x 8\n",
      "  term            estimate std.error statistic p.value    or conf.low conf.high\n",
      "  <chr>              <dbl>     <dbl>     <dbl> <chr>   <dbl>    <dbl>     <dbl>\n",
      "1 markerHigh         -0.45      0.28     -1.6  0.11     0.64     0.36      1.1 \n",
      "2 age_groupOlder      0.7       0.28      2.47 0.013    2.01     1.16      3.56\n",
      "3 stage_group.L       0.46      0.23      2.02 0.043    1.58     1.01      2.48\n",
      "4 fuhrman_group.L     0.61      0.22      2.74 0.0061   1.84     1.19      2.88\n"
     ]
    }
   ],
   "source": [
    "OUTCOME %>% OR(death ~ marker + age_group + stage_group + fuhrman_group)"
   ]
  },
  {
   "cell_type": "markdown",
   "metadata": {
    "lines_to_next_cell": 0
   },
   "source": [
    "### Cancer-related mortality\n",
    "#### Unadjusted model"
   ]
  },
  {
   "cell_type": "code",
   "execution_count": 35,
   "metadata": {},
   "outputs": [
    {
     "name": "stdout",
     "output_type": "stream",
     "text": [
      "# A tibble: 1 x 8\n",
      "  term       estimate std.error statistic p.value    or conf.low conf.high\n",
      "  <chr>         <dbl>     <dbl>     <dbl> <chr>   <dbl>    <dbl>     <dbl>\n",
      "1 markerHigh    -0.32      0.36     -0.87 0.38     0.73     0.35      1.48\n"
     ]
    }
   ],
   "source": [
    "OUTCOME %>% OR(dod ~ marker)"
   ]
  },
  {
   "cell_type": "markdown",
   "metadata": {
    "lines_to_next_cell": 0
   },
   "source": [
    "#### Adjusted model: age, pT stage and Fuhrman grade"
   ]
  },
  {
   "cell_type": "code",
   "execution_count": 36,
   "metadata": {},
   "outputs": [
    {
     "name": "stdout",
     "output_type": "stream",
     "text": [
      "# A tibble: 4 x 8\n",
      "  term            estimate std.error statistic p.value    or conf.low conf.high\n",
      "  <chr>              <dbl>     <dbl>     <dbl> <chr>   <dbl>    <dbl>     <dbl>\n",
      "1 markerHigh         -0.3       0.42    -0.72  0.47     0.74     0.32      1.69\n",
      "2 age_groupOlder     -0.13      0.44    -0.290 0.77     0.88     0.37      2.07\n",
      "3 stage_group.L       0.97      0.32     3.08  0.0021   2.64     1.43      4.96\n",
      "4 fuhrman_group.L     1.28      0.34     3.75  0.00018  3.6      1.88      7.24\n"
     ]
    }
   ],
   "source": [
    "OUTCOME %>% OR(dod ~ marker + age_group + stage_group + fuhrman_group)"
   ]
  },
  {
   "cell_type": "markdown",
   "metadata": {
    "lines_to_next_cell": 0
   },
   "source": [
    "## Peritumoral lymphocytes"
   ]
  },
  {
   "cell_type": "code",
   "execution_count": 37,
   "metadata": {},
   "outputs": [],
   "source": [
    "OUTCOME <- OUTCOME %>% \n",
    "  mutate(marker = cd8_peritumoral_level)"
   ]
  },
  {
   "cell_type": "markdown",
   "metadata": {
    "lines_to_next_cell": 0
   },
   "source": [
    "### Tumor progression\n",
    "#### Unadjusted model"
   ]
  },
  {
   "cell_type": "code",
   "execution_count": 38,
   "metadata": {},
   "outputs": [
    {
     "name": "stdout",
     "output_type": "stream",
     "text": [
      "# A tibble: 1 x 8\n",
      "  term       estimate std.error statistic p.value    or conf.low conf.high\n",
      "  <chr>         <dbl>     <dbl>     <dbl> <chr>   <dbl>    <dbl>     <dbl>\n",
      "1 markerHigh    -0.68      0.35     -1.93 0.054    0.51     0.25         1\n"
     ]
    }
   ],
   "source": [
    "OUTCOME %>% OR(progression ~ marker)"
   ]
  },
  {
   "cell_type": "markdown",
   "metadata": {
    "lines_to_next_cell": 0
   },
   "source": [
    "#### Adjusted model: age, pT stage and Fuhrman grade"
   ]
  },
  {
   "cell_type": "code",
   "execution_count": 39,
   "metadata": {},
   "outputs": [
    {
     "name": "stdout",
     "output_type": "stream",
     "text": [
      "# A tibble: 4 x 8\n",
      "  term            estimate std.error statistic p.value     or conf.low conf.high\n",
      "  <chr>              <dbl>     <dbl>     <dbl> <chr>    <dbl>    <dbl>     <dbl>\n",
      "1 markerHigh        -0.43      0.39      -1.1  0.27      0.65     0.3       1.4 \n",
      "2 age_groupOlder    -0.16      0.38      -0.41 0.68      0.85     0.4       1.8 \n",
      "3 stage_group.L     -0.290     0.290     -0.99 0.32      0.75     0.42      1.32\n",
      "4 fuhrman_group.L    1.51      0.36       4.21 0.000026  4.53     2.31      9.53\n"
     ]
    }
   ],
   "source": [
    "OUTCOME %>% OR(progression ~ marker + age_group + stage_group + fuhrman_group)"
   ]
  },
  {
   "cell_type": "markdown",
   "metadata": {
    "lines_to_next_cell": 0
   },
   "source": [
    "### Overall mortality\n",
    "#### Unadjusted model"
   ]
  },
  {
   "cell_type": "code",
   "execution_count": 40,
   "metadata": {},
   "outputs": [
    {
     "name": "stdout",
     "output_type": "stream",
     "text": [
      "# A tibble: 1 x 8\n",
      "  term       estimate std.error statistic p.value    or conf.low conf.high\n",
      "  <chr>         <dbl>     <dbl>     <dbl> <chr>   <dbl>    <dbl>     <dbl>\n",
      "1 markerHigh    -0.19     0.290     -0.65 0.51     0.83     0.46      1.46\n"
     ]
    }
   ],
   "source": [
    "OUTCOME %>% OR(death ~ marker)"
   ]
  },
  {
   "cell_type": "markdown",
   "metadata": {
    "lines_to_next_cell": 0
   },
   "source": [
    "#### Adjusted model: age, pT stage and Fuhrman grade"
   ]
  },
  {
   "cell_type": "code",
   "execution_count": 41,
   "metadata": {},
   "outputs": [
    {
     "name": "stdout",
     "output_type": "stream",
     "text": [
      "# A tibble: 4 x 8\n",
      "  term            estimate std.error statistic p.value    or conf.low conf.high\n",
      "  <chr>              <dbl>     <dbl>     <dbl> <chr>   <dbl>    <dbl>     <dbl>\n",
      "1 markerHigh         -0.01      0.33    -0.04  0.97     0.99    0.51       1.9 \n",
      "2 age_groupOlder      0.1       0.32     0.290 0.77     1.11    0.580      2.09\n",
      "3 stage_group.L       0.42      0.25     1.66  0.096    1.52    0.93       2.52\n",
      "4 fuhrman_group.L     0.63      0.26     2.42  0.016    1.88    1.13       3.17\n"
     ]
    }
   ],
   "source": [
    "OUTCOME %>% OR(death ~ marker + age_group + stage_group + fuhrman_group)"
   ]
  },
  {
   "cell_type": "markdown",
   "metadata": {
    "lines_to_next_cell": 0
   },
   "source": [
    "### Cancer-related mortality\n",
    "#### Unadjusted model"
   ]
  },
  {
   "cell_type": "code",
   "execution_count": 42,
   "metadata": {},
   "outputs": [
    {
     "name": "stdout",
     "output_type": "stream",
     "text": [
      "# A tibble: 1 x 8\n",
      "  term       estimate std.error statistic p.value    or conf.low conf.high\n",
      "  <chr>         <dbl>     <dbl>     <dbl> <chr>   <dbl>    <dbl>     <dbl>\n",
      "1 markerHigh    -1.04      0.44     -2.38 0.017    0.35     0.14      0.82\n"
     ]
    }
   ],
   "source": [
    "OUTCOME %>% OR(dod ~ marker)"
   ]
  },
  {
   "cell_type": "markdown",
   "metadata": {
    "lines_to_next_cell": 0
   },
   "source": [
    "#### Adjusted model: age, pT stage and Fuhrman grade"
   ]
  },
  {
   "cell_type": "code",
   "execution_count": 43,
   "metadata": {},
   "outputs": [
    {
     "name": "stdout",
     "output_type": "stream",
     "text": [
      "# A tibble: 4 x 8\n",
      "  term            estimate std.error statistic p.value    or conf.low conf.high\n",
      "  <chr>              <dbl>     <dbl>     <dbl> <chr>   <dbl>    <dbl>     <dbl>\n",
      "1 markerHigh         -1.3       0.53     -2.46 0.014    0.27     0.09      0.74\n",
      "2 age_groupOlder     -0.9       0.53     -1.69 0.091    0.41     0.14      1.12\n",
      "3 stage_group.L       0.86      0.38      2.24 0.025    2.36     1.12      5.1 \n",
      "4 fuhrman_group.L     1.29      0.4       3.25 0.0012   3.63     1.71      8.26\n"
     ]
    }
   ],
   "source": [
    "OUTCOME %>% OR(dod ~ marker + age_group + stage_group + fuhrman_group)"
   ]
  },
  {
   "cell_type": "markdown",
   "metadata": {
    "lines_to_next_cell": 0
   },
   "source": [
    "# CD8-Ki67\n",
    "## Intratumoral lymphocytes"
   ]
  },
  {
   "cell_type": "code",
   "execution_count": 44,
   "metadata": {},
   "outputs": [],
   "source": [
    "OUTCOME <- OUTCOME %>% \n",
    "  mutate(marker = cd8ki67_intratumoral_level)"
   ]
  },
  {
   "cell_type": "markdown",
   "metadata": {
    "lines_to_next_cell": 0
   },
   "source": [
    "### Tumor progression\n",
    "#### Unadjusted model"
   ]
  },
  {
   "cell_type": "code",
   "execution_count": 45,
   "metadata": {},
   "outputs": [
    {
     "name": "stdout",
     "output_type": "stream",
     "text": [
      "# A tibble: 1 x 8\n",
      "  term       estimate std.error statistic p.value     or conf.low conf.high\n",
      "  <chr>         <dbl>     <dbl>     <dbl> <chr>    <dbl>    <dbl>     <dbl>\n",
      "1 markerHigh     1.59      0.37      4.28 0.000019   4.9     2.36      10.2\n"
     ]
    }
   ],
   "source": [
    "OUTCOME %>% OR(progression ~ marker)"
   ]
  },
  {
   "cell_type": "markdown",
   "metadata": {
    "lines_to_next_cell": 0
   },
   "source": [
    "#### Adjusted model: age, pT stage and Fuhrman grade"
   ]
  },
  {
   "cell_type": "code",
   "execution_count": 46,
   "metadata": {},
   "outputs": [
    {
     "name": "stdout",
     "output_type": "stream",
     "text": [
      "# A tibble: 4 x 8\n",
      "  term            estimate std.error statistic p.value     or conf.low conf.high\n",
      "  <chr>              <dbl>     <dbl>     <dbl> <chr>    <dbl>    <dbl>     <dbl>\n",
      "1 markerHigh          1.21      0.43      2.81 0.0050    3.35     1.44      7.83\n",
      "2 age_groupOlder      0.24      0.37      0.64 0.52      1.27     0.61      2.64\n",
      "3 stage_group.L      -0.45      0.31     -1.45 0.15      0.64     0.34      1.16\n",
      "4 fuhrman_group.L     1.41      0.33      4.29 0.000017  4.1      2.21      8.1 \n"
     ]
    }
   ],
   "source": [
    "OUTCOME %>% OR(progression ~ marker + age_group + stage_group + fuhrman_group)"
   ]
  },
  {
   "cell_type": "markdown",
   "metadata": {
    "lines_to_next_cell": 0
   },
   "source": [
    "### Overall mortality\n",
    "#### Unadjusted model"
   ]
  },
  {
   "cell_type": "code",
   "execution_count": 47,
   "metadata": {},
   "outputs": [
    {
     "name": "stdout",
     "output_type": "stream",
     "text": [
      "# A tibble: 1 x 8\n",
      "  term       estimate std.error statistic p.value    or conf.low conf.high\n",
      "  <chr>         <dbl>     <dbl>     <dbl> <chr>   <dbl>    <dbl>     <dbl>\n",
      "1 markerHigh     0.69      0.34      2.04 0.042    1.99     1.02      3.87\n"
     ]
    }
   ],
   "source": [
    "OUTCOME %>% OR(death ~ marker)"
   ]
  },
  {
   "cell_type": "markdown",
   "metadata": {
    "lines_to_next_cell": 0
   },
   "source": [
    "#### Adjusted model: age, pT stage and Fuhrman grade"
   ]
  },
  {
   "cell_type": "code",
   "execution_count": 48,
   "metadata": {},
   "outputs": [
    {
     "name": "stdout",
     "output_type": "stream",
     "text": [
      "# A tibble: 4 x 8\n",
      "  term            estimate std.error statistic p.value    or conf.low conf.high\n",
      "  <chr>              <dbl>     <dbl>     <dbl> <chr>   <dbl>    <dbl>     <dbl>\n",
      "1 markerHigh          0.19     0.39       0.5  0.62     1.21     0.56      2.58\n",
      "2 age_groupOlder      0.7      0.290      2.43 0.015    2.01     1.15      3.59\n",
      "3 stage_group.L       0.43     0.24       1.8  0.072    1.54     0.96      2.46\n",
      "4 fuhrman_group.L     0.52     0.23       2.24 0.025    1.68     1.07      2.63\n"
     ]
    }
   ],
   "source": [
    "OUTCOME %>% OR(death ~ marker + age_group + stage_group + fuhrman_group)"
   ]
  },
  {
   "cell_type": "markdown",
   "metadata": {
    "lines_to_next_cell": 0
   },
   "source": [
    "### Cancer-related mortality\n",
    "#### Unadjusted model"
   ]
  },
  {
   "cell_type": "code",
   "execution_count": 49,
   "metadata": {},
   "outputs": [
    {
     "name": "stdout",
     "output_type": "stream",
     "text": [
      "# A tibble: 1 x 8\n",
      "  term       estimate std.error statistic p.value    or conf.low conf.high\n",
      "  <chr>         <dbl>     <dbl>     <dbl> <chr>   <dbl>    <dbl>     <dbl>\n",
      "1 markerHigh     1.68       0.5      3.39 0.00070  5.37        2      14.3\n"
     ]
    }
   ],
   "source": [
    "OUTCOME %>% OR(dod ~ marker)"
   ]
  },
  {
   "cell_type": "markdown",
   "metadata": {
    "lines_to_next_cell": 0
   },
   "source": [
    "#### Adjusted model: age, pT stage and Fuhrman grade"
   ]
  },
  {
   "cell_type": "code",
   "execution_count": 50,
   "metadata": {},
   "outputs": [
    {
     "name": "stdout",
     "output_type": "stream",
     "text": [
      "# A tibble: 4 x 8\n",
      "  term            estimate std.error statistic p.value    or conf.low conf.high\n",
      "  <chr>              <dbl>     <dbl>     <dbl> <chr>   <dbl>    <dbl>     <dbl>\n",
      "1 markerHigh          1.28      0.6       2.12 0.034    3.6      1.09     12.0 \n",
      "2 age_groupOlder      0.03      0.45      0.07 0.94     1.03     0.42      2.53\n",
      "3 stage_group.L       0.84      0.34      2.51 0.012    2.32     1.2       4.5 \n",
      "4 fuhrman_group.L     1.21      0.35      3.47 0.00052  3.35     1.73      6.9 \n"
     ]
    }
   ],
   "source": [
    "OUTCOME %>% OR(dod ~ marker + age_group + stage_group + fuhrman_group)"
   ]
  },
  {
   "cell_type": "markdown",
   "metadata": {
    "lines_to_next_cell": 0
   },
   "source": [
    "## Peritumoral lymphocytes"
   ]
  },
  {
   "cell_type": "code",
   "execution_count": 51,
   "metadata": {},
   "outputs": [
    {
     "data": {
      "text/plain": [
       "\n",
       " Low High <NA> \n",
       " 148    9  128 "
      ]
     },
     "metadata": {},
     "output_type": "display_data"
    }
   ],
   "source": [
    "OUTCOME <- OUTCOME %>% \n",
    "  mutate(marker = cd8ki67_peritumoral_level)\n",
    "\n",
    "# Note: Not evaluable due to small number of measurements corresponding all to high expression values\n",
    "table(OUTCOME$marker, useNA = \"ifany\")"
   ]
  },
  {
   "cell_type": "markdown",
   "metadata": {
    "lines_to_next_cell": 0
   },
   "source": [
    "### Tumor progression\n",
    "#### Unadjusted model"
   ]
  },
  {
   "cell_type": "code",
   "execution_count": 52,
   "metadata": {},
   "outputs": [
    {
     "name": "stdout",
     "output_type": "stream",
     "text": [
      "# A tibble: 1 x 8\n",
      "  term       estimate std.error statistic p.value    or conf.low conf.high\n",
      "  <chr>         <dbl>     <dbl>     <dbl> <chr>   <dbl>    <dbl>     <dbl>\n",
      "1 markerHigh     1.85      0.71      2.61 0.0090   6.36     1.57      27.4\n"
     ]
    }
   ],
   "source": [
    "OUTCOME %>% OR(progression ~ marker)"
   ]
  },
  {
   "cell_type": "markdown",
   "metadata": {
    "lines_to_next_cell": 0
   },
   "source": [
    "#### Adjusted model: age, pT stage and Fuhrman grade"
   ]
  },
  {
   "cell_type": "code",
   "execution_count": 53,
   "metadata": {},
   "outputs": [
    {
     "name": "stdout",
     "output_type": "stream",
     "text": [
      "# A tibble: 4 x 8\n",
      "  term            estimate std.error statistic p.value    or conf.low conf.high\n",
      "  <chr>              <dbl>     <dbl>     <dbl> <chr>   <dbl>    <dbl>     <dbl>\n",
      "1 markerHigh          1.9       0.81     2.35  0.019    6.69    1.39      35.4 \n",
      "2 age_groupOlder      0.5       0.47     1.05  0.29     1.65    0.65       4.24\n",
      "3 stage_group.L       0.23      0.4      0.580 0.56     1.26    0.580      2.77\n",
      "4 fuhrman_group.L     1.16      0.41     2.79  0.0052   3.19    1.44       7.43\n"
     ]
    }
   ],
   "source": [
    "OUTCOME %>% OR(progression ~ marker + age_group + stage_group + fuhrman_group)"
   ]
  },
  {
   "cell_type": "markdown",
   "metadata": {
    "lines_to_next_cell": 0
   },
   "source": [
    "### Overall mortality\n",
    "#### Unadjusted model"
   ]
  },
  {
   "cell_type": "code",
   "execution_count": 54,
   "metadata": {},
   "outputs": [
    {
     "name": "stdout",
     "output_type": "stream",
     "text": [
      "# A tibble: 1 x 8\n",
      "  term       estimate std.error statistic p.value    or conf.low conf.high\n",
      "  <chr>         <dbl>     <dbl>     <dbl> <chr>   <dbl>    <dbl>     <dbl>\n",
      "1 markerHigh     0.75      0.69      1.08 0.28     2.12     0.54      8.85\n"
     ]
    }
   ],
   "source": [
    "OUTCOME %>% OR(death ~ marker)"
   ]
  },
  {
   "cell_type": "markdown",
   "metadata": {
    "lines_to_next_cell": 0
   },
   "source": [
    "#### Adjusted model: age, pT stage and Fuhrman grade"
   ]
  },
  {
   "cell_type": "code",
   "execution_count": 55,
   "metadata": {},
   "outputs": [
    {
     "name": "stdout",
     "output_type": "stream",
     "text": [
      "# A tibble: 4 x 8\n",
      "  term            estimate std.error statistic p.value    or conf.low conf.high\n",
      "  <chr>              <dbl>     <dbl>     <dbl> <chr>   <dbl>    <dbl>     <dbl>\n",
      "1 markerHigh          0.9       0.75      1.2  0.23     2.46     0.56     11.5 \n",
      "2 age_groupOlder      0.47      0.38      1.24 0.22     1.6      0.77      3.38\n",
      "3 stage_group.L       0.38      0.31      1.21 0.22     1.46     0.79      2.7 \n",
      "4 fuhrman_group.L     0.75      0.31      2.45 0.014    2.12     1.17      3.93\n"
     ]
    }
   ],
   "source": [
    "OUTCOME %>% OR(death ~ marker + age_group + stage_group + fuhrman_group)"
   ]
  },
  {
   "cell_type": "markdown",
   "metadata": {
    "lines_to_next_cell": 0
   },
   "source": [
    "### Cancer-related mortality\n",
    "#### Unadjusted model"
   ]
  },
  {
   "cell_type": "code",
   "execution_count": 56,
   "metadata": {},
   "outputs": [
    {
     "name": "stdout",
     "output_type": "stream",
     "text": [
      "# A tibble: 1 x 8\n",
      "  term       estimate std.error statistic p.value    or conf.low conf.high\n",
      "  <chr>         <dbl>     <dbl>     <dbl> <chr>   <dbl>    <dbl>     <dbl>\n",
      "1 markerHigh     1.26      0.77      1.64 0.10     3.53     0.68      15.7\n"
     ]
    }
   ],
   "source": [
    "OUTCOME %>% OR(dod ~ marker)"
   ]
  },
  {
   "cell_type": "markdown",
   "metadata": {
    "lines_to_next_cell": 0
   },
   "source": [
    "#### Adjusted model: age, pT stage and Fuhrman grade"
   ]
  },
  {
   "cell_type": "code",
   "execution_count": 57,
   "metadata": {},
   "outputs": [
    {
     "name": "stdout",
     "output_type": "stream",
     "text": [
      "# A tibble: 4 x 8\n",
      "  term            estimate std.error statistic p.value    or conf.low conf.high\n",
      "  <chr>              <dbl>     <dbl>     <dbl> <chr>   <dbl>    <dbl>     <dbl>\n",
      "1 markerHigh          1.1       0.89      1.24 0.22     3        0.48     16.9 \n",
      "2 age_groupOlder     -0.87      0.56     -1.55 0.12     0.42     0.13      1.22\n",
      "3 stage_group.L       1.05      0.43      2.44 0.015    2.86     1.25      6.79\n",
      "4 fuhrman_group.L     0.8       0.42      1.91 0.056    2.23     0.98      5.17\n"
     ]
    }
   ],
   "source": [
    "OUTCOME %>% OR(dod ~ marker + age_group + stage_group + fuhrman_group)"
   ]
  },
  {
   "cell_type": "markdown",
   "metadata": {
    "lines_to_next_cell": 0
   },
   "source": [
    "# Ki67\n",
    "## Intratumoral lymphocytes"
   ]
  },
  {
   "cell_type": "code",
   "execution_count": 58,
   "metadata": {},
   "outputs": [],
   "source": [
    "OUTCOME <- OUTCOME %>% \n",
    "  mutate(marker = ki67_intratumoral_level)"
   ]
  },
  {
   "cell_type": "markdown",
   "metadata": {
    "lines_to_next_cell": 0
   },
   "source": [
    "### Tumor progression\n",
    "#### Unadjusted model"
   ]
  },
  {
   "cell_type": "code",
   "execution_count": 59,
   "metadata": {},
   "outputs": [
    {
     "name": "stdout",
     "output_type": "stream",
     "text": [
      "# A tibble: 1 x 8\n",
      "  term       estimate std.error statistic p.value    or conf.low conf.high\n",
      "  <chr>         <dbl>     <dbl>     <dbl> <chr>   <dbl>    <dbl>     <dbl>\n",
      "1 markerHigh     0.59      0.31      1.87 0.061     1.8     0.97      3.35\n"
     ]
    }
   ],
   "source": [
    "OUTCOME %>% OR(progression ~ marker)"
   ]
  },
  {
   "cell_type": "markdown",
   "metadata": {
    "lines_to_next_cell": 0
   },
   "source": [
    "#### Adjusted model: age, pT stage and Fuhrman grade"
   ]
  },
  {
   "cell_type": "code",
   "execution_count": 60,
   "metadata": {},
   "outputs": [
    {
     "name": "stdout",
     "output_type": "stream",
     "text": [
      "# A tibble: 4 x 8\n",
      "  term            estimate std.error statistic p.value     or conf.low conf.high\n",
      "  <chr>              <dbl>     <dbl>     <dbl> <chr>    <dbl>    <dbl>     <dbl>\n",
      "1 markerHigh          0.19      0.34      0.54 0.59      1.21     0.61      2.37\n",
      "2 age_groupOlder      0.17      0.34      0.49 0.63      1.19     0.61      2.31\n",
      "3 stage_group.L      -0.07      0.26     -0.28 0.78      0.93     0.55      1.56\n",
      "4 fuhrman_group.L     1.49      0.32      4.67 0.00000…  4.44     2.44      8.62\n"
     ]
    }
   ],
   "source": [
    "OUTCOME %>% OR(progression ~ marker + age_group + stage_group + fuhrman_group)"
   ]
  },
  {
   "cell_type": "markdown",
   "metadata": {
    "lines_to_next_cell": 0
   },
   "source": [
    "### Overall mortality\n",
    "#### Unadjusted model"
   ]
  },
  {
   "cell_type": "code",
   "execution_count": 61,
   "metadata": {},
   "outputs": [
    {
     "name": "stdout",
     "output_type": "stream",
     "text": [
      "# A tibble: 1 x 8\n",
      "  term       estimate std.error statistic p.value    or conf.low conf.high\n",
      "  <chr>         <dbl>     <dbl>     <dbl> <chr>   <dbl>    <dbl>     <dbl>\n",
      "1 markerHigh     0.85      0.26      3.29 0.0010   2.34     1.41      3.92\n"
     ]
    }
   ],
   "source": [
    "OUTCOME %>% OR(death ~ marker)"
   ]
  },
  {
   "cell_type": "markdown",
   "metadata": {
    "lines_to_next_cell": 0
   },
   "source": [
    "#### Adjusted model: age, pT stage and Fuhrman grade"
   ]
  },
  {
   "cell_type": "code",
   "execution_count": 62,
   "metadata": {},
   "outputs": [
    {
     "name": "stdout",
     "output_type": "stream",
     "text": [
      "# A tibble: 4 x 8\n",
      "  term            estimate std.error statistic p.value    or conf.low conf.high\n",
      "  <chr>              <dbl>     <dbl>     <dbl> <chr>   <dbl>    <dbl>     <dbl>\n",
      "1 markerHigh          0.71     0.290      2.47 0.014    2.03     1.16      3.56\n",
      "2 age_groupOlder      0.67     0.28       2.34 0.019    1.95     1.12      3.43\n",
      "3 stage_group.L       0.45     0.23       1.94 0.053    1.57     0.99      2.46\n",
      "4 fuhrman_group.L     0.51     0.23       2.27 0.023    1.67     1.07      2.6 \n"
     ]
    }
   ],
   "source": [
    "OUTCOME %>% OR(death ~ marker + age_group + stage_group + fuhrman_group)"
   ]
  },
  {
   "cell_type": "markdown",
   "metadata": {
    "lines_to_next_cell": 0
   },
   "source": [
    "### Cancer-related mortality\n",
    "#### Unadjusted model"
   ]
  },
  {
   "cell_type": "code",
   "execution_count": 63,
   "metadata": {},
   "outputs": [
    {
     "name": "stdout",
     "output_type": "stream",
     "text": [
      "# A tibble: 1 x 8\n",
      "  term       estimate std.error statistic p.value    or conf.low conf.high\n",
      "  <chr>         <dbl>     <dbl>     <dbl> <chr>   <dbl>    <dbl>     <dbl>\n",
      "1 markerHigh     1.13      0.37      3.04 0.0024    3.1     1.51      6.58\n"
     ]
    }
   ],
   "source": [
    "OUTCOME %>% OR(dod ~ marker)"
   ]
  },
  {
   "cell_type": "markdown",
   "metadata": {
    "lines_to_next_cell": 0
   },
   "source": [
    "#### Adjusted model: age, pT stage and Fuhrman grade"
   ]
  },
  {
   "cell_type": "code",
   "execution_count": 64,
   "metadata": {},
   "outputs": [
    {
     "name": "stdout",
     "output_type": "stream",
     "text": [
      "# A tibble: 4 x 8\n",
      "  term            estimate std.error statistic p.value    or conf.low conf.high\n",
      "  <chr>              <dbl>     <dbl>     <dbl> <chr>   <dbl>    <dbl>     <dbl>\n",
      "1 markerHigh          0.68      0.43      1.61 0.11     1.97     0.86      4.62\n",
      "2 age_groupOlder     -0.14      0.44     -0.31 0.76     0.87     0.36      2.07\n",
      "3 stage_group.L       0.99      0.32      3.11 0.0019   2.69     1.45      5.05\n",
      "4 fuhrman_group.L     1.15      0.34      3.37 0.00075  3.16     1.65      6.41\n"
     ]
    }
   ],
   "source": [
    "OUTCOME %>% OR(dod ~ marker + age_group + stage_group + fuhrman_group)"
   ]
  },
  {
   "cell_type": "markdown",
   "metadata": {
    "lines_to_next_cell": 0
   },
   "source": [
    "# CD8/FOXP3 ratio\n",
    "## Intratumoral lymphocytes"
   ]
  },
  {
   "cell_type": "code",
   "execution_count": 65,
   "metadata": {},
   "outputs": [],
   "source": [
    "OUTCOME <- OUTCOME %>% \n",
    "  mutate(marker = cd8foxp3_intratumoral)"
   ]
  },
  {
   "cell_type": "markdown",
   "metadata": {
    "lines_to_next_cell": 0
   },
   "source": [
    "### Tumor progression\n",
    "#### Unadjusted model"
   ]
  },
  {
   "cell_type": "code",
   "execution_count": 66,
   "metadata": {},
   "outputs": [
    {
     "name": "stdout",
     "output_type": "stream",
     "text": [
      "# A tibble: 1 x 8\n",
      "  term             estimate std.error statistic p.value    or conf.low conf.high\n",
      "  <chr>               <dbl>     <dbl>     <dbl> <chr>   <dbl>    <dbl>     <dbl>\n",
      "1 markerCD8 > FOX…    -0.59      0.36     -1.62 0.10     0.55     0.28      1.16\n"
     ]
    }
   ],
   "source": [
    "OUTCOME %>% OR(progression ~ marker)"
   ]
  },
  {
   "cell_type": "markdown",
   "metadata": {
    "lines_to_next_cell": 0
   },
   "source": [
    "#### Adjusted model: age, pT stage and Fuhrman grade"
   ]
  },
  {
   "cell_type": "code",
   "execution_count": 67,
   "metadata": {},
   "outputs": [
    {
     "name": "stdout",
     "output_type": "stream",
     "text": [
      "# A tibble: 4 x 8\n",
      "  term           estimate std.error statistic p.value      or conf.low conf.high\n",
      "  <chr>             <dbl>     <dbl>     <dbl> <chr>     <dbl>    <dbl>     <dbl>\n",
      "1 markerCD8 > F…    -0.82      0.42     -1.97 0.048      0.44     0.19      1   \n",
      "2 age_groupOlder     0.22      0.34      0.64 0.52       1.25     0.63      2.46\n",
      "3 stage_group.L     -0.14      0.27     -0.53 0.59       0.87     0.51      1.46\n",
      "4 fuhrman_group…     1.56      0.32      4.91 0.000000…  4.76     2.63      9.24\n"
     ]
    }
   ],
   "source": [
    "OUTCOME %>% OR(progression ~ marker + age_group + stage_group + fuhrman_group)"
   ]
  },
  {
   "cell_type": "markdown",
   "metadata": {
    "lines_to_next_cell": 0
   },
   "source": [
    "### Overall mortality\n",
    "#### Unadjusted model"
   ]
  },
  {
   "cell_type": "code",
   "execution_count": 68,
   "metadata": {},
   "outputs": [
    {
     "name": "stdout",
     "output_type": "stream",
     "text": [
      "# A tibble: 1 x 8\n",
      "  term             estimate std.error statistic p.value    or conf.low conf.high\n",
      "  <chr>               <dbl>     <dbl>     <dbl> <chr>   <dbl>    <dbl>     <dbl>\n",
      "1 markerCD8 > FOX…    -0.67      0.31     -2.12 0.034    0.51     0.28      0.95\n"
     ]
    }
   ],
   "source": [
    "OUTCOME %>% OR(death ~ marker)"
   ]
  },
  {
   "cell_type": "markdown",
   "metadata": {
    "lines_to_next_cell": 0
   },
   "source": [
    "#### Adjusted model: age, pT stage and Fuhrman grade"
   ]
  },
  {
   "cell_type": "code",
   "execution_count": 69,
   "metadata": {},
   "outputs": [
    {
     "name": "stdout",
     "output_type": "stream",
     "text": [
      "# A tibble: 4 x 8\n",
      "  term             estimate std.error statistic p.value    or conf.low conf.high\n",
      "  <chr>               <dbl>     <dbl>     <dbl> <chr>   <dbl>    <dbl>     <dbl>\n",
      "1 markerCD8 > FOX…    -0.51      0.36     -1.41 0.16     0.6      0.3       1.23\n",
      "2 age_groupOlder       0.7       0.28      2.47 0.014    2.01     1.16      3.55\n",
      "3 stage_group.L        0.42      0.23      1.83 0.068    1.52     0.97      2.41\n",
      "4 fuhrman_group.L      0.61      0.22      2.73 0.0063   1.84     1.19      2.87\n"
     ]
    }
   ],
   "source": [
    "OUTCOME %>% OR(death ~ marker + age_group + stage_group + fuhrman_group)"
   ]
  },
  {
   "cell_type": "markdown",
   "metadata": {
    "lines_to_next_cell": 0
   },
   "source": [
    "### Cancer-related mortality\n",
    "#### Unadjusted model"
   ]
  },
  {
   "cell_type": "code",
   "execution_count": 70,
   "metadata": {},
   "outputs": [
    {
     "name": "stdout",
     "output_type": "stream",
     "text": [
      "# A tibble: 1 x 8\n",
      "  term             estimate std.error statistic p.value    or conf.low conf.high\n",
      "  <chr>               <dbl>     <dbl>     <dbl> <chr>   <dbl>    <dbl>     <dbl>\n",
      "1 markerCD8 > FOX…    -0.45      0.43     -1.04 0.30     0.64     0.28      1.55\n"
     ]
    }
   ],
   "source": [
    "OUTCOME %>% OR(dod ~ marker)"
   ]
  },
  {
   "cell_type": "markdown",
   "metadata": {
    "lines_to_next_cell": 0
   },
   "source": [
    "#### Adjusted model: age, pT stage and Fuhrman grade"
   ]
  },
  {
   "cell_type": "code",
   "execution_count": 71,
   "metadata": {},
   "outputs": [
    {
     "name": "stdout",
     "output_type": "stream",
     "text": [
      "# A tibble: 4 x 8\n",
      "  term             estimate std.error statistic p.value    or conf.low conf.high\n",
      "  <chr>               <dbl>     <dbl>     <dbl> <chr>   <dbl>    <dbl>     <dbl>\n",
      "1 markerCD8 > FOX…    -0.3       0.51    -0.580 0.56     0.74     0.28      2.09\n",
      "2 age_groupOlder      -0.12      0.44    -0.28  0.78     0.89     0.37      2.09\n",
      "3 stage_group.L        0.96      0.32     2.99  0.0028   2.61     1.4       4.95\n",
      "4 fuhrman_group.L      1.28      0.34     3.73  0.00019  3.6      1.87      7.23\n"
     ]
    }
   ],
   "source": [
    "OUTCOME %>% OR(dod ~ marker + age_group + stage_group + fuhrman_group)"
   ]
  },
  {
   "cell_type": "markdown",
   "metadata": {
    "lines_to_next_cell": 0
   },
   "source": [
    "## Peritumoral lymphocytes"
   ]
  },
  {
   "cell_type": "code",
   "execution_count": 72,
   "metadata": {},
   "outputs": [],
   "source": [
    "OUTCOME <- OUTCOME %>% \n",
    "  mutate(marker = cd8foxp3_peritumoral)"
   ]
  },
  {
   "cell_type": "markdown",
   "metadata": {
    "lines_to_next_cell": 0
   },
   "source": [
    "### Tumor progression\n",
    "#### Unadjusted model"
   ]
  },
  {
   "cell_type": "code",
   "execution_count": 73,
   "metadata": {},
   "outputs": [
    {
     "name": "stdout",
     "output_type": "stream",
     "text": [
      "# A tibble: 1 x 8\n",
      "  term             estimate std.error statistic p.value    or conf.low conf.high\n",
      "  <chr>               <dbl>     <dbl>     <dbl> <chr>   <dbl>    <dbl>     <dbl>\n",
      "1 markerCD8 > FOX…    -1.03      0.35     -2.97 0.0029   0.36     0.18       0.7\n"
     ]
    }
   ],
   "source": [
    "OUTCOME %>% OR(progression ~ marker)"
   ]
  },
  {
   "cell_type": "markdown",
   "metadata": {
    "lines_to_next_cell": 0
   },
   "source": [
    "#### Adjusted model: age, pT stage and Fuhrman grade"
   ]
  },
  {
   "cell_type": "code",
   "execution_count": 74,
   "metadata": {},
   "outputs": [
    {
     "name": "stdout",
     "output_type": "stream",
     "text": [
      "# A tibble: 4 x 8\n",
      "  term             estimate std.error statistic p.value    or conf.low conf.high\n",
      "  <chr>               <dbl>     <dbl>     <dbl> <chr>   <dbl>    <dbl>     <dbl>\n",
      "1 markerCD8 > FOX…    -0.75      0.39     -1.93 0.053    0.47     0.22      1.01\n",
      "2 age_groupOlder      -0.19      0.39     -0.49 0.62     0.83     0.39      1.76\n",
      "3 stage_group.L       -0.27      0.3      -0.9  0.37     0.76     0.43      1.37\n",
      "4 fuhrman_group.L      1.38      0.37      3.77 0.00017  3.97     2         8.56\n"
     ]
    }
   ],
   "source": [
    "OUTCOME %>% OR(progression ~ marker + age_group + stage_group + fuhrman_group)"
   ]
  },
  {
   "cell_type": "markdown",
   "metadata": {
    "lines_to_next_cell": 0
   },
   "source": [
    "### Overall mortality\n",
    "#### Unadjusted model"
   ]
  },
  {
   "cell_type": "code",
   "execution_count": 75,
   "metadata": {},
   "outputs": [
    {
     "name": "stdout",
     "output_type": "stream",
     "text": [
      "# A tibble: 1 x 8\n",
      "  term             estimate std.error statistic p.value    or conf.low conf.high\n",
      "  <chr>               <dbl>     <dbl>     <dbl> <chr>   <dbl>    <dbl>     <dbl>\n",
      "1 markerCD8 > FOX…    -0.65       0.3     -2.17 0.030    0.52    0.290      0.94\n"
     ]
    }
   ],
   "source": [
    "OUTCOME %>% OR(death ~ marker)"
   ]
  },
  {
   "cell_type": "markdown",
   "metadata": {
    "lines_to_next_cell": 0
   },
   "source": [
    "#### Adjusted model: age, pT stage and Fuhrman grade"
   ]
  },
  {
   "cell_type": "code",
   "execution_count": 76,
   "metadata": {},
   "outputs": [
    {
     "name": "stdout",
     "output_type": "stream",
     "text": [
      "# A tibble: 4 x 8\n",
      "  term             estimate std.error statistic p.value    or conf.low conf.high\n",
      "  <chr>               <dbl>     <dbl>     <dbl> <chr>   <dbl>    <dbl>     <dbl>\n",
      "1 markerCD8 > FOX…    -0.45      0.34     -1.34 0.18     0.64    0.33       1.24\n",
      "2 age_groupOlder       0.09      0.33      0.26 0.79     1.09    0.570      2.08\n",
      "3 stage_group.L        0.47      0.26      1.81 0.070    1.6     0.96       2.67\n",
      "4 fuhrman_group.L      0.48      0.27      1.79 0.074    1.62    0.95       2.76\n"
     ]
    }
   ],
   "source": [
    "OUTCOME %>% OR(death ~ marker + age_group + stage_group + fuhrman_group)"
   ]
  },
  {
   "cell_type": "markdown",
   "metadata": {
    "lines_to_next_cell": 0
   },
   "source": [
    "### Cancer-related mortality\n",
    "#### Unadjusted model"
   ]
  },
  {
   "cell_type": "code",
   "execution_count": 77,
   "metadata": {},
   "outputs": [
    {
     "name": "stdout",
     "output_type": "stream",
     "text": [
      "# A tibble: 1 x 8\n",
      "  term             estimate std.error statistic p.value    or conf.low conf.high\n",
      "  <chr>               <dbl>     <dbl>     <dbl> <chr>   <dbl>    <dbl>     <dbl>\n",
      "1 markerCD8 > FOX…    -1.81      0.46     -3.95 0.0000…  0.16     0.06      0.39\n"
     ]
    }
   ],
   "source": [
    "OUTCOME %>% OR(dod ~ marker)"
   ]
  },
  {
   "cell_type": "markdown",
   "metadata": {
    "lines_to_next_cell": 0
   },
   "source": [
    "#### Adjusted model: age, pT stage and Fuhrman grade"
   ]
  },
  {
   "cell_type": "code",
   "execution_count": 78,
   "metadata": {},
   "outputs": [
    {
     "name": "stdout",
     "output_type": "stream",
     "text": [
      "# A tibble: 4 x 8\n",
      "  term             estimate std.error statistic p.value    or conf.low conf.high\n",
      "  <chr>               <dbl>     <dbl>     <dbl> <chr>   <dbl>    <dbl>     <dbl>\n",
      "1 markerCD8 > FOX…    -1.84      0.54     -3.43 0.00059  0.16     0.05      0.44\n",
      "2 age_groupOlder      -0.84      0.56     -1.5  0.13     0.43     0.14      1.25\n",
      "3 stage_group.L        0.81      0.41      1.99 0.047    2.25     1.01      5.1 \n",
      "4 fuhrman_group.L      1.15      0.41      2.79 0.0053   3.16     1.43      7.34\n"
     ]
    }
   ],
   "source": [
    "OUTCOME %>% OR(dod ~ marker + age_group + stage_group + fuhrman_group)"
   ]
  }
 ],
 "metadata": {
  "jupytext": {
   "formats": "ipynb,Rmd"
  },
  "kernelspec": {
   "display_name": "R",
   "language": "R",
   "name": "ir"
  },
  "language_info": {
   "codemirror_mode": "r",
   "file_extension": ".r",
   "mimetype": "text/x-r-source",
   "name": "R",
   "pygments_lexer": "r",
   "version": "3.5.3"
  },
  "toc": {
   "base_numbering": 1,
   "nav_menu": {},
   "number_sections": true,
   "sideBar": true,
   "skip_h1_title": false,
   "title_cell": "Table of Contents",
   "title_sidebar": "Contents",
   "toc_cell": false,
   "toc_position": {},
   "toc_section_display": true,
   "toc_window_display": true
  }
 },
 "nbformat": 4,
 "nbformat_minor": 2
}
